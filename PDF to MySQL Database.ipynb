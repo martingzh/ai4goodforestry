{
 "cells": [
  {
   "cell_type": "code",
   "execution_count": 1,
   "metadata": {},
   "outputs": [],
   "source": [
    "import storage as storage\n",
    "import os\n",
    "import mysql.connector\n",
    "\n",
    "mydb = mysql.connector.connect(\n",
    "  host=\"localhost\",\n",
    "  user=\"root\",\n",
    "  passwd=\"XXX\",\n",
    "  database=\"forestry\"\n",
    ")\n",
    "\n",
    "mycursor = mydb.cursor()\n",
    "\n",
    "def getCountries(top_three):\n",
    "    country1 = None\n",
    "    country2 = None\n",
    "    country3 = None\n",
    "    if len(top_three) == 1:\n",
    "        country1 = top_three[0]\n",
    "    if len(top_three) == 2:\n",
    "        country2 = top_three[1]\n",
    "    elif len(top_three) == 3:\n",
    "        country3 = top_three[2]\n",
    "        \n",
    "    return country1, country2, country3\n",
    "\n",
    "def getFirst(lst):\n",
    "    result = None\n",
    "    if len(lst) > 0:\n",
    "        result = lst[0]\n",
    "    return result\n",
    "\n",
    "def insertPaper(paper):\n",
    "    sql_insert = \"INSERT INTO PolicyPapers \" \\\n",
    "        \"(filename, country1, country2, country3, \" \\\n",
    "        \"date, title, extractedText, cleanedText)\" \\\n",
    "        \"VALUES (%s, %s, %s, %s, %s, %s, %s, %s)\"\n",
    "\n",
    "    country1, country2, country3 = getCountries(paper.country[:3])\n",
    "\n",
    "    val = (paper.filename, country1, country2, country3, getFirst(paper.date),\n",
    "        getFirst(paper.title), ' '.join(paper.extractedText), None)\n",
    "    mycursor.execute(sql_insert, val)\n",
    "\n",
    "    mydb.commit()\n",
    "\n",
    "def inDatabase(filename):\n",
    "    mycursor.execute(\"SELECT filename FROM PolicyPapers WHERE filename='%s'\" % filename)\n",
    "    return mycursor.fetchone()"
   ]
  },
  {
   "cell_type": "code",
   "execution_count": 7,
   "metadata": {},
   "outputs": [],
   "source": [
    "# Might need to generalize multiple levels of directories\n",
    "def extractPolicyPapersFromDirectory(directory_path):    \n",
    "    # Retrieve file names inside folder\n",
    "    files = os.listdir(directory_path)\n",
    "    print(\"Folder now open.\")\n",
    " \n",
    "    for file in files:\n",
    "        if file == \".DS_Store\":\n",
    "            continue\n",
    "\n",
    "        file_path = directory_path + \"/\" + file\n",
    "        if not inDatabase(storage.getFileName(file_path)):\n",
    "            print(\"PROCESSING\", file_path)\n",
    "            paper = storage.PolicyPaper(file_path)\n",
    "            insertPaper(paper)\n",
    "    print(\"EXTRACTION COMPLETE\")\n",
    "    \n",
    "extractPolicyPapersFromDirectory(\"sample data/Kenya\")"
   ]
  },
  {
   "cell_type": "code",
   "execution_count": 8,
   "metadata": {},
   "outputs": [
    {
     "name": "stdout",
     "output_type": "stream",
     "text": [
      "Folder now open.\n",
      "EXTRACTION COMPLETE\n"
     ]
    }
   ],
   "source": []
  },
  {
   "cell_type": "code",
   "execution_count": null,
   "metadata": {},
   "outputs": [],
   "source": []
  }
 ],
 "metadata": {
  "kernelspec": {
   "display_name": "Python 3",
   "language": "python",
   "name": "python3"
  },
  "language_info": {
   "codemirror_mode": {
    "name": "ipython",
    "version": 3
   },
   "file_extension": ".py",
   "mimetype": "text/x-python",
   "name": "python",
   "nbconvert_exporter": "python",
   "pygments_lexer": "ipython3",
   "version": "3.7.1"
  }
 },
 "nbformat": 4,
 "nbformat_minor": 2
}
