{
 "cells": [
  {
   "cell_type": "code",
   "execution_count": 1,
   "metadata": {},
   "outputs": [],
   "source": [
    "import pickle\n",
    "\n",
    "# with open('page_topic_map.pickle', 'wb') as handle:\n",
    "#     pickle.dump(page_topic_map, handle, protocol=pickle.HIGHEST_PROTOCOL)\n",
    "\n",
    "with open('page_topic_map.pickle', 'rb') as handle:\n",
    "    page_topic_map = pickle.load(handle)\n"
   ]
  },
  {
   "cell_type": "code",
   "execution_count": 2,
   "metadata": {},
   "outputs": [],
   "source": [
    "\n",
    "import jsons\n",
    "reformat = jsons.dump(page_topic_map)"
   ]
  },
  {
   "cell_type": "code",
   "execution_count": 5,
   "metadata": {},
   "outputs": [],
   "source": [
    "\n",
    "from PyPDF2 import PdfFileWriter, PdfFileReader\n",
    "import io\n",
    "from reportlab.pdfgen import canvas\n",
    "from reportlab.lib.pagesizes import letter\n",
    "\n",
    "\n",
    "def WriteOnPdf (targetpdf, pageTopicsDict):\n",
    "    if targetpdf == 'State Action Plan_Andhra-pradesh_2012.pdf' or targetpdf == 'State Action Plan_Madhya-Pradesh_2014.pdf':\n",
    "        return\n",
    "    existing_pdf = PdfFileReader(open(targetpdf, \"rb\"))\n",
    "    output = PdfFileWriter()\n",
    "\n",
    "    for i in range(existing_pdf.numPages):\n",
    "        if i in set(pageTopicsDict.keys()):\n",
    "            packet = io.BytesIO()\n",
    "            # Create a new PDF with Reportlab\n",
    "            can = canvas.Canvas(packet, pagesize=letter)\n",
    "            can.setFillColorRGB(1,0,0) #choose your font colour\n",
    "            can.setFont('Helvetica', 13)\n",
    "            can.drawString(5, 830, pageTopicsDict[i])\n",
    "            can.save()\n",
    "\n",
    "            # Move to the beginning of the StringIO buffer\n",
    "            packet.seek(0)\n",
    "            new_pdf = PdfFileReader(packet)\n",
    "            page = existing_pdf.getPage(i)\n",
    "            page.mergePage(new_pdf.getPage(0))# index out of range\n",
    "            output.addPage(page)    \n",
    "        \n",
    "    # Finally, write \"output\" to a real file\n",
    "    outputStream = open(targetpdf+\"with topics.pdf\", \"wb\")\n",
    "    output.write(outputStream)\n",
    "    outputStream.close()"
   ]
  },
  {
   "cell_type": "code",
   "execution_count": 6,
   "metadata": {},
   "outputs": [
    {
     "name": "stderr",
     "output_type": "stream",
     "text": [
      "PdfReadWarning: Xref table not zero-indexed. ID numbers for objects will be corrected. [pdf.py:1736]\n"
     ]
    },
    {
     "ename": "FileNotFoundError",
     "evalue": "[Errno 2] No such file or directory: 'State Action Plan_Andhra-pradesh_2012.pdf'",
     "output_type": "error",
     "traceback": [
      "\u001b[0;31m----------------------------------------------------\u001b[0m",
      "\u001b[0;31mFileNotFoundError\u001b[0m  Traceback (most recent call last)",
      "\u001b[0;32m<ipython-input-6-f7fdb2b3fad7>\u001b[0m in \u001b[0;36m<module>\u001b[0;34m()\u001b[0m\n\u001b[1;32m      5\u001b[0m     \u001b[0;32mfor\u001b[0m \u001b[0mi\u001b[0m \u001b[0;32min\u001b[0m \u001b[0mreformat\u001b[0m\u001b[0;34m[\u001b[0m\u001b[0moneDoc\u001b[0m\u001b[0;34m]\u001b[0m\u001b[0;34m:\u001b[0m\u001b[0;34m\u001b[0m\u001b[0;34m\u001b[0m\u001b[0m\n\u001b[1;32m      6\u001b[0m         \u001b[0mreformatDict\u001b[0m\u001b[0;34m[\u001b[0m\u001b[0mi\u001b[0m\u001b[0;34m[\u001b[0m\u001b[0;36m0\u001b[0m\u001b[0;34m]\u001b[0m\u001b[0;34m]\u001b[0m \u001b[0;34m=\u001b[0m \u001b[0;34m' '\u001b[0m\u001b[0;34m.\u001b[0m\u001b[0mjoin\u001b[0m\u001b[0;34m(\u001b[0m\u001b[0mi\u001b[0m\u001b[0;34m[\u001b[0m\u001b[0;36m1\u001b[0m\u001b[0;34m]\u001b[0m\u001b[0;34m)\u001b[0m\u001b[0;34m\u001b[0m\u001b[0;34m\u001b[0m\u001b[0m\n\u001b[0;32m----> 7\u001b[0;31m     \u001b[0mWriteOnPdf\u001b[0m\u001b[0;34m(\u001b[0m\u001b[0moneDoc\u001b[0m\u001b[0;34m,\u001b[0m \u001b[0mreformatDict\u001b[0m\u001b[0;34m)\u001b[0m\u001b[0;34m\u001b[0m\u001b[0;34m\u001b[0m\u001b[0m\n\u001b[0m",
      "\u001b[0;32m<ipython-input-5-21c667c6c62d>\u001b[0m in \u001b[0;36mWriteOnPdf\u001b[0;34m(targetpdf, pageTopicsDict)\u001b[0m\n\u001b[1;32m      8\u001b[0m \u001b[0;32mdef\u001b[0m \u001b[0mWriteOnPdf\u001b[0m \u001b[0;34m(\u001b[0m\u001b[0mtargetpdf\u001b[0m\u001b[0;34m,\u001b[0m \u001b[0mpageTopicsDict\u001b[0m\u001b[0;34m)\u001b[0m\u001b[0;34m:\u001b[0m\u001b[0;34m\u001b[0m\u001b[0;34m\u001b[0m\u001b[0m\n\u001b[1;32m      9\u001b[0m \u001b[0;34m\u001b[0m\u001b[0m\n\u001b[0;32m---> 10\u001b[0;31m     \u001b[0mexisting_pdf\u001b[0m \u001b[0;34m=\u001b[0m \u001b[0mPdfFileReader\u001b[0m\u001b[0;34m(\u001b[0m\u001b[0mopen\u001b[0m\u001b[0;34m(\u001b[0m\u001b[0mtargetpdf\u001b[0m\u001b[0;34m,\u001b[0m \u001b[0;34m\"rb\"\u001b[0m\u001b[0;34m)\u001b[0m\u001b[0;34m)\u001b[0m\u001b[0;34m\u001b[0m\u001b[0;34m\u001b[0m\u001b[0m\n\u001b[0m\u001b[1;32m     11\u001b[0m     \u001b[0moutput\u001b[0m \u001b[0;34m=\u001b[0m \u001b[0mPdfFileWriter\u001b[0m\u001b[0;34m(\u001b[0m\u001b[0;34m)\u001b[0m\u001b[0;34m\u001b[0m\u001b[0;34m\u001b[0m\u001b[0m\n\u001b[1;32m     12\u001b[0m \u001b[0;34m\u001b[0m\u001b[0m\n",
      "\u001b[0;31mFileNotFoundError\u001b[0m: [Errno 2] No such file or directory: 'State Action Plan_Andhra-pradesh_2012.pdf'"
     ]
    }
   ],
   "source": [
    "#preprocess that monstrosity of a pickle\n",
    "# for eachDoc in page_topic_map.keys():\n",
    "for oneDoc in page_topic_map.keys():\n",
    "    reformatDict = {}\n",
    "    for i in reformat[oneDoc]:\n",
    "        reformatDict[i[0]] = ' '.join(i[1])\n",
    "    WriteOnPdf(oneDoc, reformatDict)"
   ]
  },
  {
   "cell_type": "code",
   "execution_count": null,
   "metadata": {},
   "outputs": [],
   "source": [
    "l"
   ]
  }
 ],
 "metadata": {
  "kernelspec": {
   "display_name": "Python 3",
   "language": "python",
   "name": "python3"
  },
  "language_info": {
   "codemirror_mode": {
    "name": "ipython",
    "version": 3
   },
   "file_extension": ".py",
   "mimetype": "text/x-python",
   "name": "python",
   "nbconvert_exporter": "python",
   "pygments_lexer": "ipython3",
   "version": "3.6.8"
  }
 },
 "nbformat": 4,
 "nbformat_minor": 2
}
