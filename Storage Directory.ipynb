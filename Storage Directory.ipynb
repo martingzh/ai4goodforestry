{
 "cells": [
  {
   "cell_type": "code",
   "execution_count": null,
   "metadata": {},
   "outputs": [],
   "source": [
    "import storage as storage\n",
    "import os\n",
    "import pickle\n",
    "from pprint import pprint\n",
    "\n",
    "\n",
    "# Creates a directory to store PolicyPaper objects\n",
    "# Creates an empty pickle file to store FilePath:PolicyPaperPath mappings\n",
    "def initializeEmptyStorage():\n",
    "    if os.path.isdir(\"object storage\"):\n",
    "        print(\"Object storage directory already exists\")\n",
    "    else:\n",
    "        os.mkdir(\"object storage\")\n",
    "        print(\"Created object storage directory\")\n",
    "        \n",
    "    if os.path.isfile(\"policy_papers.pickle\"):\n",
    "        print(\"Policy papers pickle file already exists\")\n",
    "    else:\n",
    "        papersDictionary = {}\n",
    "        with open('agriculture.pickle', 'wb') as handle:\n",
    "            pickle.dump(textDictionary, handle, protocol=pickle.HIGHEST_PROTOCOL)\n",
    "\n",
    "def extractAndSavePolicyPaper(papersDictionary, file_path):\n",
    "    try: \n",
    "        paper = storage.PolicyPaper(file_path)\n",
    "        paper_name = storage.serializeObject(paper)\n",
    "        if paper_name:\n",
    "            papersDictionary[file_path] = paper_name\n",
    "        else:\n",
    "            print(\"Error saving file at %s\" % file_path)\n",
    "    except:\n",
    "        print(\"Error extracting file at %s\" % file_path)\n",
    "\n",
    "# Might need to generalize multiple levels of directories\n",
    "def extractPolicyPapersFromDirectory(directory_path):    \n",
    "    # Retrieve file names inside folder\n",
    "    files = os.listdir(directory_path)\n",
    "    print(\"Folder now open.\")\n",
    "    \n",
    "    papersDictionary = {}\n",
    "    with open('policy_papers.pickle', 'rb') as readHandle:\n",
    "        try: \n",
    "            papersDictionary = pickle.load(readHandle)\n",
    "        except EOFError:\n",
    "            papersDictionary = {}\n",
    "        \n",
    "        for file in files:\n",
    "            if file == \".DS_Store\":\n",
    "                continue\n",
    "\n",
    "            file_path = directory_path + \"/\" + file\n",
    "            print(file_path)\n",
    "            if file_path not in papersDictionary:\n",
    "                extractAndSavePolicyPaper(papersDictionary, file_path)\n",
    "            else:\n",
    "                print(\"Already saved %s\" % file_path)\n",
    "        \n",
    "    with open('policy_papers.pickle', 'wb') as writeHandle:\n",
    "        pickle.dump(papersDictionary, writeHandle, protocol=pickle.HIGHEST_PROTOCOL)"
   ]
  },
  {
   "cell_type": "code",
   "execution_count": null,
   "metadata": {},
   "outputs": [],
   "source": [
    "initializeEmptyStorage()\n",
    "extractPolicyPapersFromDirectory(\"sample data/Kenya\")"
   ]
  },
  {
   "cell_type": "markdown",
   "metadata": {},
   "source": [
    "## "
   ]
  },
  {
   "cell_type": "code",
   "execution_count": null,
   "metadata": {},
   "outputs": [],
   "source": []
  }
 ],
 "metadata": {
  "kernelspec": {
   "display_name": "Python 3",
   "language": "python",
   "name": "python3"
  },
  "language_info": {
   "codemirror_mode": {
    "name": "ipython",
    "version": 3
   },
   "file_extension": ".py",
   "mimetype": "text/x-python",
   "name": "python",
   "nbconvert_exporter": "python",
   "pygments_lexer": "ipython3",
   "version": "3.7.1"
  }
 },
 "nbformat": 4,
 "nbformat_minor": 2
}
