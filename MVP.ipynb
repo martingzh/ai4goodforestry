{
 "cells": [
  {
   "cell_type": "markdown",
   "metadata": {},
   "source": [
    "# Import Statements"
   ]
  },
  {
   "cell_type": "code",
   "execution_count": 50,
   "metadata": {},
   "outputs": [
    {
     "name": "stderr",
     "output_type": "stream",
     "text": [
      "[nltk_data] Downloading package punkt to /Users/kimberly/nltk_data...\n",
      "[nltk_data]   Package punkt is already up-to-date!\n"
     ]
    },
    {
     "name": "stdout",
     "output_type": "stream",
     "text": [
      "The autoreload extension is already loaded. To reload it, use:\n",
      "  %reload_ext autoreload\n"
     ]
    }
   ],
   "source": [
    "%load_ext autoreload\n",
    "%autoreload 2"
   ]
  },
  {
   "cell_type": "code",
   "execution_count": 51,
   "metadata": {},
   "outputs": [],
   "source": [
    "import OCR_pipeline as OCR\n",
    "import TopicModeling as TM\n",
    "import jsonpickle"
   ]
  },
  {
   "cell_type": "markdown",
   "metadata": {},
   "source": [
    "# Cleaning And Saving Extracted Text"
   ]
  },
  {
   "cell_type": "code",
   "execution_count": 52,
   "metadata": {},
   "outputs": [],
   "source": [
    "import mysql.connector\n",
    "\n",
    "mydb = mysql.connector.connect(\n",
    "  host=\"localhost\",\n",
    "  user=\"root\",\n",
    "  passwd=\"XXX\",\n",
    "  database=\"forestry\"\n",
    ")\n",
    "mycursor = mydb.cursor()\n",
    "\n",
    "def getExtractedTexts():\n",
    "    mycursor.execute(\"SELECT filename, extractedText FROM PolicyPapers\")\n",
    "    myresult = mycursor.fetchall()\n",
    "    return [x for x in myresult]\n",
    "\n",
    "def getExtractedTextsFromCountries(countries):\n",
    "    sqlStatement = \"SELECT filename, extractedText FROM PolicyPapers WHERE\"\n",
    "    \n",
    "    for i in range(len(countries)):\n",
    "        whereClause = \" country = '%s' \" % countries[i]\n",
    "        sqlStatement += whereClause\n",
    "        if len(countries) != 1 and i < len(countries) - 1:\n",
    "            sqlStatement += \"or\"\n",
    "            \n",
    "    mycursor.execute(sqlStatement)\n",
    "    myresult = mycursor.fetchall()\n",
    "    return [x for x in myresult]"
   ]
  },
  {
   "cell_type": "code",
   "execution_count": 53,
   "metadata": {},
   "outputs": [],
   "source": [
    "key_words = ['afforestation','agriculture','animal welfare','artificial regeneration','biodiversity',\n",
    "             'biological resources','biome','board','clean','coconut','conservation','control','database',\n",
    "             'enforcement','environment','farm','financing','forest','forest protection','funding','fundraising',\n",
    "             'land ','land use','landholder','law','measuring','mobilization','monitor','natural resources',\n",
    "             'oversight','plant breeders','plants','pollution','preservation','produce','protection','qualification',\n",
    "             'quality','registry','regulation','reporting','reserve','resource','restriction','results-driven',\n",
    "             'rural','safeguard','species' ,'support','sustainable','technical submission','threatened species',\n",
    "             'variety','verification','wastewater','water','watershed','wild life']"
   ]
  },
  {
   "cell_type": "code",
   "execution_count": 54,
   "metadata": {},
   "outputs": [],
   "source": [
    "spanish_key_words = ['repoblación forestal', 'agricultura', 'bienestar de los animales', 'regeneración artificial', \n",
    "                     'biodiversidad', 'recursos biologicos', 'bioma', 'tablero', 'limpiar', 'Coco', 'conservación',\n",
    "                     'controlar', 'base de datos', 'aplicación', 'ambiente', 'granja', 'financiación', 'bosque', \n",
    "                     'protección forestal', 'fondos', 'recaudación de fondos', 'tierra', 'uso del suelo', \n",
    "                     'terrateniente', 'ley', 'medición', 'movilización', 'monitor', 'recursos naturales', 'vigilancia',\n",
    "                     'fitomejoradores', 'plantas', 'contaminación', 'preservación', 'Produce', 'proteccion',\n",
    "                     'calificación', 'calidad', 'registro', 'regulación', 'reportando', 'reserva', 'recurso', \n",
    "                     'restricción', 'impulsado por resultados', 'rural', 'salvaguardia', 'especies', 'apoyo', \n",
    "                     'sostenible', 'sumisión técnica', 'especies amenazadas', 'variedad', 'verificación', \n",
    "                     'aguas residuales', 'agua', 'cuenca', 'fauna silvestre']"
   ]
  },
  {
   "cell_type": "code",
   "execution_count": 68,
   "metadata": {},
   "outputs": [],
   "source": [
    "#dictionary for texts in terms of sentences\n",
    "import re\n",
    "import gc\n",
    "textDictionary = {}\n",
    "countries = ['India']\n",
    "policyPapers = getExtractedTextsFromCountries(countries)\n",
    "language_keywords = {}\n",
    "language_keywords['english'] = key_words\n",
    "language_keywords['spanish'] = spanish_key_words\n",
    "for paper in policyPapers:\n",
    "    cleanWhitespaces = re.sub(r'(.) ', r'\\1', paper[1])\n",
    "    cleanedText = TM.toSentences(cleanWhitespaces, 'english', language_keywords['english'])\n",
    "    textDictionary[paper[0]] = cleanedText"
   ]
  },
  {
   "cell_type": "markdown",
   "metadata": {},
   "source": [
    "# LDA"
   ]
  },
  {
   "cell_type": "code",
   "execution_count": 69,
   "metadata": {
    "scrolled": false
   },
   "outputs": [
    {
     "name": "stdout",
     "output_type": "stream",
     "text": [
      "[(28,\n",
      "  '0.001*\"source\" + 0.001*\"commission\" + 0.001*\"reduce\" + 0.001*\"tail\" + '\n",
      "  '0.001*\"toxic\" + 0.001*\"useable\" + 0.001*\"abate\" + 0.001*\"arise\" + '\n",
      "  '0.001*\"noise\" + 0.001*\"minimum\"'),\n",
      " (13,\n",
      "  '0.001*\"source\" + 0.001*\"commission\" + 0.001*\"reduce\" + 0.001*\"tail\" + '\n",
      "  '0.001*\"toxic\" + 0.001*\"useable\" + 0.001*\"abate\" + 0.001*\"arise\" + '\n",
      "  '0.001*\"noise\" + 0.001*\"minimum\"'),\n",
      " (10,\n",
      "  '0.001*\"mean\" + 0.001*\"mine\" + 0.001*\"thereof\" + 0.001*\"mining\" + '\n",
      "  '0.001*\"act\" + 0.001*\"bureau\" + 0.001*\"plan\" + 0.001*\"rule\" + '\n",
      "  '0.001*\"controller\" + 0.001*\"indian\"'),\n",
      " (22,\n",
      "  '0.001*\"area\" + 0.001*\"mining\" + 0.001*\"lease\" + 0.001*\"surface\" + 0.001*\"_\" '\n",
      "  '+ 0.001*\"boundary\" + 0.001*\"metre\" + 0.001*\"follow\" + 0.001*\"iii\" + '\n",
      "  '0.001*\"hectare\"'),\n",
      " (1,\n",
      "  '0.038*\"unproductive\" + 0.038*\"unplanned\" + 0.038*\"certain\" + '\n",
      "  '0.038*\"drilling\" + 0.002*\"mean\" + 0.001*\"mine\" + 0.001*\"bureau\" + '\n",
      "  '0.001*\"thereof\" + 0.001*\"indian\" + 0.001*\"agent\"'),\n",
      " (8,\n",
      "  '0.029*\"ground\" + 0.029*\"mineral\" + 0.029*\"underground\" + 0.029*\"position\" + '\n",
      "  '0.015*\"strike\" + 0.015*\"support\" + 0.015*\"block\" + 0.015*\"leave\" + '\n",
      "  '0.015*\"reef\" + 0.015*\"therewith\"'),\n",
      " (2,\n",
      "  '0.037*\"geological\" + 0.037*\"number\" + 0.025*\"drill\" + 0.025*\"exploratory\" + '\n",
      "  '0.025*\"ore\" + 0.013*\"operation\" + 0.013*\"prospect\" + 0.013*\"development\" + '\n",
      "  '0.013*\"constituent\" + 0.013*\"mining\"'),\n",
      " (3,\n",
      "  '0.056*\"crude\" + 0.029*\"produce\" + 0.029*\"obtainable\" + 0.029*\"sale\" + '\n",
      "  '0.029*\"basis\" + 0.029*\"market\" + 0.029*\"price\" + 0.029*\"estimate\" + '\n",
      "  '0.029*\"mica\" + 0.029*\"month\"'),\n",
      " (27,\n",
      "  '0.030*\"shall\" + 0.030*\"control\" + 0.030*\"day\" + 0.030*\"discontinuance\" + '\n",
      "  '0.030*\"government\" + 0.030*\"send\" + 0.030*\"lessee\" + 0.030*\"notice\" + '\n",
      "  '0.030*\"order\" + 0.030*\"occurrence\"'),\n",
      " (6,\n",
      "  '0.037*\"ore\" + 0.037*\"borehole\" + 0.037*\"contain\" + 0.037*\"result\" + '\n",
      "  '0.037*\"interpretation\" + 0.019*\"sample\" + 0.019*\"operation\" + 0.019*\"shall\" '\n",
      "  '+ 0.019*\"assay\" + 0.019*\"block\"'),\n",
      " (9,\n",
      "  '0.064*\"area\" + 0.032*\"mining\" + 0.024*\"lease\" + 0.016*\"mineral\" + '\n",
      "  '0.016*\"wise\" + 0.016*\"mine\" + 0.016*\"grade\" + 0.016*\"sub\" + 0.016*\"surface\" '\n",
      "  '+ 0.016*\"dump\"'),\n",
      " (24,\n",
      "  '0.065*\"mining\" + 0.052*\"mineral\" + 0.041*\"ensure\" + 0.040*\"shall\" + '\n",
      "  '0.037*\"operation\" + 0.028*\"engineer\" + 0.028*\"duty\" + 0.028*\"systematic\" + '\n",
      "  '0.027*\"deposit\" + 0.027*\"conservation\"'),\n",
      " (7,\n",
      "  '0.048*\"year\" + 0.024*\"mining\" + 0.024*\"prospect\" + 0.024*\"beneficiation\" + '\n",
      "  '0.024*\"sale\" + 0.024*\"noise\" + 0.024*\"mine\" + 0.024*\"month\" + 0.024*\"sell\" '\n",
      "  '+ 0.012*\"lease\"'),\n",
      " (11,\n",
      "  '0.035*\"controller\" + 0.035*\"order\" + 0.028*\"mining\" + 0.028*\"require\" + '\n",
      "  '0.028*\"mineral\" + 0.021*\"general\" + 0.021*\"direction\" + 0.014*\"owner\" + '\n",
      "  '0.014*\"agent\" + 0.014*\"shall\"'),\n",
      " (4,\n",
      "  '0.037*\"mining\" + 0.032*\"surface\" + 0.027*\"plan\" + 0.026*\"shall\" + '\n",
      "  '0.024*\"dump\" + 0.024*\"land\" + 0.024*\"waste\" + 0.018*\"operation\" + '\n",
      "  '0.018*\"section\" + 0.018*\"prospect\"'),\n",
      " (19,\n",
      "  '0.044*\"prospect\" + 0.032*\"mining\" + 0.031*\"modification\" + '\n",
      "  '0.025*\"operation\" + 0.025*\"environment\" + 0.024*\"shall\" + '\n",
      "  '0.016*\"protection\" + 0.016*\"plan\" + 0.016*\"general\" + 0.016*\"include\"'),\n",
      " (21,\n",
      "  '0.046*\"controller\" + 0.045*\"discontinuance\" + 0.027*\"shall\" + '\n",
      "  '0.027*\"period\" + 0.019*\"obtain\" + 0.019*\"engineer\" + 0.019*\"manager\" + '\n",
      "  '0.019*\"agent\" + 0.019*\"owner\" + 0.019*\"mining\"'),\n",
      " (14,\n",
      "  '0.057*\"act\" + 0.050*\"mining\" + 0.048*\"grant\" + 0.041*\"university\" + '\n",
      "  '0.038*\"time\" + 0.028*\"establish\" + 0.028*\"commission\" + 0.028*\"state\" + '\n",
      "  '0.028*\"extension\" + 0.021*\"controller\"'),\n",
      " (12,\n",
      "  '0.050*\"mean\" + 0.046*\"mine\" + 0.024*\"controller\" + 0.023*\"mineral\" + '\n",
      "  '0.020*\"part\" + 0.019*\"indian\" + 0.019*\"bureau\" + 0.019*\"plan\" + '\n",
      "  '0.017*\"rule\" + 0.016*\"mining\"'),\n",
      " (29,\n",
      "  '0.142*\"_\" + 0.107*\"name\" + 0.060*\"mineral\" + 0.040*\"return\" + '\n",
      "  '0.036*\"produce\" + 0.030*\"mine\" + 0.030*\"see\" + 0.028*\"form\" + 0.028*\"rule\" '\n",
      "  '+ 0.026*\"iii\"')]\n"
     ]
    }
   ],
   "source": [
    "from pprint import pprint\n",
    "lemmatized_sents = []\n",
    "\n",
    "# Print the Keywords in the 5 topics\n",
    "for key in textDictionary:\n",
    "    cleanedText = textDictionary[key]\n",
    "    lemmatized_sents.extend(cleanedText)\n",
    "    \n",
    "corpus, lda_model = TM.LDA(lemmatized_sents)\n",
    "pprint(lda_model.print_topics())\n",
    "doc_lda = lda_model[corpus]\n",
    "#Next Step: Store LDA data in Policy Paper Object & other central file"
   ]
  },
  {
   "cell_type": "code",
   "execution_count": 41,
   "metadata": {},
   "outputs": [],
   "source": [
    "my = lda_model.print_topics()[0][1]"
   ]
  },
  {
   "cell_type": "code",
   "execution_count": 40,
   "metadata": {},
   "outputs": [
    {
     "data": {
      "text/plain": [
       "['capacity',\n",
       " 'adaptive',\n",
       " 'percentage',\n",
       " 'planning',\n",
       " 'gomp',\n",
       " 'state',\n",
       " 'atla',\n",
       " 'number',\n",
       " 'area',\n",
       " 'university']"
      ]
     },
     "execution_count": 40,
     "metadata": {},
     "output_type": "execute_result"
    }
   ],
   "source": [
    "re.findall(r\"[a-zA-Z]+\",my)"
   ]
  },
  {
   "cell_type": "markdown",
   "metadata": {},
   "source": [
    "## Extract sentences by Keywords"
   ]
  },
  {
   "cell_type": "markdown",
   "metadata": {},
   "source": [
    "### TODO: Have a feature on the web app so that the user can extract text using keywords"
   ]
  },
  {
   "cell_type": "code",
   "execution_count": null,
   "metadata": {},
   "outputs": [],
   "source": [
    "#Try with the first document\n",
    "policy_0 = policyPapers[0][1]\n",
    "sentences = TM.ReturnSentence(policy_0)"
   ]
  },
  {
   "cell_type": "code",
   "execution_count": 73,
   "metadata": {},
   "outputs": [
    {
     "name": "stdout",
     "output_type": "stream",
     "text": [
      " (2) Notwithstanding anything contained in sub-rule (1) a scheme of prospecting, shall include: (a) baseline information of prevailing environmental conditions before the beginning of prospecting operations; (b) [steps proposed to be taken for protection of environment which will include] prevention and control of air and water pollution, progressive reclamation and rehabilitation of the land disturbed by the prospecting operations, a scheme for the plantation of trees, and such other measures, as may be directed from time to time by the Controller General or the authorised officer for minimising the adverse effect of prospecting operations on the environment\n",
      " Types of plans and sections: (1) The owner, agent, mining engineer or manager of every mine shall keep the following plans and sections(a) a surface plan showing every surface feature within the mining lease boundaries, such as building, telephone, telegraph or power transmission line, watermain, tramline, railway, road, river, water-course, reservoir, tank, bore-hole, shaft and incline opening , opencast working, dumps and dumping ground, the waste land, forest, sanctuaries, agricultural land and grazing land and subsidence on the surface\n",
      " (5) The owner, agent, mining engineer or manager of every mine shall keep the following: (a) A key plan on a scale of 1:63,000 or 1:50,000 incorporating the following: [(i) an administrative surface map showing the boundary of the mining lease, and the adjoining area lying preferably within five kilometres thereof;] (ii) Contours at not more than twenty metres intervals; (iii) Natural drainage system such as rivers, streams, nalahs, water reservoirs, ponds, lakes, irrigation dams and canals; (iv) Roadways and railways; (v) Places of historical and archaeological importance, monuments, places of worship, pilgrimage and of tourist interest; (vi) Forests with tree density, sanctuaries, wastelands, agricultural lands, grazing lands; (vii) Boundaries of all villages and towns with their population; (viii) Predominant wind direction; (ix) Any other relevant features\n",
      " (2) The top soil so removed shall be utilised for restoration or rehabilitation of the land which is no longer required for prospecting or mining operations or for stabilising or landscaping the external dumps\n",
      " shall be back-filled into the mine excavations with a view to restoring the land to its original use as far as possible\n",
      " (6) The fines, rejects or tailings from mine, beneficiation or metallurgical plants shall be deposited and disposed in a specially prepared tailings disposal area such that they are not allowed to flow away and cause land degradation or damage to agricultural field, pollution of surface water bodies and ground water or cause floods\n",
      " Reclamation and rehabilitation of lands: Every holder of prospecting licence or mining lease shall undertake the phased restoration, reclamation and rehabilitation of lands affected by prospecting or mining operations and shall complete this work before the conclusion of such operations and the abandonment of prospect or mine\n",
      ", tailing ponds, into surface water bodies, ground water aquifier and useable lands, to a minimum\n",
      "  *** Including any non recurring expenditure incurred on the acquisition of land\n"
     ]
    }
   ],
   "source": [
    "#This can be used as a preview feature\n",
    "for s in sentences:\n",
    "    if 'land' in s:\n",
    "        print(s)"
   ]
  },
  {
   "cell_type": "markdown",
   "metadata": {},
   "source": [
    "## Use Key Words to classify documents"
   ]
  },
  {
   "cell_type": "code",
   "execution_count": 48,
   "metadata": {},
   "outputs": [],
   "source": [
    "key_words = ['afforestation','agriculture','animal welfare','artificial regeneration','biodiversity',\n",
    "             'biological resources','biome','board','clean','coconut','conservation','control','database',\n",
    "             'enforcement','environment','farm','financing','forest','forest protection','funding','fundraising',\n",
    "             'land ','land use','landholder','law','measuring','mobilization','monitor','natural resources',\n",
    "             'oversight','plant breeders','plants','pollution','preservation','produce','protection','qualification',\n",
    "             'quality','registry','regulation','reporting','reserve','resource','restriction','results-driven',\n",
    "             'rural','safeguard','species' ,'support','sustainable','technical submission','threatened species',\n",
    "             'variety','verification','wastewater','water','watershed','wild life']"
   ]
  },
  {
   "cell_type": "code",
   "execution_count": 58,
   "metadata": {},
   "outputs": [
    {
     "data": {
      "text/plain": [
       "False"
      ]
     },
     "execution_count": 58,
     "metadata": {},
     "output_type": "execute_result"
    }
   ],
   "source": [
    "'artificial regeneration' in cleanWhitespaces"
   ]
  },
  {
   "cell_type": "code",
   "execution_count": 68,
   "metadata": {},
   "outputs": [],
   "source": [
    "# Create a list with each entry being whether or not containing the keyword\n",
    "if_key_word = [int(word in cleanWhitespaces) for i, word in enumerate(key_words)]"
   ]
  },
  {
   "cell_type": "code",
   "execution_count": 69,
   "metadata": {},
   "outputs": [
    {
     "data": {
      "text/plain": [
       "[0,\n",
       " 1,\n",
       " 0,\n",
       " 0,\n",
       " 1,\n",
       " 0,\n",
       " 0,\n",
       " 0,\n",
       " 0,\n",
       " 0,\n",
       " 1,\n",
       " 1,\n",
       " 0,\n",
       " 0,\n",
       " 0,\n",
       " 1,\n",
       " 0,\n",
       " 1,\n",
       " 0,\n",
       " 0,\n",
       " 0,\n",
       " 1,\n",
       " 1,\n",
       " 0,\n",
       " 1,\n",
       " 0,\n",
       " 0,\n",
       " 0,\n",
       " 0,\n",
       " 0,\n",
       " 0,\n",
       " 0,\n",
       " 1,\n",
       " 0,\n",
       " 0,\n",
       " 0,\n",
       " 0,\n",
       " 0,\n",
       " 0,\n",
       " 1,\n",
       " 0,\n",
       " 0,\n",
       " 1,\n",
       " 0,\n",
       " 0,\n",
       " 0,\n",
       " 0,\n",
       " 0,\n",
       " 1,\n",
       " 0,\n",
       " 0,\n",
       " 0,\n",
       " 1,\n",
       " 0,\n",
       " 0,\n",
       " 1,\n",
       " 0,\n",
       " 0]"
      ]
     },
     "execution_count": 69,
     "metadata": {},
     "output_type": "execute_result"
    }
   ],
   "source": [
    "if_key_word"
   ]
  },
  {
   "cell_type": "markdown",
   "metadata": {},
   "source": [
    "# Visualizations"
   ]
  },
  {
   "cell_type": "markdown",
   "metadata": {},
   "source": [
    "### pyLDAvis"
   ]
  },
  {
   "cell_type": "markdown",
   "metadata": {},
   "source": [
    "`pip install pyldavis`"
   ]
  },
  {
   "cell_type": "markdown",
   "metadata": {},
   "source": [
    "Code source: https://markroxor.github.io/gensim/static/notebooks/gensim_news_classification.html\n",
    "<br>\n",
    "The area of the circles represent the prevalance of the topic. The length of the bars on the right represent the membership of a term in a particular topic. "
   ]
  },
  {
   "cell_type": "code",
   "execution_count": null,
   "metadata": {},
   "outputs": [],
   "source": [
    "import pyLDAvis.gensim\n",
    "pyLDAvis.enable_notebook()\n",
    "pyLDAvis.gensim.prepare(lda_model, corpus, dictionary=lda_model.id2word)"
   ]
  },
  {
   "cell_type": "markdown",
   "metadata": {},
   "source": [
    "### WordCloud"
   ]
  },
  {
   "cell_type": "markdown",
   "metadata": {},
   "source": [
    "`pip install wordcloud`"
   ]
  },
  {
   "cell_type": "markdown",
   "metadata": {},
   "source": [
    "Code source: https://medium.com/@rudyb2001/making-sense-of-the-news-using-machine-learning-e13ed5f96cf0\n",
    "<br>\n",
    "WordCloud of Top 10 words in each topic with the sizes of the words proportional to the weights."
   ]
  },
  {
   "cell_type": "code",
   "execution_count": null,
   "metadata": {
    "scrolled": true
   },
   "outputs": [],
   "source": [
    "len(lda_model.show_topics(formatted=False))"
   ]
  },
  {
   "cell_type": "code",
   "execution_count": null,
   "metadata": {},
   "outputs": [],
   "source": [
    "from matplotlib import pyplot as plt\n",
    "import matplotlib.colors as mcolors\n",
    "from wordcloud import WordCloud, STOPWORDS\n",
    "cols = [color for name, color in mcolors.TABLEAU_COLORS.items()]\n",
    "\n",
    "cloud = WordCloud(background_color='white',\n",
    "                  width=2500,\n",
    "                  height=1800,\n",
    "                  max_words=10,\n",
    "                  colormap='tab10',\n",
    "                  color_func=lambda *args, **kwargs: cols[i],\n",
    "                  prefer_horizontal=1.0)\n",
    "\n",
    "topics = lda_model.show_topics(formatted=False)\n",
    "\n",
    "fig, axes = plt.subplots(2, 5, figsize=(15,10), sharex=True, sharey=True)\n",
    "\n",
    "for i, ax in enumerate(axes.flatten()):\n",
    "    fig.add_subplot(ax)\n",
    "    topic_words = dict(topics[i][1])\n",
    "    cloud.generate_from_frequencies(topic_words, max_font_size=300)\n",
    "    plt.gca().imshow(cloud)\n",
    "    plt.gca().set_title('Topic ' + str(i), fontdict=dict(size=16))\n",
    "    plt.gca().axis('off')\n",
    "\n",
    "plt.subplots_adjust(wspace=0, hspace=0)\n",
    "plt.axis('off')\n",
    "plt.margins(x=0, y=0)\n",
    "plt.tight_layout()\n",
    "plt.show()"
   ]
  },
  {
   "cell_type": "code",
   "execution_count": null,
   "metadata": {},
   "outputs": [],
   "source": []
  },
  {
   "cell_type": "markdown",
   "metadata": {},
   "source": [
    "# Storage"
   ]
  },
  {
   "cell_type": "code",
   "execution_count": null,
   "metadata": {},
   "outputs": [],
   "source": []
  }
 ],
 "metadata": {
  "kernelspec": {
   "display_name": "Python 3",
   "language": "python",
   "name": "python3"
  },
  "language_info": {
   "codemirror_mode": {
    "name": "ipython",
    "version": 3
   },
   "file_extension": ".py",
   "mimetype": "text/x-python",
   "name": "python",
   "nbconvert_exporter": "python",
   "pygments_lexer": "ipython3",
   "version": "3.7.1"
  }
 },
 "nbformat": 4,
 "nbformat_minor": 2
}
