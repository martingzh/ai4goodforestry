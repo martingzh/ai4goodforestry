{
 "cells": [
  {
   "cell_type": "markdown",
   "metadata": {},
   "source": [
    "# Import Statements"
   ]
  },
  {
   "cell_type": "code",
   "execution_count": 1,
   "metadata": {
    "collapsed": true
   },
   "outputs": [],
   "source": [
    "%load_ext autoreload\n",
    "%autoreload 2"
   ]
  },
  {
   "cell_type": "code",
   "execution_count": 2,
   "metadata": {},
   "outputs": [
    {
     "name": "stdout",
     "output_type": "stream",
     "text": [
      "[nltk_data] Downloading package punkt to /Users/apple/nltk_data...\n",
      "[nltk_data]   Package punkt is already up-to-date!\n"
     ]
    }
   ],
   "source": [
    "import OCR_pipeline as OCR\n",
    "import TopicModeling as TM\n",
    "import jsonpickle\n",
    "import gensim"
   ]
  },
  {
   "cell_type": "markdown",
   "metadata": {},
   "source": [
    "# Cleaning And Saving Extracted Text"
   ]
  },
  {
   "cell_type": "code",
   "execution_count": 3,
   "metadata": {
    "collapsed": true
   },
   "outputs": [],
   "source": [
    "import mysql.connector\n",
    "\n",
    "mydb = mysql.connector.connect(\n",
    "  host=\"localhost\",\n",
    "  user=\"root\",\n",
    "  passwd=\"XXX\",\n",
    "  database=\"forestry\"\n",
    ")\n",
    "mycursor = mydb.cursor()\n",
    "\n",
    "def getExtractedTextsFromCountries(countries):\n",
    "    sqlStatement = \"SELECT P1.filename, P1.pid, P2.country, P1.text from PolicyPaperPages P1 \" \\\n",
    "                     \"INNER JOIN PolicyPapers P2 \" \\\n",
    "                     \"on P1.filename = P2.filename WHERE\"\n",
    "    \n",
    "    for i in range(len(countries)):\n",
    "        whereClause = \" P2.country = '%s' \" % countries[i]\n",
    "        sqlStatement += whereClause\n",
    "        if len(countries) != 1 and i < len(countries) - 1:\n",
    "            sqlStatement += \"or\"\n",
    "\n",
    "    sqlStatement += \"GROUP BY filename, pid ORDER BY filename, pid\"\n",
    "    mycursor.execute(sqlStatement)\n",
    "\n",
    "    myresult = mycursor.fetchall()\n",
    "    return combinePages(myresult)\n",
    "\n",
    "def combinePages(myresult):\n",
    "    curr_filename = myresult[0][0]\n",
    "    curr_pages = []\n",
    "    file_texts = []\n",
    "    for result in myresult:\n",
    "        if result[0] != curr_filename:\n",
    "            file_texts.append([curr_filename, curr_pages])\n",
    "            curr_pages = []\n",
    "            curr_filename = result[0]\n",
    "        else:\n",
    "            curr_pages.append(str(result[3]))\n",
    "        \n",
    "    file_texts.append([curr_filename, curr_pages])\n",
    "    return file_texts"
   ]
  },
  {
   "cell_type": "code",
   "execution_count": 4,
   "metadata": {
    "collapsed": true
   },
   "outputs": [],
   "source": [
    "key_words = ['afforestation','agriculture','animal welfare','artificial regeneration','biodiversity',\n",
    "             'biological resources','biome','board','clean','coconut','conservation','control','database',\n",
    "             'enforcement','environment','farm','financing','forest','forest protection','funding','fundraising',\n",
    "             'land ','land use','landholder','law','measuring','mobilization','monitor','natural resources',\n",
    "             'oversight','plant breeders','plants','pollution','preservation','produce','protection','qualification',\n",
    "             'quality','registry','regulation','reporting','reserve','resource','restriction','results-driven',\n",
    "             'rural','safeguard','species' ,'support','sustainable','technical submission','threatened species',\n",
    "             'variety','verification','wastewater','water','watershed','wild life']"
   ]
  },
  {
   "cell_type": "code",
   "execution_count": 5,
   "metadata": {
    "collapsed": true
   },
   "outputs": [],
   "source": [
    "spanish_key_words = ['repoblación forestal', 'agricultura', 'bienestar de los animales', 'regeneración artificial', \n",
    "                     'biodiversidad', 'recursos biologicos', 'bioma', 'tablero', 'limpiar', 'Coco', 'conservación',\n",
    "                     'controlar', 'base de datos', 'aplicación', 'ambiente', 'granja', 'financiación', 'bosque', \n",
    "                     'protección forestal', 'fondos', 'recaudación de fondos', 'tierra', 'uso del suelo', \n",
    "                     'terrateniente', 'ley', 'medición', 'movilización', 'monitor', 'recursos naturales', 'vigilancia',\n",
    "                     'fitomejoradores', 'plantas', 'contaminación', 'preservación', 'Produce', 'proteccion',\n",
    "                     'calificación', 'calidad', 'registro', 'regulación', 'reportando', 'reserva', 'recurso', \n",
    "                     'restricción', 'impulsado por resultados', 'rural', 'salvaguardia', 'especies', 'apoyo', \n",
    "                     'sostenible', 'sumisión técnica', 'especies amenazadas', 'variedad', 'verificación', \n",
    "                     'aguas residuales', 'agua', 'cuenca', 'fauna silvestre']"
   ]
  },
  {
   "cell_type": "code",
   "execution_count": 6,
   "metadata": {
    "collapsed": true
   },
   "outputs": [],
   "source": [
    "#dictionary for texts in terms of sentences\n",
    "import re\n",
    "import gc\n",
    "textDictionary = {}\n",
    "countries = ['India']\n",
    "policyPapers = getExtractedTextsFromCountries(countries)\n",
    "language_keywords = {}\n",
    "language_keywords['english'] = key_words\n",
    "language_keywords['spanish'] = spanish_key_words\n",
    "for paper in policyPapers:\n",
    "    full_text = ' '.join(paper[1])\n",
    "    cleanedText = TM.toSentences(full_text, 'english', language_keywords['english'])\n",
    "    textDictionary[paper[0]] = cleanedText"
   ]
  },
  {
   "cell_type": "markdown",
   "metadata": {},
   "source": [
    "# LDA"
   ]
  },
  {
   "cell_type": "code",
   "execution_count": 7,
   "metadata": {
    "scrolled": false
   },
   "outputs": [
    {
     "name": "stdout",
     "output_type": "stream",
     "text": [
      "[(0,\n",
      "  '0.037*\"market\" + 0.030*\"livestock\" + 0.019*\"product\" + 0.019*\"produce\" + '\n",
      "  '0.018*\"agricultural\" + 0.017*\"committee\" + 0.017*\"notify\" + 0.010*\"sale\" + '\n",
      "  '0.009*\"shall\" + 0.008*\"include\"'),\n",
      " (1,\n",
      "  '0.045*\"shall\" + 0.030*\"government\" + 0.030*\"state\" + 0.021*\"land\" + '\n",
      "  '0.015*\"lessee\" + 0.012*\"act\" + 0.011*\"mineral\" + 0.010*\"provide\" + '\n",
      "  '0.010*\"lease\" + 0.010*\"say\"'),\n",
      " (2,\n",
      "  '0.038*\"climate\" + 0.029*\"change\" + 0.021*\"state\" + 0.014*\"pradesh\" + '\n",
      "  '0.013*\"capacity\" + 0.012*\"plan\" + 0.012*\"rural\" + 0.011*\"population\" + '\n",
      "  '0.010*\"action\" + 0.010*\"water\"'),\n",
      " (3,\n",
      "  '0.077*\"forest\" + 0.023*\"officer\" + 0.020*\"produce\" + 0.020*\"section\" + '\n",
      "  '0.019*\"shall\" + 0.018*\"government\" + 0.014*\"timber\" + 0.013*\"person\" + '\n",
      "  '0.013*\"notification\" + 0.013*\"offence\"'),\n",
      " (4,\n",
      "  '0.035*\"water\" + 0.012*\"area\" + 0.011*\"promote\" + 0.010*\"high\" + '\n",
      "  '0.010*\"programme\" + 0.009*\"ground\" + 0.009*\"state\" + 0.008*\"recharge\" + '\n",
      "  '0.008*\"low\" + 0.008*\"skmccc\"'),\n",
      " (5,\n",
      "  '0.022*\"area\" + 0.014*\"coconut\" + 0.011*\"board\" + 0.008*\"show\" + '\n",
      "  '0.007*\"conservation\" + 0.007*\"high\" + 0.007*\"scale\" + 0.007*\"plan\" + '\n",
      "  '0.006*\"marketing\" + 0.006*\"association\"'),\n",
      " (6,\n",
      "  '0.016*\"environment\" + 0.015*\"mining\" + 0.013*\"protection\" + 0.013*\"plan\" + '\n",
      "  '0.010*\"pradesh\" + 0.010*\"qualification\" + 0.010*\"measure\" + '\n",
      "  '0.009*\"pollution\" + 0.007*\"power\" + 0.007*\"rule\"'),\n",
      " (7,\n",
      "  '0.029*\"water\" + 0.026*\"forest\" + 0.018*\"change\" + 0.017*\"climate\" + '\n",
      "  '0.013*\"area\" + 0.011*\"increase\" + 0.011*\"management\" + 0.008*\"state\" + '\n",
      "  '0.008*\"impact\" + 0.008*\"sector\"'),\n",
      " (8,\n",
      "  '0.023*\"climate\" + 0.022*\"change\" + 0.019*\"water\" + 0.018*\"disease\" + '\n",
      "  '0.016*\"health\" + 0.011*\"management\" + 0.011*\"development\" + 0.010*\"impact\" '\n",
      "  '+ 0.009*\"livestock\" + 0.008*\"resource\"'),\n",
      " (9,\n",
      "  '0.088*\"forest\" + 0.020*\"area\" + 0.018*\"community\" + 0.013*\"land\" + '\n",
      "  '0.012*\"mission\" + 0.009*\"include\" + 0.009*\"state\" + 0.009*\"biodiversity\" + '\n",
      "  '0.009*\"village\" + 0.008*\"cover\"'),\n",
      " (10,\n",
      "  '0.028*\"section\" + 0.027*\"authority\" + 0.019*\"national\" + 0.016*\"technical\" '\n",
      "  '+ 0.015*\"fish\" + 0.014*\"financial\" + 0.012*\"state\" + 0.012*\"source\" + '\n",
      "  '0.012*\"limit\" + 0.011*\"sub\"'),\n",
      " (11,\n",
      "  '0.042*\"water\" + 0.034*\"energy\" + 0.017*\"urban\" + 0.016*\"waste\" + '\n",
      "  '0.015*\"use\" + 0.014*\"supply\" + 0.012*\"area\" + 0.010*\"industrial\" + '\n",
      "  '0.010*\"generation\" + 0.009*\"power\"'),\n",
      " (12,\n",
      "  '0.016*\"mission\" + 0.014*\"support\" + 0.014*\"high\" + 0.013*\"water\" + '\n",
      "  '0.011*\"wrd\" + 0.011*\"climate\" + 0.011*\"change\" + 0.010*\"farmer\" + '\n",
      "  '0.010*\"crop\" + 0.009*\"research\"'),\n",
      " (13,\n",
      "  '0.012*\"efficiency\" + 0.010*\"rural\" + 0.010*\"state\" + 0.008*\"improve\" + '\n",
      "  '0.008*\"agriculture\" + 0.008*\"water\" + 0.008*\"doa\" + 0.007*\"source\" + '\n",
      "  '0.007*\"farmer\" + 0.006*\"intervention\"'),\n",
      " (14,\n",
      "  '0.021*\"mean\" + 0.015*\"government\" + 0.015*\"animal\" + 0.014*\"act\" + '\n",
      "  '0.013*\"member\" + 0.011*\"rule\" + 0.009*\"person\" + 0.009*\"shall\" + '\n",
      "  '0.009*\"name\" + 0.008*\"wildlife\"')]\n"
     ]
    }
   ],
   "source": [
    "from pprint import pprint\n",
    "lemmatized_sents = []\n",
    "\n",
    "# Print the Keywords in the 5 topics\n",
    "for key in textDictionary:\n",
    "    cleanedText = textDictionary[key]\n",
    "    lemmatized_sents.extend(cleanedText)\n",
    "    \n",
    "corpus, lda_model = TM.LDA(lemmatized_sents)\n",
    "pprint(lda_model.print_topics(-1))\n",
    "doc_lda = lda_model[corpus]\n",
    "#Next Step: Store LDA data in Policy Paper Object & other central file"
   ]
  },
  {
   "cell_type": "code",
   "execution_count": 8,
   "metadata": {
    "collapsed": true
   },
   "outputs": [],
   "source": [
    "# Save LDA\n",
    "# lda_model.save(\"lda_model\")"
   ]
  },
  {
   "cell_type": "code",
   "execution_count": 9,
   "metadata": {
    "collapsed": true
   },
   "outputs": [],
   "source": [
    "# Load LDA\n",
    "lda_saved = gensim.models.ldamodel.LdaModel.load(\"lda_model\")"
   ]
  },
  {
   "cell_type": "code",
   "execution_count": 10,
   "metadata": {},
   "outputs": [
    {
     "data": {
      "text/plain": [
       "[(0,\n",
       "  '0.034*\"market\" + 0.033*\"livestock\" + 0.020*\"product\" + 0.018*\"produce\" + 0.017*\"notify\" + 0.016*\"agricultural\" + 0.011*\"committee\" + 0.010*\"medium\" + 0.010*\"include\" + 0.010*\"farmer\"'),\n",
       " (1,\n",
       "  '0.045*\"shall\" + 0.031*\"government\" + 0.031*\"state\" + 0.017*\"lessee\" + 0.016*\"land\" + 0.013*\"act\" + 0.011*\"lease\" + 0.010*\"mineral\" + 0.010*\"mining\" + 0.010*\"provide\"'),\n",
       " (2,\n",
       "  '0.042*\"climate\" + 0.035*\"change\" + 0.016*\"state\" + 0.015*\"water\" + 0.014*\"pradesh\" + 0.013*\"capacity\" + 0.011*\"development\" + 0.011*\"plan\" + 0.010*\"action\" + 0.010*\"research\"'),\n",
       " (3,\n",
       "  '0.086*\"forest\" + 0.025*\"officer\" + 0.024*\"government\" + 0.022*\"shall\" + 0.022*\"section\" + 0.018*\"produce\" + 0.015*\"land\" + 0.014*\"act\" + 0.014*\"person\" + 0.014*\"right\"'),\n",
       " (4,\n",
       "  '0.049*\"water\" + 0.016*\"high\" + 0.013*\"promote\" + 0.013*\"energy\" + 0.012*\"management\" + 0.009*\"area\" + 0.009*\"use\" + 0.009*\"state\" + 0.008*\"integrate\" + 0.008*\"programme\"'),\n",
       " (5,\n",
       "  '0.014*\"area\" + 0.014*\"organisation\" + 0.010*\"environmental\" + 0.009*\"association\" + 0.009*\"zone\" + 0.009*\"unit\" + 0.007*\"provide\" + 0.007*\"high\" + 0.006*\"discharge\" + 0.006*\"breed\"'),\n",
       " (6,\n",
       "  '0.023*\"pradesh\" + 0.019*\"agriculture\" + 0.014*\"power\" + 0.014*\"state\" + 0.013*\"madhya\" + 0.009*\"environment\" + 0.009*\"emission\" + 0.007*\"plan\" + 0.007*\"forest\" + 0.007*\"protection\"'),\n",
       " (7,\n",
       "  '0.024*\"area\" + 0.024*\"water\" + 0.011*\"forest\" + 0.010*\"state\" + 0.009*\"development\" + 0.009*\"hectare\" + 0.008*\"use\" + 0.008*\"develop\" + 0.007*\"high\" + 0.007*\"urban\"'),\n",
       " (8,\n",
       "  '0.024*\"water\" + 0.019*\"change\" + 0.017*\"climate\" + 0.016*\"disease\" + 0.015*\"increase\" + 0.013*\"crop\" + 0.011*\"health\" + 0.010*\"management\" + 0.010*\"practice\" + 0.009*\"livestock\"'),\n",
       " (9,\n",
       "  '0.071*\"forest\" + 0.018*\"community\" + 0.012*\"state\" + 0.011*\"area\" + 0.011*\"conservation\" + 0.010*\"biodiversity\" + 0.009*\"management\" + 0.009*\"land\" + 0.009*\"specie\" + 0.008*\"village\"'),\n",
       " (10,\n",
       "  '0.036*\"section\" + 0.032*\"authority\" + 0.021*\"national\" + 0.018*\"sub\" + 0.014*\"committee\" + 0.014*\"state\" + 0.012*\"fish\" + 0.009*\"procedure\" + 0.009*\"executive\" + 0.008*\"monitoring\"'),\n",
       " (11,\n",
       "  '0.045*\"forest\" + 0.028*\"area\" + 0.028*\"land\" + 0.019*\"total\" + 0.010*\"cover\" + 0.010*\"mission\" + 0.010*\"sub\" + 0.009*\"carbon\" + 0.009*\"increase\" + 0.008*\"restoration\"'),\n",
       " (12,\n",
       "  '0.024*\"mission\" + 0.017*\"support\" + 0.017*\"climate\" + 0.017*\"forest\" + 0.014*\"change\" + 0.014*\"project\" + 0.011*\"high\" + 0.010*\"area\" + 0.010*\"model\" + 0.008*\"energy\"'),\n",
       " (13,\n",
       "  '0.010*\"coconut\" + 0.010*\"state\" + 0.010*\"person\" + 0.008*\"provide\" + 0.008*\"take\" + 0.008*\"laboratory\" + 0.007*\"development\" + 0.007*\"energy\" + 0.007*\"water\" + 0.007*\"air\"'),\n",
       " (14,\n",
       "  '0.016*\"mean\" + 0.015*\"mine\" + 0.014*\"rule\" + 0.013*\"land\" + 0.012*\"animal\" + 0.011*\"mineral\" + 0.010*\"act\" + 0.009*\"name\" + 0.009*\"produce\" + 0.008*\"person\"')]"
      ]
     },
     "execution_count": 10,
     "metadata": {},
     "output_type": "execute_result"
    }
   ],
   "source": [
    "lda_saved.print_topics(-1)"
   ]
  },
  {
   "cell_type": "code",
   "execution_count": 11,
   "metadata": {},
   "outputs": [
    {
     "data": {
      "text/plain": [
       "['0.037*\"market\" ',\n",
       " ' 0.030*\"livestock\" ',\n",
       " ' 0.019*\"product\" ',\n",
       " ' 0.019*\"produce\" ',\n",
       " ' 0.018*\"agricultural\" ',\n",
       " ' 0.017*\"committee\" ',\n",
       " ' 0.017*\"notify\" ',\n",
       " ' 0.010*\"sale\" ',\n",
       " ' 0.009*\"shall\" ',\n",
       " ' 0.008*\"include\"']"
      ]
     },
     "execution_count": 11,
     "metadata": {},
     "output_type": "execute_result"
    }
   ],
   "source": [
    "output = lda_model.print_topics(-1)\n",
    "test = output[0][1]\n",
    "test.split(\"+\")"
   ]
  },
  {
   "cell_type": "code",
   "execution_count": 12,
   "metadata": {
    "collapsed": true
   },
   "outputs": [],
   "source": [
    "import operator\n",
    "\n",
    "def top_three_topics(lda_model, text):\n",
    "    preprocess = simple_preprocess(text)\n",
    "    common_dictionary = Dictionary([text.split(\" \")])\n",
    "    bow = common_dictionary.doc2bow(preprocess)\n",
    "    \n",
    "    document_topics = lda_model.get_document_topics(bow)\n",
    "    topics_ratio = dict(document_topics)\n",
    "    \n",
    "    top_three = []\n",
    "    for i in range(0, 3):\n",
    "        try: \n",
    "            largest = max(topics_ratio.items(), key=operator.itemgetter(1))\n",
    "            top_three.append(largest)\n",
    "            del topics_ratio[largest[0]]\n",
    "        except: \n",
    "            return top_three\n",
    "    \n",
    "    return top_three"
   ]
  },
  {
   "cell_type": "code",
   "execution_count": 13,
   "metadata": {
    "collapsed": true
   },
   "outputs": [],
   "source": [
    "topic_map = {\n",
    "    0: \"Market\",\n",
    "    1: \"Government\",\n",
    "    2: \"Climate Change\",\n",
    "    3: \"Forestry Policy\",\n",
    "    4: \"Land/Water Management\",\n",
    "    5: \"Organization\",\n",
    "    6: \"States\", \n",
    "    7: \"Area\", \n",
    "    8: \"Crops\",\n",
    "    9: \"Forest Conservation\",\n",
    "    10: \"Legal\",\n",
    "    11: \"Forest\",\n",
    "    12: \"Project/Mission\", \n",
    "    13: \"Agriculture\", \n",
    "    14: \"Mining Regulation\"\n",
    "}\n",
    "\n",
    "def insertPaperTopics(mycursor, filename, page_topics):\n",
    "    sql_insert = \"INSERT INTO PaperTopics \" \\\n",
    "        \"(filename, pid, topic) \" \\\n",
    "        \"VALUES (%s, %s, %s)\"\n",
    "    for pid, top_three in page_topics.items():\n",
    "        for topic in top_three:\n",
    "            val = (filename, pid, topic)\n",
    "            mycursor.execute(sql_insert, val)\n",
    "    mydb.commit()\n",
    "    \n",
    "def inDatabase(mycursor, filename):\n",
    "    mycursor.execute(\"SELECT filename FROM PaperTopics WHERE filename='%s'\" % filename)\n",
    "    return mycursor.fetchall()"
   ]
  },
  {
   "cell_type": "code",
   "execution_count": 14,
   "metadata": {},
   "outputs": [],
   "source": [
    "# Preparation cell for get_document topics. Preprocessing\n",
    "from gensim.corpora.dictionary import Dictionary\n",
    "from gensim.utils import simple_preprocess, simple_tokenize\n",
    "\n",
    "for doc in policyPapers:\n",
    "    page_topics = {}\n",
    "    mycursor = mydb.cursor()\n",
    "    if not inDatabase(mycursor, doc[0]):\n",
    "        for i in range(len(doc[1])):\n",
    "            topics = top_three_topics(lda_saved, doc[1][i])\n",
    "            labels = [topic_map[t[0]] for t in topics]\n",
    "            page_topics[i+1] = labels\n",
    "        insertPaperTopics(mycursor, doc[0], page_topics)\n",
    "    mycursor.close()"
   ]
  },
  {
   "cell_type": "code",
   "execution_count": null,
   "metadata": {
    "collapsed": true
   },
   "outputs": [],
   "source": [
    "# Retrieve the three topics for this specific document\n",
    "topics = []\n",
    "for item in top_three:\n",
    "    topics.append(output[item[0]])\n",
    "topics"
   ]
  },
  {
   "cell_type": "code",
   "execution_count": null,
   "metadata": {
    "collapsed": true
   },
   "outputs": [],
   "source": [
    "my = lda_model.print_topics()[0][1]"
   ]
  },
  {
   "cell_type": "code",
   "execution_count": null,
   "metadata": {
    "collapsed": true
   },
   "outputs": [],
   "source": [
    "re.findall(r\"[a-zA-Z]+\",my)"
   ]
  },
  {
   "cell_type": "markdown",
   "metadata": {},
   "source": [
    "## Extract sentences by Keywords"
   ]
  },
  {
   "cell_type": "markdown",
   "metadata": {},
   "source": [
    "### TODO: Have a feature on the web app so that the user can extract text using keywords"
   ]
  },
  {
   "cell_type": "code",
   "execution_count": null,
   "metadata": {
    "collapsed": true
   },
   "outputs": [],
   "source": [
    "#Try with the first document\n",
    "policy_0 = policyPapers[0][1]\n",
    "sentences = TM.ReturnSentence(policy_0)"
   ]
  },
  {
   "cell_type": "code",
   "execution_count": null,
   "metadata": {
    "collapsed": true
   },
   "outputs": [],
   "source": [
    "#This can be used as a preview feature\n",
    "for s in sentences:\n",
    "    if 'land' in s:\n",
    "        print(s)"
   ]
  },
  {
   "cell_type": "markdown",
   "metadata": {},
   "source": [
    "## Use Key Words to classify documents"
   ]
  },
  {
   "cell_type": "code",
   "execution_count": null,
   "metadata": {
    "collapsed": true
   },
   "outputs": [],
   "source": [
    "key_words = ['afforestation','agriculture','animal welfare','artificial regeneration','biodiversity',\n",
    "             'biological resources','biome','board','clean','coconut','conservation','control','database',\n",
    "             'enforcement','environment','farm','financing','forest','forest protection','funding','fundraising',\n",
    "             'land ','land use','landholder','law','measuring','mobilization','monitor','natural resources',\n",
    "             'oversight','plant breeders','plants','pollution','preservation','produce','protection','qualification',\n",
    "             'quality','registry','regulation','reporting','reserve','resource','restriction','results-driven',\n",
    "             'rural','safeguard','species' ,'support','sustainable','technical submission','threatened species',\n",
    "             'variety','verification','wastewater','water','watershed','wild life']"
   ]
  },
  {
   "cell_type": "code",
   "execution_count": null,
   "metadata": {
    "collapsed": true
   },
   "outputs": [],
   "source": [
    "'artificial regeneration' in cleanWhitespaces"
   ]
  },
  {
   "cell_type": "markdown",
   "metadata": {},
   "source": [
    "# Visualizations"
   ]
  },
  {
   "cell_type": "markdown",
   "metadata": {},
   "source": [
    "### pyLDAvis"
   ]
  },
  {
   "cell_type": "markdown",
   "metadata": {},
   "source": [
    "`pip install pyldavis`"
   ]
  },
  {
   "cell_type": "markdown",
   "metadata": {},
   "source": [
    "Code source: https://markroxor.github.io/gensim/static/notebooks/gensim_news_classification.html\n",
    "<br>\n",
    "The area of the circles represent the prevalance of the topic. The length of the bars on the right represent the membership of a term in a particular topic. "
   ]
  },
  {
   "cell_type": "code",
   "execution_count": null,
   "metadata": {
    "collapsed": true
   },
   "outputs": [],
   "source": [
    "import pyLDAvis.gensim\n",
    "pyLDAvis.enable_notebook()\n",
    "pyLDAvis.gensim.prepare(lda_model, corpus, dictionary=lda_model.id2word)\n",
    "# p = pyLDAvis.gensim.prepare(lda_model, corpus, dictionary=lda_model.id2word)\n",
    "# pyLDAvis.save_html(p, 'pyLDAvis.html')"
   ]
  },
  {
   "cell_type": "markdown",
   "metadata": {},
   "source": [
    "### WordCloud"
   ]
  },
  {
   "cell_type": "markdown",
   "metadata": {},
   "source": [
    "`pip install wordcloud`"
   ]
  },
  {
   "cell_type": "markdown",
   "metadata": {},
   "source": [
    "Code source: https://medium.com/@rudyb2001/making-sense-of-the-news-using-machine-learning-e13ed5f96cf0\n",
    "<br>\n",
    "WordCloud of Top 10 words in each topic with the sizes of the words proportional to the weights."
   ]
  },
  {
   "cell_type": "code",
   "execution_count": null,
   "metadata": {
    "collapsed": true,
    "scrolled": true
   },
   "outputs": [],
   "source": [
    "len(lda_model.show_topics(formatted=False))"
   ]
  },
  {
   "cell_type": "code",
   "execution_count": null,
   "metadata": {
    "collapsed": true
   },
   "outputs": [],
   "source": [
    "from matplotlib import pyplot as plt\n",
    "import matplotlib.colors as mcolors\n",
    "from wordcloud import WordCloud, STOPWORDS\n",
    "cols = [color for name, color in mcolors.TABLEAU_COLORS.items()]\n",
    "\n",
    "cloud = WordCloud(background_color='white',\n",
    "                  width=2500,\n",
    "                  height=1800,\n",
    "                  max_words=10,\n",
    "                  colormap='tab10',\n",
    "                  color_func=lambda *args, **kwargs: cols[i],\n",
    "                  prefer_horizontal=1.0)\n",
    "\n",
    "topics = lda_model.show_topics(formatted=False)\n",
    "\n",
    "fig, axes = plt.subplots(2, 5, figsize=(15,10), sharex=True, sharey=True)\n",
    "\n",
    "for i, ax in enumerate(axes.flatten()):\n",
    "    fig.add_subplot(ax)\n",
    "    topic_words = dict(topics[i][1])\n",
    "    cloud.generate_from_frequencies(topic_words, max_font_size=300)\n",
    "    plt.gca().imshow(cloud)\n",
    "    plt.gca().set_title('Topic ' + str(i), fontdict=dict(size=16))\n",
    "    plt.gca().axis('off')\n",
    "\n",
    "plt.subplots_adjust(wspace=0, hspace=0)\n",
    "plt.axis('off')\n",
    "plt.margins(x=0, y=0)\n",
    "plt.tight_layout()\n",
    "plt.show()"
   ]
  },
  {
   "cell_type": "code",
   "execution_count": null,
   "metadata": {
    "collapsed": true
   },
   "outputs": [],
   "source": []
  },
  {
   "cell_type": "markdown",
   "metadata": {},
   "source": [
    "# Storage"
   ]
  },
  {
   "cell_type": "code",
   "execution_count": null,
   "metadata": {
    "collapsed": true
   },
   "outputs": [],
   "source": []
  }
 ],
 "metadata": {
  "kernelspec": {
   "display_name": "Python 3",
   "language": "python",
   "name": "python3"
  },
  "language_info": {
   "codemirror_mode": {
    "name": "ipython",
    "version": 3
   },
   "file_extension": ".py",
   "mimetype": "text/x-python",
   "name": "python",
   "nbconvert_exporter": "python",
   "pygments_lexer": "ipython3",
   "version": "3.6.2"
  }
 },
 "nbformat": 4,
 "nbformat_minor": 2
}
