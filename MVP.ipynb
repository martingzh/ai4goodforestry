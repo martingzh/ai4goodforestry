{
 "cells": [
  {
   "cell_type": "markdown",
   "metadata": {},
   "source": [
    "# Import Statements"
   ]
  },
  {
   "cell_type": "code",
   "execution_count": null,
   "metadata": {},
   "outputs": [],
   "source": [
    "%load_ext autoreload\n",
    "%autoreload 2"
   ]
  },
  {
   "cell_type": "code",
   "execution_count": null,
   "metadata": {},
   "outputs": [],
   "source": [
    "import OCR_pipeline as OCR\n",
    "import TopicModeling as TM\n",
    "import jsonpickle\n",
    "import gensim"
   ]
  },
  {
   "cell_type": "markdown",
   "metadata": {},
   "source": [
    "# Cleaning And Saving Extracted Text"
   ]
  },
  {
   "cell_type": "code",
   "execution_count": null,
   "metadata": {},
   "outputs": [],
   "source": [
    "import mysql.connector\n",
    "\n",
    "mydb = mysql.connector.connect(\n",
    "  host=\"localhost\",\n",
    "  user=\"root\",\n",
    "  passwd=\"XXX\",\n",
    "  database=\"forestry\"\n",
    ")\n",
    "mycursor = mydb.cursor()\n",
    "\n",
    "def getExtractedTextsFromCountries(countries):\n",
    "    sqlStatement = \"SELECT P1.filename, P1.pid, P2.country, P1.text from PolicyPaperPages P1 \" \\\n",
    "                     \"INNER JOIN PolicyPapers P2 \" \\\n",
    "                     \"on P1.filename = P2.filename WHERE\"\n",
    "    \n",
    "    for i in range(len(countries)):\n",
    "        whereClause = \" P2.country = '%s' \" % countries[i]\n",
    "        sqlStatement += whereClause\n",
    "        if len(countries) != 1 and i < len(countries) - 1:\n",
    "            sqlStatement += \"or\"\n",
    "\n",
    "    sqlStatement += \"GROUP BY filename, pid ORDER BY filename, pid\"\n",
    "    mycursor.execute(sqlStatement)\n",
    "\n",
    "    myresult = mycursor.fetchall()\n",
    "    return combinePages(myresult)\n",
    "\n",
    "def combinePages(myresult):\n",
    "    curr_filename = myresult[0][0]\n",
    "    curr_pages = []\n",
    "    file_texts = []\n",
    "    for result in myresult:\n",
    "        if result[0] != curr_filename:\n",
    "            file_texts.append([curr_filename, curr_pages])\n",
    "            curr_pages = []\n",
    "            curr_filename = result[0]\n",
    "        else:\n",
    "            curr_pages.append(str(result[3]))\n",
    "        \n",
    "    file_texts.append([curr_filename, curr_pages])\n",
    "    return file_texts"
   ]
  },
  {
   "cell_type": "code",
   "execution_count": null,
   "metadata": {},
   "outputs": [],
   "source": [
    "key_words = ['afforestation','agriculture','animal welfare','artificial regeneration','biodiversity',\n",
    "             'biological resources','biome','board','clean','coconut','conservation','control','database',\n",
    "             'enforcement','environment','farm','financing','forest','forest protection','funding','fundraising',\n",
    "             'land ','land use','landholder','law','measuring','mobilization','monitor','natural resources',\n",
    "             'oversight','plant breeders','plants','pollution','preservation','produce','protection','qualification',\n",
    "             'quality','registry','regulation','reporting','reserve','resource','restriction','results-driven',\n",
    "             'rural','safeguard','species' ,'support','sustainable','technical submission','threatened species',\n",
    "             'variety','verification','wastewater','water','watershed','wild life']"
   ]
  },
  {
   "cell_type": "code",
   "execution_count": null,
   "metadata": {},
   "outputs": [],
   "source": [
    "spanish_key_words = ['repoblación forestal', 'agricultura', 'bienestar de los animales', 'regeneración artificial', \n",
    "                     'biodiversidad', 'recursos biologicos', 'bioma', 'tablero', 'limpiar', 'Coco', 'conservación',\n",
    "                     'controlar', 'base de datos', 'aplicación', 'ambiente', 'granja', 'financiación', 'bosque', \n",
    "                     'protección forestal', 'fondos', 'recaudación de fondos', 'tierra', 'uso del suelo', \n",
    "                     'terrateniente', 'ley', 'medición', 'movilización', 'monitor', 'recursos naturales', 'vigilancia',\n",
    "                     'fitomejoradores', 'plantas', 'contaminación', 'preservación', 'Produce', 'proteccion',\n",
    "                     'calificación', 'calidad', 'registro', 'regulación', 'reportando', 'reserva', 'recurso', \n",
    "                     'restricción', 'impulsado por resultados', 'rural', 'salvaguardia', 'especies', 'apoyo', \n",
    "                     'sostenible', 'sumisión técnica', 'especies amenazadas', 'variedad', 'verificación', \n",
    "                     'aguas residuales', 'agua', 'cuenca', 'fauna silvestre']"
   ]
  },
  {
   "cell_type": "code",
   "execution_count": null,
   "metadata": {},
   "outputs": [],
   "source": [
    "#dictionary for texts in terms of sentences\n",
    "import re\n",
    "import gc\n",
    "textDictionary = {}\n",
    "countries = ['India']\n",
    "policyPapers = getExtractedTextsFromCountries(countries)\n",
    "language_keywords = {}\n",
    "language_keywords['english'] = key_words\n",
    "language_keywords['spanish'] = spanish_key_words\n",
    "for paper in policyPapers:\n",
    "    full_text = ' '.join(paper[1])\n",
    "    cleanedText = TM.toSentences(full_text, 'english', language_keywords['english'])\n",
    "    textDictionary[paper[0]] = cleanedText"
   ]
  },
  {
   "cell_type": "markdown",
   "metadata": {},
   "source": [
    "# LDA"
   ]
  },
  {
   "cell_type": "code",
   "execution_count": null,
   "metadata": {
    "scrolled": false
   },
   "outputs": [],
   "source": [
    "from pprint import pprint\n",
    "lemmatized_sents = []\n",
    "\n",
    "# Print the Keywords in the 5 topics\n",
    "for key in textDictionary:\n",
    "    cleanedText = textDictionary[key]\n",
    "    lemmatized_sents.extend(cleanedText)\n",
    "    \n",
    "corpus, lda_model = TM.LDA(lemmatized_sents)\n",
    "pprint(lda_model.print_topics(-1))\n",
    "doc_lda = lda_model[corpus]\n",
    "#Next Step: Store LDA data in Policy Paper Object & other central file"
   ]
  },
  {
   "cell_type": "code",
   "execution_count": null,
   "metadata": {},
   "outputs": [],
   "source": [
    "# Save LDA\n",
    "# lda_model.save(\"lda_model\")"
   ]
  },
  {
   "cell_type": "code",
   "execution_count": null,
   "metadata": {},
   "outputs": [],
   "source": [
    "# Load LDA\n",
    "lda_saved = gensim.models.ldamodel.LdaModel.load(\"lda_model\")"
   ]
  },
  {
   "cell_type": "code",
   "execution_count": null,
   "metadata": {},
   "outputs": [],
   "source": [
    "lda_saved.print_topics(-1)"
   ]
  },
  {
   "cell_type": "code",
   "execution_count": null,
   "metadata": {},
   "outputs": [],
   "source": [
    "output = lda_model.print_topics(-1)\n",
    "test = output[0][1]\n",
    "test.split(\"+\")"
   ]
  },
  {
   "cell_type": "code",
   "execution_count": null,
   "metadata": {},
   "outputs": [],
   "source": [
    "import operator\n",
    "\n",
    "def top_three_topics(lda_model, text):\n",
    "    preprocess = simple_preprocess(text)\n",
    "    common_dictionary = Dictionary([text.split(\" \")])\n",
    "    bow = common_dictionary.doc2bow(preprocess)\n",
    "    \n",
    "    document_topics = lda_model.get_document_topics(bow)\n",
    "    topics_ratio = dict(document_topics)\n",
    "    \n",
    "    top_three = []\n",
    "    for i in range(0, 3):\n",
    "        try: \n",
    "            largest = max(topics_ratio.items(), key=operator.itemgetter(1))\n",
    "            top_three.append(largest)\n",
    "            del topics_ratio[largest[0]]\n",
    "        except: \n",
    "            return top_three\n",
    "    \n",
    "    return top_three"
   ]
  },
  {
   "cell_type": "code",
   "execution_count": null,
   "metadata": {},
   "outputs": [],
   "source": [
    "topic_map = {\n",
    "    0: \"Market\",\n",
    "    1: \"Government\",\n",
    "    2: \"Climate Change\",\n",
    "    3: \"Forestry Policy\",\n",
    "    4: \"Land/Water Management\",\n",
    "    5: \"Organization\",\n",
    "    6: \"States\", \n",
    "    7: \"Area\", \n",
    "    8: \"Crops\",\n",
    "    9: \"Forest Conservation\",\n",
    "    10: \"Legal\",\n",
    "    11: \"Forest\",\n",
    "    12: \"Project/Mission\", \n",
    "    13: \"Agriculture\", \n",
    "    14: \"Mining Regulation\"\n",
    "}\n",
    "\n",
    "def insertPaperTopics(mycursor, filename, page_topics):\n",
    "    sql_insert = \"INSERT INTO PaperTopics \" \\\n",
    "        \"(filename, pid, topic) \" \\\n",
    "        \"VALUES (%s, %s, %s)\"\n",
    "    for pid, top_three in page_topics.items():\n",
    "        for topic in top_three:\n",
    "            val = (filename, pid, topic)\n",
    "            mycursor.execute(sql_insert, val)\n",
    "    mydb.commit()\n",
    "    \n",
    "def inDatabase(mycursor, filename):\n",
    "    mycursor.execute(\"SELECT filename FROM PaperTopics WHERE filename='%s'\" % filename)\n",
    "    return mycursor.fetchall()"
   ]
  },
  {
   "cell_type": "code",
   "execution_count": null,
   "metadata": {},
   "outputs": [],
   "source": [
    "# Preparation cell for get_document topics. Preprocessing\n",
    "from gensim.corpora.dictionary import Dictionary\n",
    "from gensim.utils import simple_preprocess, simple_tokenize\n",
    "\n",
    "for doc in policyPapers:\n",
    "    page_topics = {}\n",
    "    mycursor = mydb.cursor()\n",
    "    if not inDatabase(mycursor, doc[0]):\n",
    "        for i in range(len(doc[1])):\n",
    "            topics = top_three_topics(lda_model, doc[1][i])\n",
    "            labels = [topic_map[t[0]] for t in topics]\n",
    "            page_topics[i+1] = labels\n",
    "        insertPaperTopics(mycursor, doc[0], page_topics)\n",
    "    mycursor.close()"
   ]
  },
  {
   "cell_type": "code",
   "execution_count": null,
   "metadata": {},
   "outputs": [],
   "source": [
    "# Retrieve the three topics for this specific document\n",
    "topics = []\n",
    "for item in top_three:\n",
    "    topics.append(output[item[0]])\n",
    "topics"
   ]
  },
  {
   "cell_type": "code",
   "execution_count": null,
   "metadata": {},
   "outputs": [],
   "source": [
    "my = lda_model.print_topics()[0][1]"
   ]
  },
  {
   "cell_type": "code",
   "execution_count": null,
   "metadata": {},
   "outputs": [],
   "source": [
    "re.findall(r\"[a-zA-Z]+\",my)"
   ]
  },
  {
   "cell_type": "markdown",
   "metadata": {},
   "source": [
    "## Extract sentences by Keywords"
   ]
  },
  {
   "cell_type": "markdown",
   "metadata": {},
   "source": [
    "### TODO: Have a feature on the web app so that the user can extract text using keywords"
   ]
  },
  {
   "cell_type": "code",
   "execution_count": null,
   "metadata": {},
   "outputs": [],
   "source": [
    "#Try with the first document\n",
    "policy_0 = policyPapers[0][1]\n",
    "sentences = TM.ReturnSentence(policy_0)"
   ]
  },
  {
   "cell_type": "code",
   "execution_count": null,
   "metadata": {},
   "outputs": [],
   "source": [
    "#This can be used as a preview feature\n",
    "for s in sentences:\n",
    "    if 'land' in s:\n",
    "        print(s)"
   ]
  },
  {
   "cell_type": "markdown",
   "metadata": {},
   "source": [
    "## Use Key Words to classify documents"
   ]
  },
  {
   "cell_type": "code",
   "execution_count": null,
   "metadata": {},
   "outputs": [],
   "source": [
    "key_words = ['afforestation','agriculture','animal welfare','artificial regeneration','biodiversity',\n",
    "             'biological resources','biome','board','clean','coconut','conservation','control','database',\n",
    "             'enforcement','environment','farm','financing','forest','forest protection','funding','fundraising',\n",
    "             'land ','land use','landholder','law','measuring','mobilization','monitor','natural resources',\n",
    "             'oversight','plant breeders','plants','pollution','preservation','produce','protection','qualification',\n",
    "             'quality','registry','regulation','reporting','reserve','resource','restriction','results-driven',\n",
    "             'rural','safeguard','species' ,'support','sustainable','technical submission','threatened species',\n",
    "             'variety','verification','wastewater','water','watershed','wild life']"
   ]
  },
  {
   "cell_type": "code",
   "execution_count": null,
   "metadata": {},
   "outputs": [],
   "source": [
    "'artificial regeneration' in cleanWhitespaces"
   ]
  },
  {
   "cell_type": "markdown",
   "metadata": {},
   "source": [
    "# Visualizations"
   ]
  },
  {
   "cell_type": "markdown",
   "metadata": {},
   "source": [
    "### pyLDAvis"
   ]
  },
  {
   "cell_type": "markdown",
   "metadata": {},
   "source": [
    "`pip install pyldavis`"
   ]
  },
  {
   "cell_type": "markdown",
   "metadata": {},
   "source": [
    "Code source: https://markroxor.github.io/gensim/static/notebooks/gensim_news_classification.html\n",
    "<br>\n",
    "The area of the circles represent the prevalance of the topic. The length of the bars on the right represent the membership of a term in a particular topic. "
   ]
  },
  {
   "cell_type": "code",
   "execution_count": null,
   "metadata": {},
   "outputs": [],
   "source": [
    "import pyLDAvis.gensim\n",
    "pyLDAvis.enable_notebook()\n",
    "pyLDAvis.gensim.prepare(lda_model, corpus, dictionary=lda_model.id2word)\n",
    "# p = pyLDAvis.gensim.prepare(lda_model, corpus, dictionary=lda_model.id2word)\n",
    "# pyLDAvis.save_html(p, 'pyLDAvis.html')"
   ]
  },
  {
   "cell_type": "markdown",
   "metadata": {},
   "source": [
    "### WordCloud"
   ]
  },
  {
   "cell_type": "markdown",
   "metadata": {},
   "source": [
    "`pip install wordcloud`"
   ]
  },
  {
   "cell_type": "markdown",
   "metadata": {},
   "source": [
    "Code source: https://medium.com/@rudyb2001/making-sense-of-the-news-using-machine-learning-e13ed5f96cf0\n",
    "<br>\n",
    "WordCloud of Top 10 words in each topic with the sizes of the words proportional to the weights."
   ]
  },
  {
   "cell_type": "code",
   "execution_count": null,
   "metadata": {
    "scrolled": true
   },
   "outputs": [],
   "source": [
    "len(lda_model.show_topics(formatted=False))"
   ]
  },
  {
   "cell_type": "code",
   "execution_count": null,
   "metadata": {},
   "outputs": [],
   "source": [
    "from matplotlib import pyplot as plt\n",
    "import matplotlib.colors as mcolors\n",
    "from wordcloud import WordCloud, STOPWORDS\n",
    "cols = [color for name, color in mcolors.TABLEAU_COLORS.items()]\n",
    "\n",
    "cloud = WordCloud(background_color='white',\n",
    "                  width=2500,\n",
    "                  height=1800,\n",
    "                  max_words=10,\n",
    "                  colormap='tab10',\n",
    "                  color_func=lambda *args, **kwargs: cols[i],\n",
    "                  prefer_horizontal=1.0)\n",
    "\n",
    "topics = lda_model.show_topics(formatted=False)\n",
    "\n",
    "fig, axes = plt.subplots(2, 5, figsize=(15,10), sharex=True, sharey=True)\n",
    "\n",
    "for i, ax in enumerate(axes.flatten()):\n",
    "    fig.add_subplot(ax)\n",
    "    topic_words = dict(topics[i][1])\n",
    "    cloud.generate_from_frequencies(topic_words, max_font_size=300)\n",
    "    plt.gca().imshow(cloud)\n",
    "    plt.gca().set_title('Topic ' + str(i), fontdict=dict(size=16))\n",
    "    plt.gca().axis('off')\n",
    "\n",
    "plt.subplots_adjust(wspace=0, hspace=0)\n",
    "plt.axis('off')\n",
    "plt.margins(x=0, y=0)\n",
    "plt.tight_layout()\n",
    "plt.show()"
   ]
  },
  {
   "cell_type": "code",
   "execution_count": null,
   "metadata": {},
   "outputs": [],
   "source": []
  },
  {
   "cell_type": "markdown",
   "metadata": {},
   "source": [
    "# Storage"
   ]
  },
  {
   "cell_type": "code",
   "execution_count": null,
   "metadata": {},
   "outputs": [],
   "source": []
  }
 ],
 "metadata": {
  "kernelspec": {
   "display_name": "Python 3",
   "language": "python",
   "name": "python3"
  },
  "language_info": {
   "codemirror_mode": {
    "name": "ipython",
    "version": 3
   },
   "file_extension": ".py",
   "mimetype": "text/x-python",
   "name": "python",
   "nbconvert_exporter": "python",
   "pygments_lexer": "ipython3",
   "version": "3.7.1"
  }
 },
 "nbformat": 4,
 "nbformat_minor": 2
}
