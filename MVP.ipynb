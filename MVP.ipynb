{
 "cells": [
  {
   "cell_type": "markdown",
   "metadata": {},
   "source": [
    "# Import Statements"
   ]
  },
  {
   "cell_type": "code",
   "execution_count": 1,
   "metadata": {},
   "outputs": [],
   "source": [
    "%load_ext autoreload\n",
    "%autoreload 2"
   ]
  },
  {
   "cell_type": "code",
   "execution_count": 2,
   "metadata": {},
   "outputs": [
    {
     "name": "stderr",
     "output_type": "stream",
     "text": [
      "[nltk_data] Downloading package punkt to /Users/kimberly/nltk_data...\n",
      "[nltk_data]   Package punkt is already up-to-date!\n"
     ]
    }
   ],
   "source": [
    "import OCR_pipeline as OCR\n",
    "import TopicModeling as TM\n",
    "import jsonpickle\n",
    "import gensim"
   ]
  },
  {
   "cell_type": "markdown",
   "metadata": {},
   "source": [
    "# Cleaning And Saving Extracted Text"
   ]
  },
  {
   "cell_type": "code",
   "execution_count": 3,
   "metadata": {},
   "outputs": [],
   "source": [
    "import mysql.connector\n",
    "\n",
    "mydb = mysql.connector.connect(\n",
    "  host=\"localhost\",\n",
    "  user=\"root\",\n",
    "  passwd=\"XXX\",\n",
    "  database=\"forestry\"\n",
    ")\n",
    "mycursor = mydb.cursor()\n",
    "\n",
    "def getExtractedTextsFromCountries(countries):\n",
    "    sqlStatement = \"SELECT P1.filename, P1.pid, P2.country, P1.text from PolicyPaperPages P1 \" \\\n",
    "                     \"INNER JOIN PolicyPapers P2 \" \\\n",
    "                     \"on P1.filename = P2.filename WHERE\"\n",
    "    \n",
    "    for i in range(len(countries)):\n",
    "        whereClause = \" P2.country = '%s' \" % countries[i]\n",
    "        sqlStatement += whereClause\n",
    "        if len(countries) != 1 and i < len(countries) - 1:\n",
    "            sqlStatement += \"or\"\n",
    "\n",
    "    sqlStatement += \"GROUP BY filename, pid ORDER BY filename, pid\"\n",
    "    mycursor.execute(sqlStatement)\n",
    "\n",
    "    myresult = mycursor.fetchall()\n",
    "    return combinePages(myresult)\n",
    "\n",
    "def combinePages(myresult):\n",
    "    curr_filename = myresult[0][0]\n",
    "    curr_pages = []\n",
    "    file_texts = []\n",
    "    for result in myresult:\n",
    "        if result[0] != curr_filename:\n",
    "            file_texts.append([curr_filename, curr_pages])\n",
    "            curr_pages = []\n",
    "            curr_filename = result[0]\n",
    "        else:\n",
    "            curr_pages.append(str(result[3]))\n",
    "        \n",
    "    file_texts.append([curr_filename, curr_pages])\n",
    "    return file_texts"
   ]
  },
  {
   "cell_type": "code",
   "execution_count": 4,
   "metadata": {},
   "outputs": [],
   "source": [
    "key_words = ['afforestation','agriculture','animal welfare','artificial regeneration','biodiversity',\n",
    "             'biological resources','biome','board','clean','coconut','conservation','control','database',\n",
    "             'enforcement','environment','farm','financing','forest','forest protection','funding','fundraising',\n",
    "             'land ','land use','landholder','law','measuring','mobilization','monitor','natural resources',\n",
    "             'oversight','plant breeders','plants','pollution','preservation','produce','protection','qualification',\n",
    "             'quality','registry','regulation','reporting','reserve','resource','restriction','results-driven',\n",
    "             'rural','safeguard','species' ,'support','sustainable','technical submission','threatened species',\n",
    "             'variety','verification','wastewater','water','watershed','wild life']"
   ]
  },
  {
   "cell_type": "code",
   "execution_count": 5,
   "metadata": {},
   "outputs": [],
   "source": [
    "spanish_key_words = ['repoblación forestal', 'agricultura', 'bienestar de los animales', 'regeneración artificial', \n",
    "                     'biodiversidad', 'recursos biologicos', 'bioma', 'tablero', 'limpiar', 'Coco', 'conservación',\n",
    "                     'controlar', 'base de datos', 'aplicación', 'ambiente', 'granja', 'financiación', 'bosque', \n",
    "                     'protección forestal', 'fondos', 'recaudación de fondos', 'tierra', 'uso del suelo', \n",
    "                     'terrateniente', 'ley', 'medición', 'movilización', 'monitor', 'recursos naturales', 'vigilancia',\n",
    "                     'fitomejoradores', 'plantas', 'contaminación', 'preservación', 'Produce', 'proteccion',\n",
    "                     'calificación', 'calidad', 'registro', 'regulación', 'reportando', 'reserva', 'recurso', \n",
    "                     'restricción', 'impulsado por resultados', 'rural', 'salvaguardia', 'especies', 'apoyo', \n",
    "                     'sostenible', 'sumisión técnica', 'especies amenazadas', 'variedad', 'verificación', \n",
    "                     'aguas residuales', 'agua', 'cuenca', 'fauna silvestre']"
   ]
  },
  {
   "cell_type": "code",
   "execution_count": 6,
   "metadata": {},
   "outputs": [],
   "source": [
    "#dictionary for texts in terms of sentences\n",
    "import re\n",
    "import gc\n",
    "textDictionary = {}\n",
    "countries = ['India']\n",
    "policyPapers = getExtractedTextsFromCountries(countries)\n",
    "language_keywords = {}\n",
    "language_keywords['english'] = key_words\n",
    "language_keywords['spanish'] = spanish_key_words\n",
    "for paper in policyPapers:\n",
    "    full_text = ' '.join(paper[1])\n",
    "    cleanedText = TM.toSentences(full_text, 'english', language_keywords['english'])\n",
    "    textDictionary[paper[0]] = cleanedText"
   ]
  },
  {
   "cell_type": "markdown",
   "metadata": {},
   "source": [
    "# LDA"
   ]
  },
  {
   "cell_type": "code",
   "execution_count": 7,
   "metadata": {
    "scrolled": false
   },
   "outputs": [
    {
     "name": "stdout",
     "output_type": "stream",
     "text": [
      "[(0,\n",
      "  '0.036*\"state\" + 0.034*\"authority\" + 0.030*\"section\" + 0.019*\"shall\" + '\n",
      "  '0.018*\"sub\" + 0.017*\"fund\" + 0.016*\"government\" + 0.015*\"national\" + '\n",
      "  '0.012*\"act\" + 0.012*\"rule\"'),\n",
      " (1,\n",
      "  '0.019*\"rural\" + 0.017*\"climate\" + 0.016*\"water\" + 0.016*\"health\" + '\n",
      "  '0.014*\"urban\" + 0.014*\"change\" + 0.013*\"population\" + 0.013*\"development\" + '\n",
      "  '0.013*\"disease\" + 0.013*\"capacity\"'),\n",
      " (2,\n",
      "  '0.020*\"water\" + 0.018*\"high\" + 0.016*\"crop\" + 0.015*\"area\" + 0.014*\"forest\" '\n",
      "  '+ 0.009*\"promote\" + 0.009*\"rd\" + 0.009*\"use\" + 0.008*\"efficiency\" + '\n",
      "  '0.008*\"bilateral\"'),\n",
      " (3,\n",
      "  '0.064*\"forest\" + 0.018*\"area\" + 0.012*\"specie\" + 0.012*\"conservation\" + '\n",
      "  '0.012*\"biodiversity\" + 0.011*\"state\" + 0.010*\"management\" + 0.008*\"soil\" + '\n",
      "  '0.008*\"cover\" + 0.007*\"water\"'),\n",
      " (4,\n",
      "  '0.028*\"forest\" + 0.019*\"state\" + 0.019*\"area\" + 0.018*\"environment\" + '\n",
      "  '0.017*\"pradesh\" + 0.017*\"land\" + 0.015*\"andhra\" + 0.012*\"change\" + '\n",
      "  '0.012*\"india\" + 0.011*\"climate\"'),\n",
      " (5,\n",
      "  '0.049*\"market\" + 0.035*\"livestock\" + 0.031*\"committee\" + 0.026*\"product\" + '\n",
      "  '0.022*\"notify\" + 0.021*\"produce\" + 0.018*\"agricultural\" + 0.015*\"shall\" + '\n",
      "  '0.013*\"sale\" + 0.011*\"law\"'),\n",
      " (6,\n",
      "  '0.035*\"shall\" + 0.024*\"government\" + 0.020*\"state\" + 0.016*\"lessee\" + '\n",
      "  '0.016*\"mining\" + 0.015*\"land\" + 0.015*\"mineral\" + 0.012*\"lease\" + '\n",
      "  '0.010*\"operation\" + 0.009*\"permit\"'),\n",
      " (7,\n",
      "  '0.037*\"water\" + 0.014*\"mean\" + 0.008*\"rainfall\" + 0.007*\"ground\" + '\n",
      "  '0.007*\"analysis\" + 0.006*\"quality\" + 0.006*\"structure\" + '\n",
      "  '0.006*\"distribution\" + 0.006*\"groundwater\" + 0.006*\"india\"'),\n",
      " (8,\n",
      "  '0.025*\"change\" + 0.025*\"water\" + 0.023*\"climate\" + 0.022*\"pradesh\" + '\n",
      "  '0.020*\"resource\" + 0.020*\"madhya\" + 0.013*\"state\" + 0.012*\"development\" + '\n",
      "  '0.008*\"management\" + 0.008*\"epco\"'),\n",
      " (9,\n",
      "  '0.022*\"water\" + 0.013*\"increase\" + 0.012*\"high\" + 0.008*\"table\" + '\n",
      "  '0.008*\"soil\" + 0.007*\"irrigation\" + 0.007*\"power\" + 0.007*\"recharge\" + '\n",
      "  '0.007*\"project\" + 0.007*\"support\"'),\n",
      " (10,\n",
      "  '0.044*\"water\" + 0.023*\"energy\" + 0.011*\"industrial\" + 0.011*\"high\" + '\n",
      "  '0.010*\"industry\" + 0.010*\"source\" + 0.010*\"promote\" + 0.009*\"sector\" + '\n",
      "  '0.008*\"urban\" + 0.008*\"technology\"'),\n",
      " (11,\n",
      "  '0.090*\"forest\" + 0.019*\"community\" + 0.015*\"mission\" + 0.015*\"livelihood\" + '\n",
      "  '0.013*\"produce\" + 0.011*\"timber\" + 0.010*\"village\" + 0.010*\"land\" + '\n",
      "  '0.009*\"state\" + 0.009*\"sub\"'),\n",
      " (12,\n",
      "  '0.039*\"climate\" + 0.032*\"change\" + 0.012*\"state\" + 0.011*\"development\" + '\n",
      "  '0.011*\"water\" + 0.010*\"plan\" + 0.009*\"management\" + 0.008*\"support\" + '\n",
      "  '0.008*\"strategy\" + 0.007*\"research\"'),\n",
      " (13,\n",
      "  '0.040*\"forest\" + 0.021*\"area\" + 0.010*\"restoration\" + 0.007*\"wetland\" + '\n",
      "  '0.007*\"reserve\" + 0.006*\"urban\" + 0.006*\"tree\" + 0.006*\"cover\" + '\n",
      "  '0.006*\"forestry\" + 0.006*\"schedule\"'),\n",
      " (14,\n",
      "  '0.050*\"forest\" + 0.026*\"shall\" + 0.026*\"officer\" + 0.023*\"land\" + '\n",
      "  '0.021*\"section\" + 0.021*\"government\" + 0.021*\"act\" + 0.020*\"person\" + '\n",
      "  '0.016*\"produce\" + 0.011*\"offence\"')]\n"
     ]
    }
   ],
   "source": [
    "from pprint import pprint\n",
    "lemmatized_sents = []\n",
    "\n",
    "# Print the Keywords in the 5 topics\n",
    "for key in textDictionary:\n",
    "    cleanedText = textDictionary[key]\n",
    "    lemmatized_sents.extend(cleanedText)\n",
    "    \n",
    "corpus, lda_model = TM.LDA(lemmatized_sents)\n",
    "pprint(lda_model.print_topics(-1))\n",
    "doc_lda = lda_model[corpus]\n",
    "#Next Step: Store LDA data in Policy Paper Object & other central file"
   ]
  },
  {
   "cell_type": "code",
   "execution_count": 8,
   "metadata": {},
   "outputs": [],
   "source": [
    "# Save LDA\n",
    "# lda_model.save(\"lda_model\")"
   ]
  },
  {
   "cell_type": "code",
   "execution_count": 9,
   "metadata": {},
   "outputs": [],
   "source": [
    "# Load LDA\n",
    "lda_saved = gensim.models.ldamodel.LdaModel.load(\"lda_model\")"
   ]
  },
  {
   "cell_type": "code",
   "execution_count": 10,
   "metadata": {},
   "outputs": [
    {
     "data": {
      "text/plain": [
       "[(0,\n",
       "  '0.038*\"livestock\" + 0.031*\"market\" + 0.023*\"product\" + 0.020*\"produce\" + 0.019*\"notify\" + 0.018*\"committee\" + 0.016*\"agricultural\" + 0.012*\"shall\" + 0.011*\"mean\" + 0.010*\"sale\"'),\n",
       " (1,\n",
       "  '0.021*\"member\" + 0.013*\"india\" + 0.012*\"government\" + 0.012*\"organisation\" + 0.012*\"forest\" + 0.011*\"environment\" + 0.011*\"water\" + 0.009*\"epco\" + 0.009*\"skmccc\" + 0.008*\"director\"'),\n",
       " (2,\n",
       "  '0.040*\"water\" + 0.020*\"area\" + 0.017*\"agriculture\" + 0.015*\"high\" + 0.014*\"resource\" + 0.014*\"irrigation\" + 0.013*\"ground\" + 0.012*\"groundwater\" + 0.011*\"use\" + 0.011*\"crop\"'),\n",
       " (3,\n",
       "  '0.020*\"area\" + 0.020*\"forest\" + 0.017*\"person\" + 0.016*\"officer\" + 0.015*\"property\" + 0.011*\"land\" + 0.011*\"offence\" + 0.009*\"commit\" + 0.008*\"shall\" + 0.008*\"government\"'),\n",
       " (4,\n",
       "  '0.043*\"water\" + 0.015*\"fish\" + 0.011*\"state\" + 0.011*\"practice\" + 0.010*\"increase\" + 0.010*\"climatic\" + 0.010*\"agro\" + 0.010*\"availability\" + 0.009*\"different\" + 0.009*\"seed\"'),\n",
       " (5,\n",
       "  '0.020*\"change\" + 0.018*\"development\" + 0.017*\"climate\" + 0.016*\"disease\" + 0.016*\"health\" + 0.015*\"urban\" + 0.015*\"water\" + 0.013*\"rural\" + 0.011*\"pradesh\" + 0.011*\"concern\"'),\n",
       " (6,\n",
       "  '0.036*\"shall\" + 0.023*\"government\" + 0.023*\"section\" + 0.018*\"land\" + 0.013*\"act\" + 0.012*\"lessee\" + 0.012*\"state\" + 0.011*\"officer\" + 0.011*\"sub\" + 0.010*\"person\"'),\n",
       " (7,\n",
       "  '0.052*\"forest\" + 0.026*\"state\" + 0.024*\"shall\" + 0.022*\"government\" + 0.019*\"land\" + 0.016*\"section\" + 0.016*\"authority\" + 0.014*\"produce\" + 0.013*\"act\" + 0.013*\"right\"'),\n",
       " (8,\n",
       "  '0.045*\"climate\" + 0.034*\"change\" + 0.018*\"state\" + 0.016*\"plan\" + 0.014*\"research\" + 0.013*\"development\" + 0.012*\"action\" + 0.012*\"rural\" + 0.010*\"mission\" + 0.010*\"support\"'),\n",
       " (9,\n",
       "  '0.025*\"forest\" + 0.020*\"community\" + 0.011*\"water\" + 0.007*\"resource\" + 0.007*\"management\" + 0.007*\"institution\" + 0.007*\"high\" + 0.007*\"set\" + 0.007*\"gram\" + 0.007*\"village\"'),\n",
       " (10,\n",
       "  '0.045*\"water\" + 0.011*\"energy\" + 0.011*\"supply\" + 0.010*\"management\" + 0.010*\"urban\" + 0.010*\"waste\" + 0.010*\"promote\" + 0.008*\"industrial\" + 0.008*\"high\" + 0.008*\"use\"'),\n",
       " (11,\n",
       "  '0.029*\"energy\" + 0.015*\"power\" + 0.014*\"state\" + 0.010*\"policy\" + 0.010*\"efficiency\" + 0.010*\"production\" + 0.008*\"generation\" + 0.008*\"technology\" + 0.008*\"table\" + 0.007*\"emission\"'),\n",
       " (12,\n",
       "  '0.109*\"forest\" + 0.013*\"conservation\" + 0.013*\"afforestation\" + 0.013*\"management\" + 0.012*\"specie\" + 0.010*\"biodiversity\" + 0.008*\"mission\" + 0.008*\"compensatory\" + 0.008*\"tree\" + 0.007*\"timber\"'),\n",
       " (13,\n",
       "  '0.025*\"shall\" + 0.024*\"mineral\" + 0.016*\"licence\" + 0.016*\"government\" + 0.015*\"state\" + 0.015*\"lessee\" + 0.015*\"licensee\" + 0.014*\"rule\" + 0.012*\"mining\" + 0.010*\"operation\"'),\n",
       " (14,\n",
       "  '0.023*\"area\" + 0.019*\"forest\" + 0.015*\"capacity\" + 0.015*\"climate\" + 0.013*\"pradesh\" + 0.012*\"change\" + 0.012*\"land\" + 0.012*\"crop\" + 0.011*\"madhya\" + 0.011*\"adaptive\"')]"
      ]
     },
     "execution_count": 10,
     "metadata": {},
     "output_type": "execute_result"
    }
   ],
   "source": [
    "lda_saved.print_topics(-1)"
   ]
  },
  {
   "cell_type": "code",
   "execution_count": 11,
   "metadata": {},
   "outputs": [
    {
     "data": {
      "text/plain": [
       "['0.036*\"state\" ',\n",
       " ' 0.034*\"authority\" ',\n",
       " ' 0.030*\"section\" ',\n",
       " ' 0.019*\"shall\" ',\n",
       " ' 0.018*\"sub\" ',\n",
       " ' 0.017*\"fund\" ',\n",
       " ' 0.016*\"government\" ',\n",
       " ' 0.015*\"national\" ',\n",
       " ' 0.012*\"act\" ',\n",
       " ' 0.012*\"rule\"']"
      ]
     },
     "execution_count": 11,
     "metadata": {},
     "output_type": "execute_result"
    }
   ],
   "source": [
    "output = lda_model.print_topics(-1)\n",
    "test = output[0][1]\n",
    "test.split(\"+\")"
   ]
  },
  {
   "cell_type": "code",
   "execution_count": 16,
   "metadata": {},
   "outputs": [],
   "source": [
    "import operator\n",
    "\n",
    "def top_three_topics(lda_model, text):\n",
    "    preprocess = simple_preprocess(text)\n",
    "    common_dictionary = Dictionary([text.split(\" \")])\n",
    "    bow = common_dictionary.doc2bow(preprocess)\n",
    "    \n",
    "    document_topics = lda_model.get_document_topics(bow)\n",
    "    topics_ratio = dict(document_topics)\n",
    "    \n",
    "    top_three = []\n",
    "    for i in range(0, 3):\n",
    "        try: \n",
    "            largest = max(topics_ratio.items(), key=operator.itemgetter(1))\n",
    "            top_three.append(largest)\n",
    "            del topics_ratio[largest[0]]\n",
    "        except: \n",
    "            return top_three\n",
    "    \n",
    "    return top_three"
   ]
  },
  {
   "cell_type": "code",
   "execution_count": 39,
   "metadata": {},
   "outputs": [],
   "source": [
    "topic_map = {\n",
    "    0: \"Market\",\n",
    "    1: \"Government\",\n",
    "    2: \"Climate Change\",\n",
    "    3: \"Forestry Policy\",\n",
    "    4: \"Land/Water Management\",\n",
    "    5: \"Organization\",\n",
    "    6: \"States\", \n",
    "    7: \"Area\", \n",
    "    8: \"Crops\",\n",
    "    9: \"Forest Conservation\",\n",
    "    10: \"Legal\",\n",
    "    11: \"Forest\",\n",
    "    12: \"Project/Mission\", \n",
    "    13: \"Agriculture\", \n",
    "    14: \"Mining Regulation\"\n",
    "}\n",
    "\n",
    "def insertPaperTopics(mycursor, filename, page_topics):\n",
    "    sql_insert = \"INSERT INTO PaperTopics \" \\\n",
    "        \"(filename, pid, topic) \" \\\n",
    "        \"VALUES (%s, %s, %s)\"\n",
    "    for pid, top_three in page_topics.items():\n",
    "        for topic in top_three:\n",
    "            val = (filename, pid, topic)\n",
    "            mycursor.execute(sql_insert, val)\n",
    "    mydb.commit()\n",
    "    \n",
    "def inDatabase(mycursor, filename):\n",
    "    mycursor.execute(\"SELECT filename FROM PaperTopics WHERE filename='%s'\" % filename)\n",
    "    return mycursor.fetchall()"
   ]
  },
  {
   "cell_type": "code",
   "execution_count": 40,
   "metadata": {},
   "outputs": [],
   "source": [
    "# Preparation cell for get_document topics. Preprocessing\n",
    "from gensim.corpora.dictionary import Dictionary\n",
    "from gensim.utils import simple_preprocess, simple_tokenize\n",
    "\n",
    "for doc in policyPapers:\n",
    "    page_topics = {}\n",
    "    mycursor = mydb.cursor()\n",
    "    if not inDatabase(mycursor, doc[0]):\n",
    "        for i in range(len(doc[1])):\n",
    "            topics = top_three_topics(lda_model, doc[1][i])\n",
    "            labels = [topic_map[t[0]] for t in topics]\n",
    "            page_topics[i+1] = labels\n",
    "        insertPaperTopics(mycursor, doc[0], page_topics)\n",
    "    mycursor.close()"
   ]
  },
  {
   "cell_type": "code",
   "execution_count": null,
   "metadata": {},
   "outputs": [],
   "source": [
    "# Retrieve the three topics for this specific document\n",
    "topics = []\n",
    "for item in top_three:\n",
    "    topics.append(output[item[0]])\n",
    "topics"
   ]
  },
  {
   "cell_type": "code",
   "execution_count": null,
   "metadata": {},
   "outputs": [],
   "source": [
    "my = lda_model.print_topics()[0][1]"
   ]
  },
  {
   "cell_type": "code",
   "execution_count": null,
   "metadata": {},
   "outputs": [],
   "source": [
    "re.findall(r\"[a-zA-Z]+\",my)"
   ]
  },
  {
   "cell_type": "markdown",
   "metadata": {},
   "source": [
    "## Extract sentences by Keywords"
   ]
  },
  {
   "cell_type": "markdown",
   "metadata": {},
   "source": [
    "### TODO: Have a feature on the web app so that the user can extract text using keywords"
   ]
  },
  {
   "cell_type": "code",
   "execution_count": null,
   "metadata": {},
   "outputs": [],
   "source": [
    "#Try with the first document\n",
    "policy_0 = policyPapers[0][1]\n",
    "sentences = TM.ReturnSentence(policy_0)"
   ]
  },
  {
   "cell_type": "code",
   "execution_count": null,
   "metadata": {},
   "outputs": [],
   "source": [
    "#This can be used as a preview feature\n",
    "for s in sentences:\n",
    "    if 'land' in s:\n",
    "        print(s)"
   ]
  },
  {
   "cell_type": "markdown",
   "metadata": {},
   "source": [
    "## Use Key Words to classify documents"
   ]
  },
  {
   "cell_type": "code",
   "execution_count": null,
   "metadata": {},
   "outputs": [],
   "source": [
    "key_words = ['afforestation','agriculture','animal welfare','artificial regeneration','biodiversity',\n",
    "             'biological resources','biome','board','clean','coconut','conservation','control','database',\n",
    "             'enforcement','environment','farm','financing','forest','forest protection','funding','fundraising',\n",
    "             'land ','land use','landholder','law','measuring','mobilization','monitor','natural resources',\n",
    "             'oversight','plant breeders','plants','pollution','preservation','produce','protection','qualification',\n",
    "             'quality','registry','regulation','reporting','reserve','resource','restriction','results-driven',\n",
    "             'rural','safeguard','species' ,'support','sustainable','technical submission','threatened species',\n",
    "             'variety','verification','wastewater','water','watershed','wild life']"
   ]
  },
  {
   "cell_type": "code",
   "execution_count": null,
   "metadata": {},
   "outputs": [],
   "source": [
    "'artificial regeneration' in cleanWhitespaces"
   ]
  },
  {
   "cell_type": "markdown",
   "metadata": {},
   "source": [
    "# Visualizations"
   ]
  },
  {
   "cell_type": "markdown",
   "metadata": {},
   "source": [
    "### pyLDAvis"
   ]
  },
  {
   "cell_type": "markdown",
   "metadata": {},
   "source": [
    "`pip install pyldavis`"
   ]
  },
  {
   "cell_type": "markdown",
   "metadata": {},
   "source": [
    "Code source: https://markroxor.github.io/gensim/static/notebooks/gensim_news_classification.html\n",
    "<br>\n",
    "The area of the circles represent the prevalance of the topic. The length of the bars on the right represent the membership of a term in a particular topic. "
   ]
  },
  {
   "cell_type": "code",
   "execution_count": null,
   "metadata": {},
   "outputs": [],
   "source": [
    "import pyLDAvis.gensim\n",
    "pyLDAvis.enable_notebook()\n",
    "pyLDAvis.gensim.prepare(lda_model, corpus, dictionary=lda_model.id2word)\n",
    "# p = pyLDAvis.gensim.prepare(lda_model, corpus, dictionary=lda_model.id2word)\n",
    "# pyLDAvis.save_html(p, 'pyLDAvis.html')"
   ]
  },
  {
   "cell_type": "markdown",
   "metadata": {},
   "source": [
    "### WordCloud"
   ]
  },
  {
   "cell_type": "markdown",
   "metadata": {},
   "source": [
    "`pip install wordcloud`"
   ]
  },
  {
   "cell_type": "markdown",
   "metadata": {},
   "source": [
    "Code source: https://medium.com/@rudyb2001/making-sense-of-the-news-using-machine-learning-e13ed5f96cf0\n",
    "<br>\n",
    "WordCloud of Top 10 words in each topic with the sizes of the words proportional to the weights."
   ]
  },
  {
   "cell_type": "code",
   "execution_count": null,
   "metadata": {
    "scrolled": true
   },
   "outputs": [],
   "source": [
    "len(lda_model.show_topics(formatted=False))"
   ]
  },
  {
   "cell_type": "code",
   "execution_count": null,
   "metadata": {},
   "outputs": [],
   "source": [
    "from matplotlib import pyplot as plt\n",
    "import matplotlib.colors as mcolors\n",
    "from wordcloud import WordCloud, STOPWORDS\n",
    "cols = [color for name, color in mcolors.TABLEAU_COLORS.items()]\n",
    "\n",
    "cloud = WordCloud(background_color='white',\n",
    "                  width=2500,\n",
    "                  height=1800,\n",
    "                  max_words=10,\n",
    "                  colormap='tab10',\n",
    "                  color_func=lambda *args, **kwargs: cols[i],\n",
    "                  prefer_horizontal=1.0)\n",
    "\n",
    "topics = lda_model.show_topics(formatted=False)\n",
    "\n",
    "fig, axes = plt.subplots(2, 5, figsize=(15,10), sharex=True, sharey=True)\n",
    "\n",
    "for i, ax in enumerate(axes.flatten()):\n",
    "    fig.add_subplot(ax)\n",
    "    topic_words = dict(topics[i][1])\n",
    "    cloud.generate_from_frequencies(topic_words, max_font_size=300)\n",
    "    plt.gca().imshow(cloud)\n",
    "    plt.gca().set_title('Topic ' + str(i), fontdict=dict(size=16))\n",
    "    plt.gca().axis('off')\n",
    "\n",
    "plt.subplots_adjust(wspace=0, hspace=0)\n",
    "plt.axis('off')\n",
    "plt.margins(x=0, y=0)\n",
    "plt.tight_layout()\n",
    "plt.show()"
   ]
  },
  {
   "cell_type": "code",
   "execution_count": null,
   "metadata": {},
   "outputs": [],
   "source": []
  },
  {
   "cell_type": "markdown",
   "metadata": {},
   "source": [
    "# Storage"
   ]
  },
  {
   "cell_type": "code",
   "execution_count": null,
   "metadata": {},
   "outputs": [],
   "source": []
  }
 ],
 "metadata": {
  "kernelspec": {
   "display_name": "Python 3",
   "language": "python",
   "name": "python3"
  },
  "language_info": {
   "codemirror_mode": {
    "name": "ipython",
    "version": 3
   },
   "file_extension": ".py",
   "mimetype": "text/x-python",
   "name": "python",
   "nbconvert_exporter": "python",
   "pygments_lexer": "ipython3",
   "version": "3.7.1"
  }
 },
 "nbformat": 4,
 "nbformat_minor": 2
}
