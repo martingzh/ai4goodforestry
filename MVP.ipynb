{
 "cells": [
  {
   "cell_type": "markdown",
   "metadata": {},
   "source": [
    "# Import Statements"
   ]
  },
  {
   "cell_type": "code",
   "execution_count": 1,
   "metadata": {},
   "outputs": [],
   "source": [
    "%load_ext autoreload\n",
    "%autoreload 2"
   ]
  },
  {
   "cell_type": "code",
   "execution_count": 5,
   "metadata": {},
   "outputs": [],
   "source": [
    "import OCR_pipeline as OCR\n",
    "import TopicModeling as TM\n",
    "import jsonpickle"
   ]
  },
  {
   "cell_type": "markdown",
   "metadata": {},
   "source": [
    "# Cleaning And Saving Extracted Text"
   ]
  },
  {
   "cell_type": "code",
   "execution_count": 6,
   "metadata": {},
   "outputs": [],
   "source": [
    "import mysql.connector\n",
    "\n",
    "mydb = mysql.connector.connect(\n",
    "  host=\"localhost\",\n",
    "  user=\"root\",\n",
    "  passwd=\"Axuan521\",\n",
    "  database=\"forestry\"\n",
    ")\n",
    "mycursor = mydb.cursor()\n",
    "\n",
    "def getExtractedTexts():\n",
    "    mycursor.execute(\"SELECT filename, extractedText FROM PolicyPapers\")\n",
    "    myresult = mycursor.fetchall()\n",
    "    return [x for x in myresult]\n",
    "\n",
    "def getExtractedTextsFromCountries(countries):\n",
    "    sqlStatement = \"SELECT filename, extractedText FROM PolicyPapers WHERE\"\n",
    "    \n",
    "    for i in range(len(countries)):\n",
    "        whereClause = \" country = '%s' \" % countries[i]\n",
    "        sqlStatement += whereClause\n",
    "        if len(countries) != 1 and i < len(countries) - 1:\n",
    "            sqlStatement += \"or\"\n",
    "            \n",
    "    mycursor.execute(sqlStatement)\n",
    "    myresult = mycursor.fetchall()\n",
    "    return [x for x in myresult]"
   ]
  },
  {
   "cell_type": "code",
   "execution_count": 7,
   "metadata": {},
   "outputs": [],
   "source": [
    "#dictionary for texts in terms of sentences\n",
    "import re\n",
    "import gc\n",
    "textDictionary = {}\n",
    "countries = ['India']\n",
    "policyPapers = getExtractedTextsFromCountries(countries)\n",
    "for paper in policyPapers:\n",
    "    cleanWhitespaces = re.sub(r'(.) ', r'\\1', paper[1])\n",
    "    cleanedText = TM.toSentences(cleanWhitespaces)\n",
    "    textDictionary[paper[0]] = cleanedText\n",
    "   # gc.collect()"
   ]
  },
  {
   "cell_type": "markdown",
   "metadata": {},
   "source": [
    "# LDA"
   ]
  },
  {
   "cell_type": "code",
   "execution_count": 8,
   "metadata": {
    "scrolled": false
   },
   "outputs": [
    {
     "name": "stdout",
     "output_type": "stream",
     "text": [
      "[(3,\n",
      "  '0.064*\"indian\" + 0.042*\"table\" + 0.032*\"deposit\" + 0.030*\"security\" + '\n",
      "  '0.029*\"bureau\" + 0.027*\"panchayat\" + 0.026*\"list\" + 0.021*\"document\" + '\n",
      "  '0.020*\"gram\" + 0.020*\"mine\"'),\n",
      " (13,\n",
      "  '0.029*\"shri\" + 0.028*\"probation\" + 0.024*\"sabha\" + 0.022*\"probationer\" + '\n",
      "  '0.018*\"vacancy\" + 0.017*\"service\" + 0.015*\"manufacture\" + 0.014*\"procedure\" '\n",
      "  '+ 0.014*\"represent\" + 0.014*\"vary\"'),\n",
      " (19,\n",
      "  '0.081*\"disease\" + 0.080*\"estimate\" + 0.036*\"type\" + 0.034*\"lead\" + '\n",
      "  '0.030*\"low\" + 0.029*\"opportunity\" + 0.023*\"small\" + 0.021*\"sl\" + '\n",
      "  '0.017*\"sample\" + 0.016*\"spread\"'),\n",
      " (17,\n",
      "  '0.061*\"monitoring\" + 0.036*\"index\" + 0.035*\"projection\" + 0.034*\"effort\" + '\n",
      "  '0.021*\"current\" + 0.020*\"division\" + 0.020*\"especially\" + 0.015*\"regulate\" '\n",
      "  '+ 0.011*\"march\" + 0.011*\"dept\"'),\n",
      " (25,\n",
      "  '0.061*\"monsoon\" + 0.038*\"period\" + 0.036*\"range\" + 0.034*\"loss\" + '\n",
      "  '0.028*\"likely\" + 0.026*\"damage\" + 0.023*\"cause\" + 0.019*\"fodder\" + '\n",
      "  '0.019*\"requirement\" + 0.019*\"day\"'),\n",
      " (9,\n",
      "  '0.071*\"animal\" + 0.068*\"act\" + 0.063*\"sec\" + 0.038*\"wild\" + '\n",
      "  '0.035*\"notification\" + 0.028*\"omit\" + 0.021*\"rise\" + 0.020*\"vide\" + '\n",
      "  '0.019*\"schedule\" + 0.017*\"insert\"'),\n",
      " (22,\n",
      "  '0.042*\"wetland\" + 0.036*\"soil\" + 0.035*\"river\" + 0.034*\"help\" + '\n",
      "  '0.030*\"vehicle\" + 0.029*\"flood\" + 0.025*\"offence\" + 0.015*\"heavy\" + '\n",
      "  '0.015*\"natural\" + 0.015*\"commit\"'),\n",
      " (28,\n",
      "  '0.040*\"production\" + 0.038*\"mineral\" + 0.034*\"total\" + 0.031*\"carbon\" + '\n",
      "  '0.029*\"stock\" + 0.026*\"ore\" + 0.024*\"model\" + 0.020*\"quantity\" + '\n",
      "  '0.019*\"value\" + 0.018*\"decrease\"'),\n",
      " (11,\n",
      "  '0.026*\"use\" + 0.023*\"year\" + 0.022*\"end\" + 0.022*\"financial\" + '\n",
      "  '0.021*\"public\" + 0.017*\"service\" + 0.012*\"land\" + 0.012*\"building\" + '\n",
      "  '0.012*\"road\" + 0.011*\"commissioner\"'),\n",
      " (24,\n",
      "  '0.072*\"report\" + 0.040*\"account\" + 0.035*\"annual\" + 0.028*\"audit\" + '\n",
      "  '0.024*\"shall\" + 0.023*\"datum\" + 0.021*\"record\" + 0.021*\"general\" + '\n",
      "  '0.020*\"maintain\" + 0.016*\"information\"'),\n",
      " (12,\n",
      "  '0.086*\"committee\" + 0.058*\"member\" + 0.054*\"shall\" + 0.035*\"secretary\" + '\n",
      "  '0.031*\"market\" + 0.024*\"director\" + 0.022*\"service\" + 0.019*\"authority\" + '\n",
      "  '0.016*\"manage\" + 0.015*\"executive\"'),\n",
      " (20,\n",
      "  '0.064*\"action\" + 0.062*\"environment\" + 0.058*\"protection\" + 0.030*\"enhance\" '\n",
      "  '+ 0.026*\"waste\" + 0.023*\"environmental\" + 0.022*\"pollution\" + '\n",
      "  '0.021*\"management\" + 0.020*\"exist\" + 0.016*\"impact\"'),\n",
      " (14,\n",
      "  '0.068*\"government\" + 0.057*\"state\" + 0.049*\"shall\" + 0.044*\"lessee\" + '\n",
      "  '0.028*\"operation\" + 0.027*\"time\" + 0.019*\"mining\" + 0.018*\"say\" + '\n",
      "  '0.016*\"land\" + 0.016*\"central\"'),\n",
      " (8,\n",
      "  '0.086*\"sector\" + 0.064*\"health\" + 0.060*\"population\" + 0.045*\"number\" + '\n",
      "  '0.034*\"agriculture\" + 0.028*\"department\" + 0.027*\"technical\" + '\n",
      "  '0.025*\"percentage\" + 0.021*\"possible\" + 0.019*\"fishery\"'),\n",
      " (1,\n",
      "  '0.115*\"change\" + 0.103*\"pradesh\" + 0.081*\"state\" + 0.053*\"plan\" + '\n",
      "  '0.045*\"research\" + 0.040*\"madhya\" + 0.031*\"training\" + 0.027*\"institute\" + '\n",
      "  '0.025*\"concern\" + 0.018*\"issue\"'),\n",
      " (4,\n",
      "  '0.097*\"area\" + 0.053*\"water\" + 0.043*\"project\" + 0.028*\"irrigation\" + '\n",
      "  '0.026*\"crop\" + 0.024*\"support\" + 0.022*\"medium\" + 0.022*\"different\" + '\n",
      "  '0.022*\"specie\" + 0.020*\"zone\"'),\n",
      " (18,\n",
      "  '0.078*\"forest\" + 0.047*\"management\" + 0.042*\"capacity\" + 0.042*\"community\" '\n",
      "  '+ 0.030*\"area\" + 0.029*\"conservation\" + 0.028*\"state\" + 0.024*\"activity\" + '\n",
      "  '0.023*\"local\" + 0.022*\"development\"'),\n",
      " (21,\n",
      "  '0.099*\"high\" + 0.068*\"district\" + 0.030*\"industry\" + 0.029*\"region\" + '\n",
      "  '0.027*\"promote\" + 0.025*\"growth\" + 0.023*\"industrial\" + 0.022*\"technology\" '\n",
      "  '+ 0.019*\"practice\" + 0.018*\"low\"'),\n",
      " (26,\n",
      "  '0.071*\"water\" + 0.052*\"energy\" + 0.042*\"increase\" + 0.040*\"change\" + '\n",
      "  '0.032*\"development\" + 0.031*\"rural\" + 0.030*\"policy\" + 0.030*\"resource\" + '\n",
      "  '0.023*\"need\" + 0.022*\"adaptation\"'),\n",
      " (27,\n",
      "  '0.053*\"shall\" + 0.052*\"section\" + 0.035*\"government\" + 0.032*\"act\" + '\n",
      "  '0.031*\"sub\" + 0.030*\"rule\" + 0.020*\"person\" + 0.020*\"order\" + '\n",
      "  '0.017*\"provision\" + 0.016*\"authority\"')]\n"
     ]
    }
   ],
   "source": [
    "from pprint import pprint\n",
    "lemmatized_sents = []\n",
    "\n",
    "# Print the Keywords in the 5 topics\n",
    "for key in textDictionary:\n",
    "    cleanedText = textDictionary[key]\n",
    "    lemmatized_sents.extend(cleanedText)\n",
    "    \n",
    "corpus, lda_model = TM.LDA(lemmatized_sents)\n",
    "pprint(lda_model.print_topics())\n",
    "doc_lda = lda_model[corpus]\n",
    "#Next Step: Store LDA data in Policy Paper Object & other central file"
   ]
  },
  {
   "cell_type": "code",
   "execution_count": 29,
   "metadata": {},
   "outputs": [],
   "source": [
    "my = lda_model.print_topics()[0][1]"
   ]
  },
  {
   "cell_type": "code",
   "execution_count": 44,
   "metadata": {},
   "outputs": [
    {
     "data": {
      "text/plain": [
       "['indian',\n",
       " 'table',\n",
       " 'deposit',\n",
       " 'security',\n",
       " 'bureau',\n",
       " 'panchayat',\n",
       " 'list',\n",
       " 'document',\n",
       " 'gram',\n",
       " 'mine']"
      ]
     },
     "execution_count": 44,
     "metadata": {},
     "output_type": "execute_result"
    }
   ],
   "source": [
    "re.findall(r\"[a-zA-Z]+\",my)"
   ]
  },
  {
   "cell_type": "markdown",
   "metadata": {},
   "source": [
    "## Extract sentences by Keywords"
   ]
  },
  {
   "cell_type": "markdown",
   "metadata": {},
   "source": [
    "### TODO: Have a feature on the web app so that the user can extract text using keywords"
   ]
  },
  {
   "cell_type": "code",
   "execution_count": null,
   "metadata": {},
   "outputs": [],
   "source": [
    "#Try with the first document\n",
    "policy_0 = policyPapers[0][1]\n",
    "sentences = TM.ReturnSentence(policy_0)"
   ]
  },
  {
   "cell_type": "code",
   "execution_count": 73,
   "metadata": {},
   "outputs": [
    {
     "name": "stdout",
     "output_type": "stream",
     "text": [
      " (2) Notwithstanding anything contained in sub-rule (1) a scheme of prospecting, shall include: (a) baseline information of prevailing environmental conditions before the beginning of prospecting operations; (b) [steps proposed to be taken for protection of environment which will include] prevention and control of air and water pollution, progressive reclamation and rehabilitation of the land disturbed by the prospecting operations, a scheme for the plantation of trees, and such other measures, as may be directed from time to time by the Controller General or the authorised officer for minimising the adverse effect of prospecting operations on the environment\n",
      " Types of plans and sections: (1) The owner, agent, mining engineer or manager of every mine shall keep the following plans and sections(a) a surface plan showing every surface feature within the mining lease boundaries, such as building, telephone, telegraph or power transmission line, watermain, tramline, railway, road, river, water-course, reservoir, tank, bore-hole, shaft and incline opening , opencast working, dumps and dumping ground, the waste land, forest, sanctuaries, agricultural land and grazing land and subsidence on the surface\n",
      " (5) The owner, agent, mining engineer or manager of every mine shall keep the following: (a) A key plan on a scale of 1:63,000 or 1:50,000 incorporating the following: [(i) an administrative surface map showing the boundary of the mining lease, and the adjoining area lying preferably within five kilometres thereof;] (ii) Contours at not more than twenty metres intervals; (iii) Natural drainage system such as rivers, streams, nalahs, water reservoirs, ponds, lakes, irrigation dams and canals; (iv) Roadways and railways; (v) Places of historical and archaeological importance, monuments, places of worship, pilgrimage and of tourist interest; (vi) Forests with tree density, sanctuaries, wastelands, agricultural lands, grazing lands; (vii) Boundaries of all villages and towns with their population; (viii) Predominant wind direction; (ix) Any other relevant features\n",
      " (2) The top soil so removed shall be utilised for restoration or rehabilitation of the land which is no longer required for prospecting or mining operations or for stabilising or landscaping the external dumps\n",
      " shall be back-filled into the mine excavations with a view to restoring the land to its original use as far as possible\n",
      " (6) The fines, rejects or tailings from mine, beneficiation or metallurgical plants shall be deposited and disposed in a specially prepared tailings disposal area such that they are not allowed to flow away and cause land degradation or damage to agricultural field, pollution of surface water bodies and ground water or cause floods\n",
      " Reclamation and rehabilitation of lands: Every holder of prospecting licence or mining lease shall undertake the phased restoration, reclamation and rehabilitation of lands affected by prospecting or mining operations and shall complete this work before the conclusion of such operations and the abandonment of prospect or mine\n",
      ", tailing ponds, into surface water bodies, ground water aquifier and useable lands, to a minimum\n",
      "  *** Including any non recurring expenditure incurred on the acquisition of land\n"
     ]
    }
   ],
   "source": [
    "#This can be used as a preview feature\n",
    "for s in sentences:\n",
    "    if 'land' in s:\n",
    "        print(s)"
   ]
  },
  {
   "cell_type": "markdown",
   "metadata": {},
   "source": [
    "## Use Key Words to classify documents"
   ]
  },
  {
   "cell_type": "code",
   "execution_count": 48,
   "metadata": {},
   "outputs": [],
   "source": [
    "key_words = ['afforestation','agriculture','animal welfare','artificial regeneration','biodiversity',\n",
    "             'biological resources','biome','board','clean','coconut','conservation','control','database',\n",
    "             'enforcement','environment','farm','financing','forest','forest protection','funding','fundraising',\n",
    "             'land ','land use','landholder','law','measuring','mobilization','monitor','natural resources',\n",
    "             'oversight','plant breeders','plants','pollution','preservation','produce','protection','qualification',\n",
    "             'quality','registry','regulation','reporting','reserve','resource','restriction','results-driven',\n",
    "             'rural','safeguard','species' ,'support','sustainable','technical submission','threatened species',\n",
    "             'variety','verification','wastewater','water','watershed','wild life']"
   ]
  },
  {
   "cell_type": "code",
   "execution_count": 58,
   "metadata": {},
   "outputs": [
    {
     "data": {
      "text/plain": [
       "False"
      ]
     },
     "execution_count": 58,
     "metadata": {},
     "output_type": "execute_result"
    }
   ],
   "source": [
    "'artificial regeneration' in cleanWhitespaces"
   ]
  },
  {
   "cell_type": "code",
   "execution_count": 68,
   "metadata": {},
   "outputs": [],
   "source": [
    "# Create a list with each entry being whether or not containing the keyword\n",
    "if_key_word = [int(word in cleanWhitespaces) for i, word in enumerate(key_words)]"
   ]
  },
  {
   "cell_type": "code",
   "execution_count": 69,
   "metadata": {},
   "outputs": [
    {
     "data": {
      "text/plain": [
       "[0,\n",
       " 1,\n",
       " 0,\n",
       " 0,\n",
       " 1,\n",
       " 0,\n",
       " 0,\n",
       " 0,\n",
       " 0,\n",
       " 0,\n",
       " 1,\n",
       " 1,\n",
       " 0,\n",
       " 0,\n",
       " 0,\n",
       " 1,\n",
       " 0,\n",
       " 1,\n",
       " 0,\n",
       " 0,\n",
       " 0,\n",
       " 1,\n",
       " 1,\n",
       " 0,\n",
       " 1,\n",
       " 0,\n",
       " 0,\n",
       " 0,\n",
       " 0,\n",
       " 0,\n",
       " 0,\n",
       " 0,\n",
       " 1,\n",
       " 0,\n",
       " 0,\n",
       " 0,\n",
       " 0,\n",
       " 0,\n",
       " 0,\n",
       " 1,\n",
       " 0,\n",
       " 0,\n",
       " 1,\n",
       " 0,\n",
       " 0,\n",
       " 0,\n",
       " 0,\n",
       " 0,\n",
       " 1,\n",
       " 0,\n",
       " 0,\n",
       " 0,\n",
       " 1,\n",
       " 0,\n",
       " 0,\n",
       " 1,\n",
       " 0,\n",
       " 0]"
      ]
     },
     "execution_count": 69,
     "metadata": {},
     "output_type": "execute_result"
    }
   ],
   "source": [
    "if_key_word"
   ]
  },
  {
   "cell_type": "markdown",
   "metadata": {},
   "source": [
    "# Visualizations"
   ]
  },
  {
   "cell_type": "markdown",
   "metadata": {},
   "source": [
    "### pyLDAvis"
   ]
  },
  {
   "cell_type": "markdown",
   "metadata": {},
   "source": [
    "`pip install pyldavis`"
   ]
  },
  {
   "cell_type": "markdown",
   "metadata": {},
   "source": [
    "Code source: https://markroxor.github.io/gensim/static/notebooks/gensim_news_classification.html\n",
    "<br>\n",
    "The area of the circles represent the prevalance of the topic. The length of the bars on the right represent the membership of a term in a particular topic. "
   ]
  },
  {
   "cell_type": "code",
   "execution_count": null,
   "metadata": {},
   "outputs": [],
   "source": [
    "import pyLDAvis.gensim\n",
    "pyLDAvis.enable_notebook()\n",
    "pyLDAvis.gensim.prepare(lda_model, corpus, dictionary=lda_model.id2word)"
   ]
  },
  {
   "cell_type": "markdown",
   "metadata": {},
   "source": [
    "### WordCloud"
   ]
  },
  {
   "cell_type": "markdown",
   "metadata": {},
   "source": [
    "`pip install wordcloud`"
   ]
  },
  {
   "cell_type": "markdown",
   "metadata": {},
   "source": [
    "Code source: https://medium.com/@rudyb2001/making-sense-of-the-news-using-machine-learning-e13ed5f96cf0\n",
    "<br>\n",
    "WordCloud of Top 10 words in each topic with the sizes of the words proportional to the weights."
   ]
  },
  {
   "cell_type": "code",
   "execution_count": null,
   "metadata": {
    "scrolled": true
   },
   "outputs": [],
   "source": [
    "len(lda_model.show_topics(formatted=False))"
   ]
  },
  {
   "cell_type": "code",
   "execution_count": null,
   "metadata": {},
   "outputs": [],
   "source": [
    "from matplotlib import pyplot as plt\n",
    "import matplotlib.colors as mcolors\n",
    "from wordcloud import WordCloud, STOPWORDS\n",
    "cols = [color for name, color in mcolors.TABLEAU_COLORS.items()]\n",
    "\n",
    "cloud = WordCloud(background_color='white',\n",
    "                  width=2500,\n",
    "                  height=1800,\n",
    "                  max_words=10,\n",
    "                  colormap='tab10',\n",
    "                  color_func=lambda *args, **kwargs: cols[i],\n",
    "                  prefer_horizontal=1.0)\n",
    "\n",
    "topics = lda_model.show_topics(formatted=False)\n",
    "\n",
    "fig, axes = plt.subplots(2, 5, figsize=(15,10), sharex=True, sharey=True)\n",
    "\n",
    "for i, ax in enumerate(axes.flatten()):\n",
    "    fig.add_subplot(ax)\n",
    "    topic_words = dict(topics[i][1])\n",
    "    cloud.generate_from_frequencies(topic_words, max_font_size=300)\n",
    "    plt.gca().imshow(cloud)\n",
    "    plt.gca().set_title('Topic ' + str(i), fontdict=dict(size=16))\n",
    "    plt.gca().axis('off')\n",
    "\n",
    "plt.subplots_adjust(wspace=0, hspace=0)\n",
    "plt.axis('off')\n",
    "plt.margins(x=0, y=0)\n",
    "plt.tight_layout()\n",
    "plt.show()"
   ]
  },
  {
   "cell_type": "code",
   "execution_count": null,
   "metadata": {},
   "outputs": [],
   "source": []
  },
  {
   "cell_type": "markdown",
   "metadata": {},
   "source": [
    "# Storage"
   ]
  },
  {
   "cell_type": "code",
   "execution_count": null,
   "metadata": {},
   "outputs": [],
   "source": []
  }
 ],
 "metadata": {
  "kernelspec": {
   "display_name": "Python 3",
   "language": "python",
   "name": "python3"
  },
  "language_info": {
   "codemirror_mode": {
    "name": "ipython",
    "version": 3
   },
   "file_extension": ".py",
   "mimetype": "text/x-python",
   "name": "python",
   "nbconvert_exporter": "python",
   "pygments_lexer": "ipython3",
   "version": "3.6.4"
  }
 },
 "nbformat": 4,
 "nbformat_minor": 2
}
