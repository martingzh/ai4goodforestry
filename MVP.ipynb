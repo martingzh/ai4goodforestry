{
 "cells": [
  {
   "cell_type": "markdown",
   "metadata": {},
   "source": [
    "# Import Statements"
   ]
  },
  {
   "cell_type": "code",
   "execution_count": 2,
   "metadata": {},
   "outputs": [
    {
     "name": "stderr",
     "output_type": "stream",
     "text": [
      "[nltk_data] Downloading package punkt to /home/shivaram/nltk_data...\n",
      "[nltk_data]   Package punkt is already up-to-date!\n"
     ]
    }
   ],
   "source": [
    "import OCR_pipeline as OCR\n",
    "import TopicModeling as TM\n",
    "import jsonpickle"
   ]
  },
  {
   "cell_type": "markdown",
   "metadata": {},
   "source": [
    "# Text Extraction"
   ]
  },
  {
   "cell_type": "code",
   "execution_count": 6,
   "metadata": {},
   "outputs": [],
   "source": [
    "#Next Step: Automatically extract relative paths\n",
    "import storage\n",
    "import pickle\n",
    "\n",
    "textList = [\"sample data/Kenya/AgricultureFisheriesandFoodAuthorityNo13of2013.PDF\"]\n",
    "PolicyPapers = {}\n",
    "with open('policy_papers.pickle', 'rb') as readHandle:\n",
    "    PolicyPapers = pickle.load(readHandle)"
   ]
  },
  {
   "cell_type": "markdown",
   "metadata": {},
   "source": [
    "# Cleaning And Saving Extracted Text"
   ]
  },
  {
   "cell_type": "code",
   "execution_count": 8,
   "metadata": {},
   "outputs": [
    {
     "name": "stdout",
     "output_type": "stream",
     "text": [
      "3\n",
      "sample data/Kenya/Laboratory_Manual.pdf\n",
      "sample data/Kenya/ClimateChangeAct11of2016 (3).pdf\n",
      "sample data/Kenya/AgricultureFisheriesandFoodAuthorityNo13of2013.PDF\n"
     ]
    }
   ],
   "source": [
    "#dictionary for texts in terms of sentences\n",
    "import gc\n",
    "textDictionary = {}\n",
    "PolicyPapers.pop(\"sample data/Kenya/Sessional-paper-on-Kenya-National-Land-Policy.pdf\", None)\n",
    "PolicyPapers.pop(\"sample data/Kenya/Proposal_NFRA.pdf\", None)\n",
    "PolicyPapers.pop(\"sample data/Kenya/Kefristrategicplan2013-2018.pdf\", None)\n",
    "print(len(PolicyPapers))\n",
    "for key in PolicyPapers:\n",
    "    print(key)\n",
    "    currentPaper = storage.deserializeObject(PolicyPapers[key])\n",
    "    currentPaper.cleanedText = TM.toSentences(currentPaper.extractedText)\n",
    "    storage.serializeObject(currentPaper)\n",
    "    textDictionary[key] = currentPaper\n",
    "   # gc.collect()"
   ]
  },
  {
   "cell_type": "markdown",
   "metadata": {},
   "source": [
    "# LDA"
   ]
  },
  {
   "cell_type": "code",
   "execution_count": 9,
   "metadata": {},
   "outputs": [
    {
     "name": "stdout",
     "output_type": "stream",
     "text": [
      "[(19,\n",
      "  '0.047*\"former\" + 0.040*\"institution\" + 0.038*\"be\" + 0.025*\"liability\" + '\n",
      "  '0.021*\"proceeding\" + 0.020*\"respect\" + 0.018*\"other\" + 0.017*\"protection\" + '\n",
      "  '0.017*\"personal\" + 0.017*\"that\"'),\n",
      " (17,\n",
      "  '0.035*\"be\" + 0.022*\"council\" + 0.022*\"may\" + 0.018*\"such\" + '\n",
      "  '0.018*\"determine\" + 0.017*\"government\" + 0.013*\"agreement\" + 0.013*\"have\" + '\n",
      "  '0.011*\"agriculture\" + 0.011*\"act\"'),\n",
      " (1,\n",
      "  '0.033*\"land\" + 0.027*\"be\" + 0.023*\"may\" + 0.019*\"such\" + 0.018*\"require\" + '\n",
      "  '0.016*\"appeal\" + 0.016*\"business\" + 0.014*\"order\" + 0.014*\"affair\" + '\n",
      "  '0.013*\"person\"'),\n",
      " (20,\n",
      "  '0.048*\"be\" + 0.023*\"institution\" + 0.020*\"carry\" + 0.018*\"commercial\" + '\n",
      "  '0.017*\"shall\" + 0.016*\"activity\" + 0.016*\"compliance\" + 0.016*\"former\" + '\n",
      "  '0.015*\"act\" + 0.014*\"monitor\"'),\n",
      " (28,\n",
      "  '0.035*\"-PRON-\" + 0.032*\"act\" + 0.026*\"shall\" + 0.024*\"other\" + '\n",
      "  '0.017*\"authority\" + 0.016*\"person\" + 0.015*\"contract\" + '\n",
      "  '0.015*\"consideration\" + 0.015*\"interest\" + 0.015*\"law\"'),\n",
      " (24,\n",
      "  '0.033*\"be\" + 0.031*\"sieve\" + 0.027*\"soil\" + 0.023*\"use\" + 0.023*\"solution\" '\n",
      "  '+ 0.021*\"ferrous\" + 0.021*\"ammonium\" + 0.019*\"mm\" + 0.018*\"sulphate\" + '\n",
      "  '0.017*\"sample\"'),\n",
      " (6,\n",
      "  '0.060*\"provision\" + 0.048*\"part\" + 0.042*\"provide\" + 0.023*\"technical\" + '\n",
      "  '0.019*\"vii\" + 0.019*\"miscellaneous\" + 0.019*\"assistance\" + '\n",
      "  '0.018*\"parliament\" + 0.014*\"such\" + 0.014*\"land\"'),\n",
      " (27,\n",
      "  '0.056*\"be\" + 0.026*\"notice\" + 0.019*\"specify\" + 0.019*\"may\" + 0.018*\"shall\" '\n",
      "  '+ 0.017*\"which\" + 0.016*\"comment\" + 0.016*\"authority\" + 0.014*\"plan\" + '\n",
      "  '0.013*\"do\"'),\n",
      " (26,\n",
      "  '0.088*\"be\" + 0.028*\"layer\" + 0.024*\"cm\" + 0.023*\"toc\" + 0.016*\"factor\" + '\n",
      "  '0.016*\"conversion\" + 0.014*\"calculate\" + 0.014*\"excel\" + '\n",
      "  '0.014*\"application\" + 0.014*\"shall\"'),\n",
      " (12,\n",
      "  '0.023*\"capacity\" + 0.022*\"may\" + 0.022*\"ml\" + 0.019*\"be\" + 0.013*\"acid\" + '\n",
      "  '0.011*\"date\" + 0.011*\"flask\" + 0.010*\"officer\" + 0.009*\"such\" + '\n",
      "  '0.009*\"act\"'),\n",
      " (2,\n",
      "  '0.063*\"be\" + 0.061*\"authority\" + 0.033*\"shall\" + 0.022*\"institution\" + '\n",
      "  '0.021*\"former\" + 0.020*\"such\" + 0.018*\"which\" + 0.017*\"-PRON-\" + '\n",
      "  '0.017*\"function\" + 0.016*\"make\"'),\n",
      " (10,\n",
      "  '0.097*\"be\" + 0.021*\"subsection\" + 0.016*\"give\" + 0.015*\"person\" + '\n",
      "  '0.013*\"authority\" + 0.012*\"have\" + 0.012*\"such\" + 0.012*\"offence\" + '\n",
      "  '0.011*\"who\" + 0.011*\"do\"'),\n",
      " (21,\n",
      "  '0.058*\"authority\" + 0.051*\"fishery\" + 0.049*\"agriculture\" + 0.048*\"food\" + '\n",
      "  '0.030*\"act\" + 0.021*\"board\" + 0.020*\"schedule\" + 0.019*\"kenya\" + '\n",
      "  '0.014*\"institution\" + 0.014*\"notice\"'),\n",
      " (22,\n",
      "  '0.075*\"be\" + 0.065*\"sample\" + 0.032*\"soil\" + 0.026*\"litter\" + '\n",
      "  '0.025*\"debris\" + 0.021*\"field\" + 0.018*\"mass\" + 0.018*\"store\" + '\n",
      "  '0.017*\"plot\" + 0.017*\"weigh\"'),\n",
      " (7,\n",
      "  '0.077*\"board\" + 0.066*\"be\" + 0.059*\"shall\" + 0.050*\"member\" + '\n",
      "  '0.026*\"director\" + 0.026*\"matter\" + 0.025*\"meeting\" + 0.025*\"authority\" + '\n",
      "  '0.022*\"general\" + 0.021*\"chairperson\"'),\n",
      " (5,\n",
      "  '0.062*\"be\" + 0.027*\"weed\" + 0.024*\"noxious\" + 0.023*\"invasive\" + '\n",
      "  '0.022*\"have\" + 0.018*\"land\" + 0.016*\"government\" + 0.013*\"account\" + '\n",
      "  '0.013*\"shall\" + 0.011*\"act\"'),\n",
      " (15,\n",
      "  '0.088*\"land\" + 0.079*\"order\" + 0.048*\"be\" + 0.029*\"preservation\" + '\n",
      "  '0.022*\"occupier\" + 0.021*\"development\" + 0.021*\"shall\" + 0.020*\"government\" '\n",
      "  '+ 0.019*\"county\" + 0.019*\"owner\"'),\n",
      " (23,\n",
      "  '0.071*\"soil\" + 0.058*\"sample\" + 0.057*\"carbon\" + 0.057*\"organic\" + '\n",
      "  '0.050*\"be\" + 0.049*\"sediment\" + 0.041*\"mangrove\" + 0.033*\"method\" + '\n",
      "  '0.028*\"toc\" + 0.027*\"analysis\"'),\n",
      " (8,\n",
      "  '0.117*\"climate\" + 0.114*\"change\" + 0.040*\"secretary\" + 0.034*\"cabinet\" + '\n",
      "  '0.031*\"national\" + 0.030*\"action\" + 0.025*\"public\" + 0.022*\"county\" + '\n",
      "  '0.021*\"government\" + 0.018*\"shall\"'),\n",
      " (14,\n",
      "  '0.046*\"council\" + 0.042*\"act\" + 0.035*\"shall\" + 0.033*\"climate\" + '\n",
      "  '0.032*\"change\" + 0.027*\"action\" + 0.025*\"public\" + 0.023*\"plan\" + '\n",
      "  '0.023*\"report\" + 0.021*\"function\"')]\n"
     ]
    }
   ],
   "source": [
    "from pprint import pprint\n",
    "lemmatized_sents = []\n",
    "\n",
    "# Print the Keywords in the 5 topics\n",
    "for key in textDictionary:\n",
    "    paper = textDictionary[key]\n",
    "    lemmatized_sents.extend(paper.cleanedText)\n",
    "    \n",
    "corpus, lda_model = TM.LDA(lemmatized_sents)\n",
    "pprint(lda_model.print_topics())\n",
    "doc_lda = lda_model[corpus]\n",
    "#Next Step: Store LDA data in Policy Paper Object & other central file\n"
   ]
  },
  {
   "cell_type": "markdown",
   "metadata": {},
   "source": [
    "# Storage"
   ]
  },
  {
   "cell_type": "code",
   "execution_count": null,
   "metadata": {},
   "outputs": [],
   "source": []
  }
 ],
 "metadata": {
  "kernelspec": {
   "display_name": "Python 3",
   "language": "python",
   "name": "python3"
  },
  "language_info": {
   "codemirror_mode": {
    "name": "ipython",
    "version": 3
   },
   "file_extension": ".py",
   "mimetype": "text/x-python",
   "name": "python",
   "nbconvert_exporter": "python",
   "pygments_lexer": "ipython3",
   "version": "3.7.1"
  }
 },
 "nbformat": 4,
 "nbformat_minor": 2
}
