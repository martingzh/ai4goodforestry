{
 "cells": [
  {
   "cell_type": "markdown",
   "metadata": {},
   "source": [
    "# Import Statements"
   ]
  },
  {
   "cell_type": "code",
   "execution_count": 4,
   "metadata": {},
   "outputs": [],
   "source": [
    "import OCR_pipeline as OCR\n",
    "import TopicModeling as TM\n",
    "import jsonpickle"
   ]
  },
  {
   "cell_type": "markdown",
   "metadata": {},
   "source": [
    "# Text Extraction"
   ]
  },
  {
   "cell_type": "code",
   "execution_count": 10,
   "metadata": {},
   "outputs": [
    {
     "ename": "ModuleNotFoundError",
     "evalue": "No module named 'jsonpickle'",
     "output_type": "error",
     "traceback": [
      "\u001b[0;31m---------------------------------------------------------------------------\u001b[0m",
      "\u001b[0;31mModuleNotFoundError\u001b[0m                       Traceback (most recent call last)",
      "\u001b[0;32m<ipython-input-10-45e77e75af9a>\u001b[0m in \u001b[0;36m<module>\u001b[0;34m()\u001b[0m\n\u001b[1;32m      1\u001b[0m \u001b[0;31m#Next Step: Automatically extract relative paths\u001b[0m\u001b[0;34m\u001b[0m\u001b[0;34m\u001b[0m\u001b[0;34m\u001b[0m\u001b[0m\n\u001b[0;32m----> 2\u001b[0;31m \u001b[0;32mfrom\u001b[0m \u001b[0mstorage\u001b[0m \u001b[0;32mimport\u001b[0m \u001b[0mstorage\u001b[0m\u001b[0;34m\u001b[0m\u001b[0;34m\u001b[0m\u001b[0m\n\u001b[0m\u001b[1;32m      3\u001b[0m \u001b[0;32mimport\u001b[0m \u001b[0mjsonpickle\u001b[0m\u001b[0;34m\u001b[0m\u001b[0;34m\u001b[0m\u001b[0m\n\u001b[1;32m      4\u001b[0m \u001b[0;34m\u001b[0m\u001b[0m\n\u001b[1;32m      5\u001b[0m \u001b[0mtextList\u001b[0m \u001b[0;34m=\u001b[0m \u001b[0;34m[\u001b[0m\u001b[0;34m\"sample data/Kenya/AgricultureFisheriesandFoodAuthorityNo13of2013.PDF\"\u001b[0m\u001b[0;34m]\u001b[0m\u001b[0;34m\u001b[0m\u001b[0;34m\u001b[0m\u001b[0m\n",
      "\u001b[0;32m~/.Trash/ai4goodforestry/storage.py\u001b[0m in \u001b[0;36m<module>\u001b[0;34m()\u001b[0m\n\u001b[1;32m      1\u001b[0m \u001b[0;32mfrom\u001b[0m \u001b[0mOCR_pipeline\u001b[0m \u001b[0;32mimport\u001b[0m \u001b[0mextractTextFromPaper\u001b[0m\u001b[0;34m\u001b[0m\u001b[0;34m\u001b[0m\u001b[0m\n\u001b[0;32m----> 2\u001b[0;31m \u001b[0;32mimport\u001b[0m \u001b[0mjsonpickle\u001b[0m\u001b[0;34m\u001b[0m\u001b[0;34m\u001b[0m\u001b[0m\n\u001b[0m\u001b[1;32m      3\u001b[0m \u001b[0;31m# pip install -U jsonpickle\u001b[0m\u001b[0;34m\u001b[0m\u001b[0;34m\u001b[0m\u001b[0;34m\u001b[0m\u001b[0m\n\u001b[1;32m      4\u001b[0m \u001b[0;34m\u001b[0m\u001b[0m\n\u001b[1;32m      5\u001b[0m \u001b[0;34m\u001b[0m\u001b[0m\n",
      "\u001b[0;31mModuleNotFoundError\u001b[0m: No module named 'jsonpickle'"
     ]
    }
   ],
   "source": [
    "#Next Step: Automatically extract relative paths\n",
    "from storage import storage\n",
    "\n",
    "textList = [\"sample data/Kenya/AgricultureFisheriesandFoodAuthorityNo13of2013.PDF\"]\n",
    "PolicyPapers = {}\n",
    "for text in textList:\n",
    "    #Next Step:track whether file has already been created. If so, load it\n",
    "    PPList[text] = PolicyPaper(text) "
   ]
  },
  {
   "cell_type": "markdown",
   "metadata": {},
   "source": [
    "# Cleaning Extracted Text"
   ]
  },
  {
   "cell_type": "code",
   "execution_count": 5,
   "metadata": {},
   "outputs": [
    {
     "name": "stdout",
     "output_type": "stream",
     "text": [
      "{}\n"
     ]
    }
   ],
   "source": [
    "#dictionary for texts in terms of sentences\n",
    "textDictionary = {}\n",
    "for key in PolicyPapers:\n",
    "    currentPaper = PolicyPapers[key]\n",
    "    #Next Step: Store sentence data in Policy Paper Object\n",
    "    textDictionary[key] = TM.toSentences(currentPaper.extractedText)\n",
    "    currentText.cleanedText = textDictionary[key]\n",
    "    \n",
    "\n",
    "print(textDictionary)    "
   ]
  },
  {
   "cell_type": "markdown",
   "metadata": {},
   "source": [
    "# LDA"
   ]
  },
  {
   "cell_type": "code",
   "execution_count": 4,
   "metadata": {},
   "outputs": [
    {
     "name": "stderr",
     "output_type": "stream",
     "text": [
      "/home/shivaram/anaconda3/lib/python3.7/site-packages/gensim/models/ldamodel.py:579: RuntimeWarning: divide by zero encountered in double_scalars\n",
      "  perwordbound = self.bound(chunk, subsample_ratio=subsample_ratio) / (subsample_ratio * corpus_words)\n"
     ]
    },
    {
     "name": "stdout",
     "output_type": "stream",
     "text": [
      "[(9,\n",
      "  '0.058*\"nbook\" + 0.032*\"application\" + 0.023*\"prejudice\" + '\n",
      "  '0.021*\"description\" + 0.021*\"generality\" + 0.015*\"value\" + 0.015*\"return\" + '\n",
      "  '0.015*\"industry\" + 0.015*\"servant\" + 0.015*\"ninformation\"'),\n",
      " (18,\n",
      "  '0.066*\"effect\" + 0.028*\"nis\" + 0.017*\"nrequir\" + 0.011*\"destruction\" + '\n",
      "  '0.011*\"prohibit\" + 0.011*\"nsoil\" + 0.011*\"afforestation\" + '\n",
      "  '0.011*\"regulating\" + 0.011*\"restrict\" + 0.011*\"soil\"'),\n",
      " (2,\n",
      "  '0.091*\"nproceeding\" + 0.047*\"remain\" + 0.039*\"suit\" + 0.019*\"forme\" + '\n",
      "  '0.018*\"long\" + 0.017*\"prejudicially\" + 0.017*\"enforce\" + '\n",
      "  '0.017*\"wheresoever\" + 0.017*\"whatev\" + 0.017*\"discontinue\"'),\n",
      " (11,\n",
      "  '0.047*\"arbitration\" + 0.042*\"termination\" + 0.042*\"lessor\" + '\n",
      "  '0.040*\"enforceable\" + 0.036*\"nature\" + 0.034*\"nnot\" + 0.031*\"special\" + '\n",
      "  '0.029*\"agreement\" + 0.021*\"lease\" + 0.021*\"expiration\"'),\n",
      " (25,\n",
      "  '0.150*\"nin\" + 0.076*\"contain\" + 0.062*\"particular\" + 0.025*\"extend\" + '\n",
      "  '0.015*\"also\" + 0.005*\"when\" + 0.000*\"novernment\" + 0.000*\"therein\" + '\n",
      "  '0.000*\"nby\" + 0.000*\"writing\"'),\n",
      " (24,\n",
      "  '0.120*\"date\" + 0.047*\"nevery\" + 0.047*\"least\" + 0.035*\"object\" + '\n",
      "  '0.024*\"requisition\" + 0.024*\"quarter\" + 0.024*\"total\" + 0.024*\"nnext\" + '\n",
      "  '0.024*\"convene\" + 0.024*\"at\"'),\n",
      " (15,\n",
      "  '0.092*\"period\" + 0.085*\"keep\" + 0.061*\"nbe\" + 0.061*\"record\" + '\n",
      "  '0.045*\"resolution\" + 0.043*\"nasset\" + 0.008*\"income\" + 0.008*\"submit\" + '\n",
      "  '0.004*\"neeal\" + 0.004*\"phe\"'),\n",
      " (1,\n",
      "  '0.088*\"present\" + 0.071*\"paragraph\" + 0.062*\"legal\" + 0.051*\"nservice\" + '\n",
      "  '0.044*\"revoke\" + 0.036*\"nfund\" + 0.025*\"elsewhere\" + 0.016*\"observe\" + '\n",
      "  '0.016*\"contingent\" + 0.009*\"nreview\"'),\n",
      " (10,\n",
      "  '0.077*\"claim\" + 0.071*\"incur\" + 0.058*\"liable\" + 0.044*\"execute\" + '\n",
      "  '0.041*\"absence\" + 0.041*\"nmatter\" + 0.025*\"action\" + 0.022*\"court\" + '\n",
      "  '0.017*\"render\" + 0.015*\"duly\"'),\n",
      " (13,\n",
      "  '0.076*\"require\" + 0.060*\"nmade\" + 0.060*\"that\" + 0.048*\"otherwise\" + '\n",
      "  '0.044*\"regard\" + 0.039*\"effective\" + 0.027*\"naccordance\" + 0.026*\"thereby\" '\n",
      "  '+ 0.014*\"community\" + 0.011*\"legislation\"'),\n",
      " (26,\n",
      "  '0.203*\"day\" + 0.087*\"vote\" + 0.063*\"subject\" + 0.036*\"objective\" + '\n",
      "  '0.035*\"preside\" + 0.026*\"nsuch\" + 0.020*\"exercise\" + 0.017*\"voting\" + '\n",
      "  '0.017*\"vacancy\" + 0.017*\"unanimous\"'),\n",
      " (19,\n",
      "  '0.180*\"make\" + 0.152*\"purpose\" + 0.126*\"matter\" + 0.036*\"generally\" + '\n",
      "  '0.036*\"ndecision\" + 0.035*\"authorize\" + 0.023*\"provide\" + '\n",
      "  '0.018*\"administrative\" + 0.015*\"relevant\" + 0.015*\"nan\"'),\n",
      " (28,\n",
      "  '0.117*\"nof\" + 0.070*\"nboard\" + 0.067*\"regulation\" + 0.056*\"schedule\" + '\n",
      "  '0.055*\"shal\" + 0.047*\"sector\" + 0.035*\"nstaff\" + 0.033*\"nbusiness\" + '\n",
      "  '0.023*\"payment\" + 0.020*\"nsecond\"'),\n",
      " (20,\n",
      "  '0.117*\"meeting\" + 0.046*\"continue\" + 0.044*\"notice\" + 0.041*\"term\" + '\n",
      "  '0.040*\"serve\" + 0.038*\"offence\" + 0.037*\"exceed\" + 0.037*\"month\" + '\n",
      "  '0.036*\"deem\" + 0.031*\"nby\"'),\n",
      " (23,\n",
      "  '0.093*\"land\" + 0.060*\"order\" + 0.050*\"county\" + 0.043*\"enter\" + '\n",
      "  '0.037*\"provision\" + 0.034*\"policy\" + 0.029*\"register\" + 0.029*\"respective\" '\n",
      "  '+ 0.028*\"preservation\" + 0.026*\"affect\"'),\n",
      " (4,\n",
      "  '0.208*\"institution\" + 0.064*\"nauthority\" + 0.055*\"company\" + '\n",
      "  '0.048*\"successor\" + 0.045*\"commercial\" + 0.039*\"ninstitution\" + '\n",
      "  '0.036*\"thereof\" + 0.035*\"transfer\" + 0.032*\"nformer\" + 0.030*\"carry\"'),\n",
      " (0,\n",
      "  '0.184*\"which\" + 0.128*\"have\" + 0.094*\"other\" + 0.059*\"case\" + '\n",
      "  '0.049*\"relate\" + 0.045*\"include\" + 0.031*\"mean\" + 0.031*\"nagriculture\" + '\n",
      "  '0.027*\"establish\" + 0.018*\"responsible\"'),\n",
      " (8,\n",
      "  '0.201*\"member\" + 0.174*\"board\" + 0.071*\"staff\" + 0.041*\"title\" + '\n",
      "  '0.038*\"function\" + 0.029*\"year\" + 0.028*\"business\" + 0.026*\"liability\" + '\n",
      "  '0.026*\"commencement\" + 0.023*\"section\"'),\n",
      " (29,\n",
      "  '0.229*\"authority\" + 0.138*\"act\" + 0.107*\"nthe\" + 0.078*\"fishery\" + '\n",
      "  '0.078*\"food\" + 0.061*\"agriculture\" + 0.049*\"government\" + 0.029*\"kenya\" + '\n",
      "  '0.025*\"ccccseseeee\" + 0.025*\"papertype\"'),\n",
      " (17,\n",
      "  '0.328*\"be\" + 0.184*\"shall\" + 0.073*\"such\" + 0.068*\"not\" + 0.067*\"may\" + '\n",
      "  '0.055*\"-PRON-\" + 0.043*\"appoint\" + 0.031*\"nand\" + 0.027*\"secretary\" + '\n",
      "  '0.023*\"cabinet\"')]\n"
     ]
    }
   ],
   "source": [
    "from pprint import pprint\n",
    "\n",
    "# Print the Keywords in the 5 topics\n",
    "for key in textDictionary:\n",
    "    lemmatized_sents = textDictionary[key]\n",
    "    corpus, lda_model = TM.LDA(lemmatized_sents)\n",
    "    PolicyPapers[key].LDA = lda_model\n",
    "    PolicyPapers[key].corpus = corpus\n",
    "    pprint(lda_model.print_topics())\n",
    "    doc_lda = lda_model[corpus]\n",
    "    #Next Step: Store LDA data in Policy Paper Object & other central file\n"
   ]
  },
  {
   "cell_type": "markdown",
   "metadata": {},
   "source": [
    "# Storage"
   ]
  },
  {
   "cell_type": "code",
   "execution_count": null,
   "metadata": {},
   "outputs": [],
   "source": []
  }
 ],
 "metadata": {
  "kernelspec": {
   "display_name": "Python 3",
   "language": "python",
   "name": "python3"
  },
  "language_info": {
   "codemirror_mode": {
    "name": "ipython",
    "version": 3
   },
   "file_extension": ".py",
   "mimetype": "text/x-python",
   "name": "python",
   "nbconvert_exporter": "python",
   "pygments_lexer": "ipython3",
   "version": "3.7.1"
  }
 },
 "nbformat": 4,
 "nbformat_minor": 2
}
