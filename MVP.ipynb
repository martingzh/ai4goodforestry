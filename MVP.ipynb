{
 "cells": [
  {
   "cell_type": "markdown",
   "metadata": {},
   "source": [
    "# Import Statements"
   ]
  },
  {
   "cell_type": "code",
   "execution_count": 98,
   "metadata": {},
   "outputs": [
    {
     "name": "stdout",
     "output_type": "stream",
     "text": [
      "[nltk_data] Downloading package punkt to\n",
      "[nltk_data]     /Users/catharinewu/nltk_data...\n",
      "[nltk_data]   Package punkt is already up-to-date!\n",
      "The autoreload extension is already loaded. To reload it, use:\n",
      "  %reload_ext autoreload\n"
     ]
    }
   ],
   "source": [
    "%load_ext autoreload\n",
    "%autoreload 2"
   ]
  },
  {
   "cell_type": "code",
   "execution_count": 99,
   "metadata": {},
   "outputs": [],
   "source": [
    "import OCR_pipeline as OCR\n",
    "import TopicModeling as TM\n",
    "import jsonpickle"
   ]
  },
  {
   "cell_type": "markdown",
   "metadata": {},
   "source": [
    "# Cleaning And Saving Extracted Text"
   ]
  },
  {
   "cell_type": "code",
   "execution_count": 101,
   "metadata": {},
   "outputs": [],
   "source": [
    "import mysql.connector\n",
    "\n",
    "mydb = mysql.connector.connect(\n",
    "  host=\"localhost\",\n",
    "  user=\"root\",\n",
    "  passwd=\"seagull12\",\n",
    "  database=\"forestry\"\n",
    ")\n",
    "mycursor = mydb.cursor()\n",
    "\n",
    "def getExtractedTexts():\n",
    "    mycursor.execute(\"SELECT filename, pid, text from PolicyPaperPages \" \\\n",
    "                     \"GROUP BY filename, pid ORDER BY filename, pid\")\n",
    "\n",
    "    myresult = mycursor.fetchall()\n",
    "    \n",
    "    return combinePages(myresult)\n",
    "\n",
    "def combinePages(myresult):\n",
    "    curr_filename = okay[0][0]\n",
    "    curr_pages = []\n",
    "\n",
    "    file_texts = []\n",
    "    for result in okay:\n",
    "        if result[0] != curr_filename:\n",
    "            file_texts.append((curr_filename, ' '.join(curr_pages)))\n",
    "            curr_pages = []\n",
    "            curr_filename = result[0]\n",
    "        else:\n",
    "            curr_pages.append(result[2])\n",
    "\n",
    "    file_texts.append((result[0], ' '.join(curr_pages)))\n",
    "    return file_texts\n",
    "\n",
    "def getExtractedTexts():\n",
    "    mycursor.execute(\"SELECT filename, extractedText FROM PolicyPapers\")\n",
    "    myresult = mycursor.fetchall()\n",
    "    return [x for x in myresult]\n",
    "\n",
    "def getExtractedTextsFromCountries(countries):\n",
    "    sqlStatement = \"SELECT filename, extractedText FROM PolicyPapers WHERE\"\n",
    "    \n",
    "    for i in range(len(countries)):\n",
    "        whereClause = \" country = '%s' \" % countries[i]\n",
    "        sqlStatement += whereClause\n",
    "        if len(countries) != 1 and i < len(countries) - 1:\n",
    "            sqlStatement += \"or\"\n",
    "            \n",
    "    mycursor.execute(sqlStatement)\n",
    "    myresult = mycursor.fetchall()\n",
    "    return [x for x in myresult]"
   ]
  },
  {
   "cell_type": "code",
   "execution_count": 102,
   "metadata": {},
   "outputs": [],
   "source": [
    "key_words = ['afforestation','agriculture','animal welfare','artificial regeneration','biodiversity',\n",
    "             'biological resources','biome','board','clean','coconut','conservation','control','database',\n",
    "             'enforcement','environment','farm','financing','forest','forest protection','funding','fundraising',\n",
    "             'land ','land use','landholder','law','measuring','mobilization','monitor','natural resources',\n",
    "             'oversight','plant breeders','plants','pollution','preservation','produce','protection','qualification',\n",
    "             'quality','registry','regulation','reporting','reserve','resource','restriction','results-driven',\n",
    "             'rural','safeguard','species' ,'support','sustainable','technical submission','threatened species',\n",
    "             'variety','verification','wastewater','water','watershed','wild life']"
   ]
  },
  {
   "cell_type": "code",
   "execution_count": 103,
   "metadata": {},
   "outputs": [],
   "source": [
    "spanish_key_words = ['repoblación forestal', 'agricultura', 'bienestar de los animales', 'regeneración artificial', \n",
    "                     'biodiversidad', 'recursos biologicos', 'bioma', 'tablero', 'limpiar', 'Coco', 'conservación',\n",
    "                     'controlar', 'base de datos', 'aplicación', 'ambiente', 'granja', 'financiación', 'bosque', \n",
    "                     'protección forestal', 'fondos', 'recaudación de fondos', 'tierra', 'uso del suelo', \n",
    "                     'terrateniente', 'ley', 'medición', 'movilización', 'monitor', 'recursos naturales', 'vigilancia',\n",
    "                     'fitomejoradores', 'plantas', 'contaminación', 'preservación', 'Produce', 'proteccion',\n",
    "                     'calificación', 'calidad', 'registro', 'regulación', 'reportando', 'reserva', 'recurso', \n",
    "                     'restricción', 'impulsado por resultados', 'rural', 'salvaguardia', 'especies', 'apoyo', \n",
    "                     'sostenible', 'sumisión técnica', 'especies amenazadas', 'variedad', 'verificación', \n",
    "                     'aguas residuales', 'agua', 'cuenca', 'fauna silvestre']"
   ]
  },
  {
   "cell_type": "code",
   "execution_count": 104,
   "metadata": {},
   "outputs": [],
   "source": [
    "#dictionary for texts in terms of sentences\n",
    "import re\n",
    "import gc\n",
    "textDictionary = {}\n",
    "countries = ['India']\n",
    "policyPapers = getExtractedTextsFromCountries(countries)\n",
    "language_keywords = {}\n",
    "language_keywords['english'] = key_words\n",
    "language_keywords['spanish'] = spanish_key_words\n",
    "for paper in policyPapers:\n",
    "    cleanWhitespaces = re.sub(r'(.) ', r'\\1', paper[1])\n",
    "    cleanedText = TM.toSentences(cleanWhitespaces, 'english', language_keywords['english'])\n",
    "    textDictionary[paper[0]] = cleanedText"
   ]
  },
  {
   "cell_type": "markdown",
   "metadata": {},
   "source": [
    "# LDA"
   ]
  },
  {
   "cell_type": "code",
   "execution_count": 105,
   "metadata": {
    "scrolled": false
   },
   "outputs": [
    {
     "name": "stdout",
     "output_type": "stream",
     "text": [
      "[(10,\n",
      "  '0.042*\"forest\" + 0.025*\"damage\" + 0.016*\"timber\" + 0.014*\"land\" + '\n",
      "  '0.013*\"officer\" + 0.013*\"tree\" + 0.012*\"loss\" + 0.011*\"mark\" + '\n",
      "  '0.011*\"depot\" + 0.010*\"shall\"'),\n",
      " (6,\n",
      "  '0.033*\"water\" + 0.012*\"wild\" + 0.012*\"animal\" + 0.011*\"hunt\" + '\n",
      "  '0.008*\"cause\" + 0.007*\"include\" + 0.007*\"mean\" + 0.007*\"activity\" + '\n",
      "  '0.007*\"degradation\" + 0.006*\"affect\"'),\n",
      " (13,\n",
      "  '0.037*\"mineral\" + 0.026*\"state\" + 0.014*\"quantity\" + 0.013*\"annual\" + '\n",
      "  '0.013*\"government\" + 0.012*\"year\" + 0.011*\"land\" + 0.011*\"part\" + '\n",
      "  '0.011*\"shall\" + 0.010*\"ore\"'),\n",
      " (19,\n",
      "  '0.026*\"name\" + 0.025*\"mineral\" + 0.024*\"mine\" + 0.023*\"mining\" + '\n",
      "  '0.022*\"coconut\" + 0.019*\"controller\" + 0.018*\"mean\" + 0.015*\"agent\" + '\n",
      "  '0.014*\"owner\" + 0.014*\"rule\"'),\n",
      " (27,\n",
      "  '0.035*\"monitor\" + 0.017*\"need\" + 0.013*\"regulation\" + 0.012*\"forest\" + '\n",
      "  '0.010*\"medium\" + 0.009*\"regulatory\" + 0.009*\"use\" + 0.009*\"moud\" + '\n",
      "  '0.008*\"service\" + 0.008*\"burden\"'),\n",
      " (23,\n",
      "  '0.052*\"section\" + 0.038*\"sub\" + 0.027*\"shall\" + 0.018*\"member\" + '\n",
      "  '0.014*\"department\" + 0.013*\"person\" + 0.012*\"board\" + 0.010*\"appoint\" + '\n",
      "  '0.010*\"government\" + 0.010*\"officer\"'),\n",
      " (14,\n",
      "  '0.019*\"specie\" + 0.015*\"state\" + 0.014*\"support\" + 0.012*\"area\" + '\n",
      "  '0.011*\"institution\" + 0.010*\"indigenous\" + 0.010*\"university\" + '\n",
      "  '0.009*\"establishment\" + 0.009*\"act\" + 0.008*\"grant\"'),\n",
      " (18,\n",
      "  '0.012*\"survey\" + 0.010*\"india\" + 0.009*\"zoo\" + 0.009*\"map\" + '\n",
      "  '0.008*\"wetland\" + 0.007*\"datum\" + 0.007*\"state\" + 0.006*\"model\" + '\n",
      "  '0.006*\"specie\" + 0.006*\"course\"'),\n",
      " (5,\n",
      "  '0.028*\"area\" + 0.023*\"land\" + 0.017*\"forest\" + 0.016*\"water\" + 0.016*\"mine\" '\n",
      "  '+ 0.014*\"surface\" + 0.013*\"hectare\" + 0.012*\"mining\" + 0.012*\"plan\" + '\n",
      "  '0.008*\"shall\"'),\n",
      " (16,\n",
      "  '0.043*\"act\" + 0.038*\"shall\" + 0.032*\"committee\" + 0.027*\"market\" + '\n",
      "  '0.026*\"officer\" + 0.020*\"law\" + 0.020*\"deem\" + 0.019*\"rule\" + '\n",
      "  '0.015*\"section\" + 0.014*\"provision\"'),\n",
      " (29,\n",
      "  '0.057*\"forest\" + 0.012*\"officer\" + 0.011*\"area\" + 0.010*\"wetland\" + '\n",
      "  '0.009*\"person\" + 0.008*\"information\" + 0.008*\"national\" + 0.007*\"state\" + '\n",
      "  '0.007*\"prevent\" + 0.007*\"police\"'),\n",
      " (7,\n",
      "  '0.021*\"environmental\" + 0.017*\"water\" + 0.016*\"pollution\" + 0.016*\"high\" + '\n",
      "  '0.011*\"control\" + 0.010*\"air\" + 0.009*\"laboratory\" + 0.009*\"cause\" + '\n",
      "  '0.007*\"standard\" + 0.007*\"provide\"'),\n",
      " (21,\n",
      "  '0.019*\"activity\" + 0.019*\"industry\" + 0.015*\"crop\" + 0.014*\"use\" + '\n",
      "  '0.012*\"strategy\" + 0.010*\"water\" + 0.010*\"sector\" + 0.010*\"farmer\" + '\n",
      "  '0.010*\"agriculture\" + 0.009*\"agri\"'),\n",
      " (11,\n",
      "  '0.052*\"authority\" + 0.044*\"state\" + 0.029*\"shall\" + 0.027*\"fund\" + '\n",
      "  '0.024*\"committee\" + 0.022*\"government\" + 0.022*\"national\" + 0.018*\"section\" '\n",
      "  '+ 0.016*\"organisation\" + 0.015*\"act\"'),\n",
      " (24,\n",
      "  '0.045*\"shall\" + 0.041*\"government\" + 0.039*\"land\" + 0.026*\"state\" + '\n",
      "  '0.017*\"licence\" + 0.016*\"permit\" + 0.016*\"provide\" + 0.016*\"right\" + '\n",
      "  '0.015*\"grant\" + 0.014*\"person\"'),\n",
      " (17,\n",
      "  '0.028*\"water\" + 0.019*\"area\" + 0.019*\"increase\" + 0.014*\"irrigation\" + '\n",
      "  '0.010*\"forest\" + 0.010*\"disease\" + 0.010*\"temperature\" + 0.009*\"pradesh\" + '\n",
      "  '0.009*\"lead\" + 0.008*\"rainfall\"'),\n",
      " (4,\n",
      "  '0.099*\"water\" + 0.025*\"high\" + 0.022*\"irrigation\" + 0.016*\"recharge\" + '\n",
      "  '0.015*\"ground\" + 0.014*\"groundwater\" + 0.013*\"use\" + 0.011*\"resource\" + '\n",
      "  '0.010*\"management\" + 0.009*\"zone\"'),\n",
      " (2,\n",
      "  '0.070*\"climate\" + 0.067*\"change\" + 0.032*\"state\" + 0.030*\"pradesh\" + '\n",
      "  '0.028*\"plan\" + 0.026*\"environment\" + 0.026*\"development\" + 0.024*\"action\" + '\n",
      "  '0.024*\"protection\" + 0.023*\"research\"'),\n",
      " (25,\n",
      "  '0.080*\"forest\" + 0.033*\"mission\" + 0.024*\"community\" + 0.018*\"support\" + '\n",
      "  '0.016*\"conservation\" + 0.012*\"ecosystem\" + 0.012*\"area\" + '\n",
      "  '0.011*\"management\" + 0.011*\"carbon\" + 0.010*\"include\"'),\n",
      " (22,\n",
      "  '0.031*\"water\" + 0.022*\"energy\" + 0.017*\"urban\" + 0.017*\"rural\" + '\n",
      "  '0.017*\"climate\" + 0.013*\"change\" + 0.011*\"population\" + 0.011*\"management\" '\n",
      "  '+ 0.010*\"capacity\" + 0.010*\"efficiency\"')]\n"
     ]
    }
   ],
   "source": [
    "from pprint import pprint\n",
    "lemmatized_sents = []\n",
    "\n",
    "# Print the Keywords in the 5 topics\n",
    "for key in textDictionary:\n",
    "    cleanedText = textDictionary[key]\n",
    "    lemmatized_sents.extend(cleanedText)\n",
    "    \n",
    "corpus, lda_model = TM.LDA(lemmatized_sents)\n",
    "pprint(lda_model.print_topics())\n",
    "doc_lda = lda_model[corpus]\n",
    "#Next Step: Store LDA data in Policy Paper Object & other central file"
   ]
  },
  {
   "cell_type": "code",
   "execution_count": 106,
   "metadata": {},
   "outputs": [],
   "source": [
    "my = lda_model.print_topics()[0][1]"
   ]
  },
  {
   "cell_type": "code",
   "execution_count": 107,
   "metadata": {},
   "outputs": [
    {
     "data": {
      "text/plain": [
       "['forest',\n",
       " 'damage',\n",
       " 'timber',\n",
       " 'land',\n",
       " 'officer',\n",
       " 'tree',\n",
       " 'loss',\n",
       " 'mark',\n",
       " 'depot',\n",
       " 'shall']"
      ]
     },
     "execution_count": 107,
     "metadata": {},
     "output_type": "execute_result"
    }
   ],
   "source": [
    "re.findall(r\"[a-zA-Z]+\",my)"
   ]
  },
  {
   "cell_type": "markdown",
   "metadata": {},
   "source": [
    "## Extract sentences by Keywords"
   ]
  },
  {
   "cell_type": "markdown",
   "metadata": {},
   "source": [
    "### TODO: Have a feature on the web app so that the user can extract text using keywords"
   ]
  },
  {
   "cell_type": "code",
   "execution_count": 108,
   "metadata": {},
   "outputs": [],
   "source": [
    "#Try with the first document\n",
    "policy_0 = policyPapers[0][1]\n",
    "sentences = TM.ReturnSentence(policy_0)"
   ]
  },
  {
   "cell_type": "code",
   "execution_count": 109,
   "metadata": {},
   "outputs": [
    {
     "name": "stdout",
     "output_type": "stream",
     "text": [
      " (2) Notwithstanding anything contained in sub-rule (1) a scheme of prospecting, shall include: (a) baseline information of prevailing environmental conditions before the beginning of prospecting operations; (b) [steps proposed to be taken for protection of environment which will include] prevention and control of air and water pollution, progressive reclamation and rehabilitation of the land disturbed by the prospecting operations, a scheme for the plantation of trees, and such other measures, as may be directed from time to time by the Controller General or the authorised officer for minimising the adverse effect of prospecting operations on the environment\n",
      " Types of plans and sections: (1) The owner, agent, mining engineer or manager of every mine shall keep the following plans and sections(a) a surface plan showing every surface feature within the mining lease boundaries, such as building, telephone, telegraph or power transmission line, watermain, tramline, railway, road, river, water-course, reservoir, tank, bore-hole, shaft and incline opening , opencast working, dumps and dumping ground, the waste land, forest, sanctuaries, agricultural land and grazing land and subsidence on the surface\n",
      " (5) The owner, agent, mining engineer or manager of every mine shall keep the following: (a) A key plan on a scale of 1:63,000 or 1:50,000 incorporating the following: [(i) an administrative surface map showing the boundary of the mining lease, and the adjoining area lying preferably within five kilometres thereof;] (ii) Contours at not more than twenty metres intervals; (iii) Natural drainage system such as rivers, streams, nalahs, water reservoirs, ponds, lakes, irrigation dams and canals; (iv) Roadways and railways; (v) Places of historical and archaeological importance, monuments, places of worship, pilgrimage and of tourist interest; (vi) Forests with tree density, sanctuaries, wastelands, agricultural lands, grazing lands; (vii) Boundaries of all villages and towns with their population; (viii) Predominant wind direction; (ix) Any other relevant features\n",
      " (2) The top soil so removed shall be utilised for restoration or rehabilitation of the land which is no longer required for prospecting or mining operations or for stabilising or landscaping the external dumps\n",
      " shall be back-filled into the mine excavations with a view to restoring the land to its original use as far as possible\n",
      " (6) The fines, rejects or tailings from mine, beneficiation or metallurgical plants shall be deposited and disposed in a specially prepared tailings disposal area such that they are not allowed to flow away and cause land degradation or damage to agricultural field, pollution of surface water bodies and ground water or cause floods\n",
      " Reclamation and rehabilitation of lands: Every holder of prospecting licence or mining lease shall undertake the phased restoration, reclamation and rehabilitation of lands affected by prospecting or mining operations and shall complete this work before the conclusion of such operations and the abandonment of prospect or mine\n",
      ", tailing ponds, into surface water bodies, ground water aquifier and useable lands, to a minimum\n",
      "  *** Including any non recurring expenditure incurred on the acquisition of land\n"
     ]
    }
   ],
   "source": [
    "#This can be used as a preview feature\n",
    "for s in sentences:\n",
    "    if 'land' in s:\n",
    "        print(s)"
   ]
  },
  {
   "cell_type": "markdown",
   "metadata": {},
   "source": [
    "## Use Key Words to classify documents"
   ]
  },
  {
   "cell_type": "code",
   "execution_count": 110,
   "metadata": {},
   "outputs": [],
   "source": [
    "key_words = ['afforestation','agriculture','animal welfare','artificial regeneration','biodiversity',\n",
    "             'biological resources','biome','board','clean','coconut','conservation','control','database',\n",
    "             'enforcement','environment','farm','financing','forest','forest protection','funding','fundraising',\n",
    "             'land ','land use','landholder','law','measuring','mobilization','monitor','natural resources',\n",
    "             'oversight','plant breeders','plants','pollution','preservation','produce','protection','qualification',\n",
    "             'quality','registry','regulation','reporting','reserve','resource','restriction','results-driven',\n",
    "             'rural','safeguard','species' ,'support','sustainable','technical submission','threatened species',\n",
    "             'variety','verification','wastewater','water','watershed','wild life']"
   ]
  },
  {
   "cell_type": "code",
   "execution_count": 111,
   "metadata": {},
   "outputs": [
    {
     "data": {
      "text/plain": [
       "False"
      ]
     },
     "execution_count": 111,
     "metadata": {},
     "output_type": "execute_result"
    }
   ],
   "source": [
    "'artificial regeneration' in cleanWhitespaces"
   ]
  },
  {
   "cell_type": "markdown",
   "metadata": {},
   "source": [
    "# Visualizations"
   ]
  },
  {
   "cell_type": "markdown",
   "metadata": {},
   "source": [
    "### pyLDAvis"
   ]
  },
  {
   "cell_type": "markdown",
   "metadata": {},
   "source": [
    "`pip install pyldavis`"
   ]
  },
  {
   "cell_type": "markdown",
   "metadata": {},
   "source": [
    "Code source: https://markroxor.github.io/gensim/static/notebooks/gensim_news_classification.html\n",
    "<br>\n",
    "The area of the circles represent the prevalance of the topic. The length of the bars on the right represent the membership of a term in a particular topic. "
   ]
  },
  {
   "cell_type": "code",
   "execution_count": 112,
   "metadata": {},
   "outputs": [],
   "source": [
    "import pyLDAvis.gensim\n",
    "pyLDAvis.enable_notebook()\n",
    "pyLDAvis.gensim.prepare(lda_model, corpus, dictionary=lda_model.id2word)\n",
    "# p = pyLDAvis.gensim.prepare(lda_model, corpus, dictionary=lda_model.id2word)\n",
    "# pyLDAvis.save_html(p, 'pyLDAvis.html')"
   ]
  },
  {
   "cell_type": "markdown",
   "metadata": {},
   "source": [
    "### WordCloud"
   ]
  },
  {
   "cell_type": "markdown",
   "metadata": {},
   "source": [
    "`pip install wordcloud`"
   ]
  },
  {
   "cell_type": "markdown",
   "metadata": {},
   "source": [
    "Code source: https://medium.com/@rudyb2001/making-sense-of-the-news-using-machine-learning-e13ed5f96cf0\n",
    "<br>\n",
    "WordCloud of Top 10 words in each topic with the sizes of the words proportional to the weights."
   ]
  },
  {
   "cell_type": "code",
   "execution_count": 113,
   "metadata": {
    "scrolled": true
   },
   "outputs": [
    {
     "data": {
      "text/plain": [
       "10"
      ]
     },
     "execution_count": 113,
     "metadata": {},
     "output_type": "execute_result"
    }
   ],
   "source": [
    "len(lda_model.show_topics(formatted=False))"
   ]
  },
  {
   "cell_type": "code",
   "execution_count": 114,
   "metadata": {},
   "outputs": [
    {
     "data": {
      "image/png": "[encoded data removed]",
      "text/plain": [
       "<matplotlib.figure.Figure at 0x1a3ea6ca58>"
      ]
     },
     "metadata": {},
     "output_type": "display_data"
    }
   ],
   "source": [
    "from matplotlib import pyplot as plt\n",
    "import matplotlib.colors as mcolors\n",
    "from wordcloud import WordCloud, STOPWORDS\n",
    "cols = [color for name, color in mcolors.TABLEAU_COLORS.items()]\n",
    "\n",
    "cloud = WordCloud(background_color='white',\n",
    "                  width=2500,\n",
    "                  height=1800,\n",
    "                  max_words=10,\n",
    "                  colormap='tab10',\n",
    "                  color_func=lambda *args, **kwargs: cols[i],\n",
    "                  prefer_horizontal=1.0)\n",
    "\n",
    "topics = lda_model.show_topics(formatted=False)\n",
    "\n",
    "fig, axes = plt.subplots(2, 5, figsize=(15,10), sharex=True, sharey=True)\n",
    "\n",
    "for i, ax in enumerate(axes.flatten()):\n",
    "    fig.add_subplot(ax)\n",
    "    topic_words = dict(topics[i][1])\n",
    "    cloud.generate_from_frequencies(topic_words, max_font_size=300)\n",
    "    plt.gca().imshow(cloud)\n",
    "    plt.gca().set_title('Topic ' + str(i), fontdict=dict(size=16))\n",
    "    plt.gca().axis('off')\n",
    "\n",
    "plt.subplots_adjust(wspace=0, hspace=0)\n",
    "plt.axis('off')\n",
    "plt.margins(x=0, y=0)\n",
    "plt.tight_layout()\n",
    "plt.show()"
   ]
  },
  {
   "cell_type": "code",
   "execution_count": null,
   "metadata": {},
   "outputs": [],
   "source": []
  },
  {
   "cell_type": "markdown",
   "metadata": {},
   "source": [
    "# Storage"
   ]
  },
  {
   "cell_type": "code",
   "execution_count": null,
   "metadata": {},
   "outputs": [],
   "source": []
  }
 ],
 "metadata": {
  "kernelspec": {
   "display_name": "Python 3",
   "language": "python",
   "name": "python3"
  },
  "language_info": {
   "codemirror_mode": {
    "name": "ipython",
    "version": 3
   },
   "file_extension": ".py",
   "mimetype": "text/x-python",
   "name": "python",
   "nbconvert_exporter": "python",
   "pygments_lexer": "ipython3",
   "version": "3.7.1"
  }
 },
 "nbformat": 4,
 "nbformat_minor": 2
}
