{
 "cells": [
  {
   "cell_type": "markdown",
   "metadata": {},
   "source": [
    "# Genism Links\n",
    "* https://www.machinelearningplus.com/nlp/gensim-tutorial/\n",
    "* https://www.machinelearningplus.com/nlp/topic-modeling-gensim-python/"
   ]
  },
  {
   "cell_type": "markdown",
   "metadata": {},
   "source": [
    "# Download Libraries\n",
    "* [Genism](https://anaconda.org/anaconda/gensim) `conda install -c anaconda gensim`\n",
    "* [Spacy](https://anaconda.org/conda-forge/spacy) `conda install -c conda-forge spacy`"
   ]
  },
  {
   "cell_type": "markdown",
   "metadata": {},
   "source": [
    "# Downloads\n",
    "\n",
    "Download nltk stopwords and spacy model.\n",
    "We will need the stopwords from NLTK and spacy’s en model for text pre-processing. Later, we will be using the spacy model for lemmatization.\n",
    "\n",
    "Lemmatization is nothing but converting a word to its root word. For example: the lemma of the word ‘machines’ is ‘machine’. Likewise, ‘walking’ –> ‘walk’, ‘mice’ –> ‘mouse’ and so on."
   ]
  },
  {
   "cell_type": "code",
   "execution_count": 27,
   "metadata": {},
   "outputs": [],
   "source": [
    "# Run in python console\n",
    "# import nltk\n",
    "# nltk.download('stopwords')\n",
    "\n",
    "# Run in terminal or command prompt\n",
    "# python3 -m spacy download en"
   ]
  },
  {
   "cell_type": "markdown",
   "metadata": {},
   "source": [
    "# Prepare Stopwords"
   ]
  },
  {
   "cell_type": "code",
   "execution_count": 28,
   "metadata": {},
   "outputs": [],
   "source": [
    "from nltk.corpus import stopwords\n",
    "stop_words = stopwords.words('english')\n",
    "stop_words.extend(['from', 'subject', 're', 'edu', 'use'])"
   ]
  },
  {
   "cell_type": "markdown",
   "metadata": {},
   "source": [
    "# Sample Text from PDF"
   ]
  },
  {
   "cell_type": "code",
   "execution_count": 29,
   "metadata": {},
   "outputs": [],
   "source": [
    "sample_text1 = \"SPECIAL ISSUE\\n\\nKenya Gazette Supplement No. 25 (Acts No. 13)\\n\\n \\n\\n \\n\\nREPUBLIC OF KENYA\\n\\nKENYA GAZETTE SUPPLEMENT\\n\\nACTS, 2013\\n\\nNAIROBI, 25th January, 2013\\n\\n \\n\\nCONTENT\\n\\nAct—\\n\\nThe Agriculture, Fisheries and Food Authority Act, 2013 .......ccccseseeees 183\\n\\nerence\\n\\nlawn\\n\\nNATIONAL COUNCIL FOR LAW REPORTING\\n{\\n| RECEIVED\\n\\nbodes\\nbi\\n\\n \\n  \\n \\n \\n\\n©, Box 10444-00700\\nNAIROBI, KE\\n\\nYELL 2719231 FAK: 27126\\neee nn\\n\\n=\\n\\nssamcns ane ten\\n\\nPRINTED AND PUBLISHED BY THE GOVERNMENT PRINTER, NAIROBI\"\n",
    "\n",
    "sample_text2 = \"THE AGRICULTURE, FISHERIES AND FOOD AUTHORITY\\nACT\\n\\nNo. 13 of 2013\\nDate of Assent: 14th January, 2013\\nDate of Commencement: 25th January, 2013\\nARRANGEMENT OF SECTIONS\\n\\nSection\\nPART I—PRELIMINARY\\n\\n1—-Short title and commencement.\\n\\n2—-Interpretation.\\n\\nPART II—ESTABLISHMENT, FUNCTIONS AND POWERS OF\\nTHE AUTHORITY\\n\\n3—Establishment of the Authority.\\n4—Functions of the Authority.\\n5—Board of the Authority.\\n6— Powers of the Authority.\\n7—Conduct of business and affairs of the Authority.\\n8—Delegation by the Authority.\\n9—Remuneration of members of the Board.\\n10-—— The Director General.\\n1*1——Organization of the Secretariat of the Authority.\\n12—Staff.\\n13—-The common seal of the Authority.\\n14—Protection from personal liability.\\n15—Liability for damages.\\nPART III—FINANCES OF THE AUTHORITY\\n16—Funds of the Authority.\\n17—Financial year.\\n18—Annual estimates.\\n19—Accounts and audit.\\n\\n20—Investment of funds.\"\n",
    "\n",
    "sample_text3 = \"184\\nNo. 13 Agriculture, Fisheries and Food Authority 2013\\n\\nPART IV—POLICY GUIDELINES ON DEVELOPMENT,\\nPRESERVATION AND UTILIZATION OF AGRICULTURAL\\nLAND\\n\\n21—Land development guidclincs.\\n\\n22—Rules on preservation, utilization and development of agricultural\\nland.\\n\\n23—Land preservation guidelines.\\nPART V—PROVISIONS ON NOXIOUS OR INVASIVE WEEDS\\n24—Power to declare plant a noxious or invasive weed.\\n25—Duty to report.\\n26—Power of county government officer to enter land.\\n27—Order by county government to clear land.\\n28—Eradication of weed by county government.\\nPART VI—RESPONSIBILITY OF COUNTY GOVERNMENTS\\n29—Respective roles of national and county governments.\\n30— Penalty for non-comphance with order.\\n31— Register of land development orders.\\n32— Land preservation orders.\\n33— Appeal against a land preservation order.\\n34— Cancellation and amendments of orders.\\n35— Register of orders.\\n36— Failure to comply with an order.\\n37— Penalty for failure to comply.\\n\\n38— Right of lessee to compensation for work done in compliance with\\norder.\\n\\n39—Change of owner or occupier affects order.\\n40— Participation of farmers\\nPART VII—MISCELLANEOUS PROVISIONS\\n. 41 —Appeals\\n42— Measurement of weight\\n\\n43—Prohibition of export of some produce\"\n",
    "\n",
    "sample_text4 = \"191\\n2013 Agriculture, Fisheries and Food Authority\\n\\n(a) enter into contracts;\\n\\n(b) manage, control and administer its assets in such\\nmanner and for such purposes as best promote the\\npurpose for which the Authority is established;\\n\\n(c) determine the provisions to be made for its capital\\nand recurrent expenditure and for the reserves of\\nthe Authority;\\n\\n(d) receive any grants, gifts, donations or endowments\\nand make legitimate disbursements therefrom;\\n\\n(e) enter into association with such other bodies or\\norganizations within or outside Kenya as it may\\nconsider desirable or appropriate and in\\nfurtherance of the purposes for which the\\nAuthority is established;\\n\\n(f) open such bank accounts for its funds as may be\\nnecessary;\\n\\n(g) invest any funds of the Authority not immediately\\nrequired for its purposes;\\n\\n(h) undertake any activity necessary for the fulfilment\\nof any of its functions.\\n\\n7.(1) The conduct and regulation of the business and\\naffairs of the Authority shall be as provided in the Second\\nSchedule.\\n\\n(2) Except as provided in the Second Schedule, the\\nAuthority may regulate its own procedure.\\n\\n8. The Authority may, either generally or in any\\nparticular case, delegate to any committee or to any\\nmember, officer, employee or agent of the Authority, the\\nexercise of any of the powers or the performance of any of\\nthe functions or duties of the Authority under this Act or\\nunder any other written law.\\n\\n9. The remuneration payable to members of the\\n\\nBoard shall be determined by the Salaries and\\nRemuneration Commission.\\n\\n10. (1) There shall be a Director General who shall\\nbe the chief executive officer of the Authority be\\nappointed by the Board of the Authority through a\\ncompetitive recruitment process.\\n\\n(2) The appointment of the Director General of the\\n\\nNo. 13\\n\\nConduct of\\nbusiness and\\naffairs of the\\nAuthority.\\n\\nDelegation by the\\nAuthority.\\n\\nRemuneration of\\nmembers of the\\nBoard.\\n\\nDirector General.\""
   ]
  },
  {
   "cell_type": "markdown",
   "metadata": {},
   "source": [
    "# Import Statements"
   ]
  },
  {
   "cell_type": "code",
   "execution_count": 45,
   "metadata": {},
   "outputs": [],
   "source": [
    "# Spacy for lemmatization\n",
    "import spacy\n",
    "\n",
    "# Gensim\n",
    "import gensim\n",
    "import gensim.corpora as corpora\n",
    "from gensim.utils import simple_preprocess\n",
    "from gensim.models import CoherenceModel\n",
    "\n",
    "from pprint import pprint"
   ]
  },
  {
   "cell_type": "markdown",
   "metadata": {},
   "source": [
    "# Clean Data"
   ]
  },
  {
   "cell_type": "code",
   "execution_count": 31,
   "metadata": {},
   "outputs": [],
   "source": [
    "import re\n",
    "# Convert to list\n",
    "data = [sample_text1]\n",
    "\n",
    "# Remove new line characters\n",
    "# data = [re.sub('\\s+', ' ', sent) for sent in data]\n",
    "\n",
    "# # Remove distracting single quotes\n",
    "# data = [re.sub(\"\\'\", \"\", sent) for sent in data]\n",
    "\n",
    "# pprint(data[:1])"
   ]
  },
  {
   "cell_type": "code",
   "execution_count": 32,
   "metadata": {},
   "outputs": [
    {
     "name": "stdout",
     "output_type": "stream",
     "text": [
      "[['special', 'issue', 'kenya', 'gazette', 'supplement', 'no', 'acts', 'no', 'republic', 'of', 'kenya', 'kenya', 'gazette', 'supplement', 'acts', 'nairobi', 'th', 'january', 'content', 'act', 'the', 'agriculture', 'fisheries', 'and', 'food', 'authority', 'act', 'ccccseseeees', 'erence', 'lawn', 'national', 'council', 'for', 'law', 'reporting', 'received', 'bodes', 'bi', 'box', 'nairobi', 'ke', 'yell', 'fak', 'eee', 'nn', 'ssamcns', 'ane', 'ten', 'printed', 'and', 'published', 'by', 'the', 'government', 'printer', 'nairobi']]\n"
     ]
    }
   ],
   "source": [
    "def sent_to_words(sentences):\n",
    "    for sentence in sentences:\n",
    "        yield(gensim.utils.simple_preprocess(str(sentence), deacc=True))  # deacc=True removes punctuations\n",
    "\n",
    "data_words = list(sent_to_words(data))\n",
    "\n",
    "print(data_words[:1])"
   ]
  },
  {
   "cell_type": "markdown",
   "metadata": {},
   "source": [
    "# Creating Bigram and Trigram Models"
   ]
  },
  {
   "cell_type": "code",
   "execution_count": 38,
   "metadata": {},
   "outputs": [
    {
     "name": "stdout",
     "output_type": "stream",
     "text": [
      "['special', 'issue', 'kenya', 'gazette', 'supplement', 'no', 'acts', 'no', 'republic', 'of', 'kenya', 'kenya', 'gazette', 'supplement', 'acts', 'nairobi', 'th', 'january', 'content', 'act', 'the', 'agriculture', 'fisheries', 'and', 'food', 'authority', 'act', 'ccccseseeees', 'erence', 'lawn', 'national', 'council', 'for', 'law', 'reporting', 'received', 'bodes', 'bi', 'box', 'nairobi', 'ke', 'yell', 'fak', 'eee', 'nn', 'ssamcns', 'ane', 'ten', 'printed', 'and', 'published', 'by', 'the', 'government', 'printer', 'nairobi']\n"
     ]
    }
   ],
   "source": [
    "# Build the bigram and trigram models\n",
    "# bigram = gensim.models.Phrases(data_words, min_count=5, threshold=100) # higher threshold fewer phrases.\n",
    "# trigram = gensim.models.Phrases(bigram[data_words], threshold=100)  \n",
    "\n",
    "# Faster way to get a sentence clubbed as a trigram/bigram\n",
    "bigram_mod = gensim.models.phrases.Phraser(bigram)\n",
    "trigram_mod = gensim.models.phrases.Phraser(trigram)\n",
    "\n",
    "# See trigram example\n",
    "print(trigram_mod[bigram_mod[data_words[0]]])"
   ]
  },
  {
   "cell_type": "markdown",
   "metadata": {},
   "source": [
    "# Remove Stopwords, Make Bigrams, and Lemmatize"
   ]
  },
  {
   "cell_type": "code",
   "execution_count": 39,
   "metadata": {},
   "outputs": [
    {
     "name": "stdout",
     "output_type": "stream",
     "text": [
      "[['special', 'issue', 'kenya', 'gazette', 'supplement', 'act', 'republic', 'kenya', 'kenya', 'gazette', 'supplement', 'act', 'nairobi', 'january', 'content', 'act', 'agriculture', 'fishery', 'food', 'authority', 'act', 'ccccseseeee', 'erence', 'lawn', 'national', 'council', 'law', 'reporting', 'receive', 'bode', 'box', 'nairobi', 'yell', 'fak', 'eee', 'nn', 'ssamcns', 'print', 'publish', 'government', 'printer', 'nairobi']]\n"
     ]
    }
   ],
   "source": [
    "\n",
    "# Define functions for stopwords, bigrams, trigrams and lemmatization\n",
    "def remove_stopwords(texts):\n",
    "    return [[word for word in simple_preprocess(str(doc)) if word not in stop_words] for doc in texts]\n",
    "\n",
    "def make_bigrams(texts):\n",
    "    return [bigram_mod[doc] for doc in texts]\n",
    "\n",
    "def make_trigrams(texts):\n",
    "    return [trigram_mod[bigram_mod[doc]] for doc in texts]\n",
    "\n",
    "def lemmatization(texts, allowed_postags=['NOUN', 'ADJ', 'VERB', 'ADV']):\n",
    "    \"\"\"https://spacy.io/api/annotation\"\"\"\n",
    "    texts_out = []\n",
    "    for sent in texts:\n",
    "        doc = nlp(\" \".join(sent)) \n",
    "        texts_out.append([token.lemma_ for token in doc if token.pos_ in allowed_postags])\n",
    "    return texts_out\n",
    "\n",
    "# Remove Stop Words\n",
    "data_words_nostops = remove_stopwords(data_words)\n",
    "\n",
    "# Form Bigrams\n",
    "data_words_bigrams = make_bigrams(data_words_nostops)\n",
    "\n",
    "# Initialize spacy 'en' model, keeping only tagger component (for efficiency)\n",
    "# python3 -m spacy download en\n",
    "nlp = spacy.load('en', disable=['parser', 'ner'])\n",
    "\n",
    "# Do lemmatization keeping only noun, adj, vb, adv\n",
    "data_lemmatized = lemmatization(data_words_bigrams, allowed_postags=['NOUN', 'ADJ', 'VERB', 'ADV'])\n",
    "\n",
    "print(data_lemmatized[:1])"
   ]
  },
  {
   "cell_type": "markdown",
   "metadata": {},
   "source": [
    "# Create Dictionary and Corpus For Topic Modeling"
   ]
  },
  {
   "cell_type": "code",
   "execution_count": 42,
   "metadata": {},
   "outputs": [
    {
     "name": "stdout",
     "output_type": "stream",
     "text": [
      "[[(0, 4), (1, 1), (2, 1), (3, 1), (4, 1), (5, 1), (6, 1), (7, 1), (8, 1), (9, 1), (10, 1), (11, 1), (12, 1), (13, 2), (14, 1), (15, 1), (16, 1), (17, 3), (18, 1), (19, 1), (20, 3), (21, 1), (22, 1), (23, 1), (24, 1), (25, 1), (26, 1), (27, 1), (28, 1), (29, 1), (30, 1), (31, 2), (32, 1)]]\n",
      "[[('act', 4), ('agriculture', 1), ('authority', 1), ('bode', 1), ('box', 1), ('ccccseseeee', 1), ('content', 1), ('council', 1), ('eee', 1), ('erence', 1), ('fak', 1), ('fishery', 1), ('food', 1), ('gazette', 2), ('government', 1), ('issue', 1), ('january', 1), ('kenya', 3), ('law', 1), ('lawn', 1), ('nairobi', 3), ('national', 1), ('nn', 1), ('print', 1), ('printer', 1), ('publish', 1), ('receive', 1), ('reporting', 1), ('republic', 1), ('special', 1), ('ssamcns', 1), ('supplement', 2), ('yell', 1)]]\n"
     ]
    }
   ],
   "source": [
    "# Create Dictionary\n",
    "id2word = corpora.Dictionary(data_lemmatized)\n",
    "\n",
    "# Create Corpus\n",
    "texts = data_lemmatized\n",
    "\n",
    "# Term Document Frequency\n",
    "corpus = [id2word.doc2bow(text) for text in texts]\n",
    "\n",
    "# View. Output in form of (word_id, word_frequency)\n",
    "print(corpus[:1])\n",
    "\n",
    "# Human readable format of corpus (term-frequency)\n",
    "print([[(id2word[id], freq) for id, freq in cp] for cp in corpus[:1]])"
   ]
  },
  {
   "cell_type": "markdown",
   "metadata": {},
   "source": [
    "# Build the Topic Model"
   ]
  },
  {
   "cell_type": "code",
   "execution_count": 43,
   "metadata": {},
   "outputs": [],
   "source": [
    "# Build LDA model\n",
    "lda_model = gensim.models.ldamodel.LdaModel(corpus=corpus,\n",
    "                                           id2word=id2word,\n",
    "                                           num_topics=5, \n",
    "                                           random_state=100,\n",
    "                                           update_every=1,\n",
    "                                           chunksize=100,\n",
    "                                           passes=10,\n",
    "                                           alpha='auto',\n",
    "                                           per_word_topics=True)"
   ]
  },
  {
   "cell_type": "markdown",
   "metadata": {},
   "source": [
    "# View the Topics"
   ]
  },
  {
   "cell_type": "code",
   "execution_count": 46,
   "metadata": {},
   "outputs": [
    {
     "name": "stdout",
     "output_type": "stream",
     "text": [
      "[(0,\n",
      "  '0.031*\"nairobi\" + 0.031*\"act\" + 0.031*\"gazette\" + 0.031*\"kenya\" + '\n",
      "  '0.030*\"supplement\" + 0.030*\"authority\" + 0.030*\"printer\" + '\n",
      "  '0.030*\"reporting\" + 0.030*\"eee\" + 0.030*\"ssamcns\"'),\n",
      " (1,\n",
      "  '0.031*\"kenya\" + 0.031*\"act\" + 0.031*\"nairobi\" + 0.031*\"supplement\" + '\n",
      "  '0.031*\"gazette\" + 0.030*\"council\" + 0.030*\"yell\" + 0.030*\"content\" + '\n",
      "  '0.030*\"law\" + 0.030*\"publish\"'),\n",
      " (2,\n",
      "  '0.030*\"nairobi\" + 0.030*\"kenya\" + 0.030*\"act\" + 0.030*\"gazette\" + '\n",
      "  '0.030*\"law\" + 0.030*\"supplement\" + 0.030*\"nn\" + 0.030*\"agriculture\" + '\n",
      "  '0.030*\"content\" + 0.030*\"republic\"'),\n",
      " (3,\n",
      "  '0.086*\"act\" + 0.066*\"kenya\" + 0.066*\"nairobi\" + 0.045*\"gazette\" + '\n",
      "  '0.045*\"supplement\" + 0.025*\"receive\" + 0.025*\"national\" + 0.025*\"erence\" + '\n",
      "  '0.025*\"special\" + 0.025*\"government\"'),\n",
      " (4,\n",
      "  '0.030*\"act\" + 0.030*\"nairobi\" + 0.030*\"kenya\" + 0.030*\"gazette\" + '\n",
      "  '0.030*\"supplement\" + 0.030*\"ssamcns\" + 0.030*\"nn\" + 0.030*\"national\" + '\n",
      "  '0.030*\"january\" + 0.030*\"eee\"')]\n"
     ]
    }
   ],
   "source": [
    "# Print the Keywords in the 5 topics\n",
    "pprint(lda_model.print_topics())\n",
    "doc_lda = lda_model[corpus]"
   ]
  }
 ],
 "metadata": {
  "kernelspec": {
   "display_name": "Python 3",
   "language": "python",
   "name": "python3"
  },
  "language_info": {
   "codemirror_mode": {
    "name": "ipython",
    "version": 3
   },
   "file_extension": ".py",
   "mimetype": "text/x-python",
   "name": "python",
   "nbconvert_exporter": "python",
   "pygments_lexer": "ipython3",
   "version": "3.7.1"
  }
 },
 "nbformat": 4,
 "nbformat_minor": 2
}
