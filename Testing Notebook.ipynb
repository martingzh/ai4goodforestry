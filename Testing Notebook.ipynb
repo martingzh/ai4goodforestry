{
 "cells": [
  {
   "cell_type": "markdown",
   "metadata": {},
   "source": [
    "# Testing Notebook"
   ]
  },
  {
   "cell_type": "markdown",
   "metadata": {},
   "source": [
    "The purpose of this Notebook is purely for testing purposes."
   ]
  },
  {
   "cell_type": "markdown",
   "metadata": {},
   "source": [
    "## Testing OCR_pipeline.py"
   ]
  },
  {
   "cell_type": "code",
   "execution_count": 1,
   "metadata": {
    "collapsed": true
   },
   "outputs": [],
   "source": [
    "import OCR_pipeline"
   ]
  },
  {
   "cell_type": "code",
   "execution_count": 4,
   "metadata": {},
   "outputs": [
    {
     "name": "stdout",
     "output_type": "stream",
     "text": [
      "Images converted to binary strings\n",
      "Paper successfully converted!\n",
      "On page 0: \n",
      "(datetime.datetime(2019, 3, 25, 0, 0), (42, 47))\n",
      "(datetime.datetime(2019, 3, 13, 0, 0), (55, 59))\n",
      "(datetime.datetime(2013, 3, 14, 0, 0), (117, 125))\n",
      "(datetime.datetime(2013, 1, 25, 0, 0), (132, 157))\n",
      "(datetime.datetime(2013, 3, 14, 0, 0), (221, 235))\n",
      "(datetime.datetime(183, 3, 14, 0, 0), (238, 244))\n",
      "['The', 'Agriculture,', 'Fisheries', 'and', 'Food', 'Authority', 'Act,', '2013', '......', 'ccc', '183'] True False None\n",
      "['SPECIAL', 'ISSUE', 'Kenya', 'Gazette', 'Supplement', 'No.', '25', '(Acts', 'No.', '13)', 'REPUBLIC', 'OF', 'KENYA', 'KENYA', 'GAZETTE', 'SUPPLEMENT', 'ACTS,', '2013', 'NAIROBI,', '25th', 'January,', '2013', 'CONTENT', 'Act—', 'The', 'Agriculture,', 'Fisheries', 'and', 'Food', 'Authority', 'Act,', '2013', '......', 'ccc', '183', 'earner', 'ate', 'NATIONAL', 'COUNCIL', 'FOR', 'LAW', 'REPORTING', '{', '|', 'RECEIVED', 'bods', 'bie', '©,', 'Box', '10444-00700', 'NAIROBI,', 'KE', 'FELL?', '19231', 'FAK', 'er', 'tab', 'eee', 'nnn', 'Le', 'ssamcns', 'anes', 'ten', 'PRINTED', 'AND', 'PUBLISHED', 'BY', 'THE', 'GOVERNMENT', 'PRINTER,', 'NAIROBI']\n"
     ]
    },
    {
     "ename": "TypeError",
     "evalue": "unhashable type: 'list'",
     "output_type": "error",
     "traceback": [
      "\u001b[0;31m---------------------------------------------------------------------------\u001b[0m",
      "\u001b[0;31mTypeError\u001b[0m                                 Traceback (most recent call last)",
      "\u001b[0;32m<ipython-input-4-b3ff13f448da>\u001b[0m in \u001b[0;36m<module>\u001b[0;34m()\u001b[0m\n\u001b[1;32m      1\u001b[0m \u001b[0;31m# Test extractTextFromPaper(filename)\u001b[0m\u001b[0;34m\u001b[0m\u001b[0;34m\u001b[0m\u001b[0m\n\u001b[0;32m----> 2\u001b[0;31m \u001b[0mOCR_pipeline\u001b[0m\u001b[0;34m.\u001b[0m\u001b[0mextractTextFromPaper\u001b[0m\u001b[0;34m(\u001b[0m\u001b[0;34m\"sample data/Kenya/AgricultureFisheriesandFoodAuthorityNo13of2013.PDF\"\u001b[0m\u001b[0;34m)\u001b[0m\u001b[0;34m\u001b[0m\u001b[0m\n\u001b[0m",
      "\u001b[0;32m/Users/apple/Documents/Berkeley/Work/Senior Year/Spring 2019/IEOR 135/ai4good/ai4goodforestry/OCR_pipeline.py\u001b[0m in \u001b[0;36mextractTextFromPaper\u001b[0;34m(filename)\u001b[0m\n\u001b[1;32m     40\u001b[0m     \u001b[0mprint\u001b[0m\u001b[0;34m(\u001b[0m\u001b[0;34m\"Paper successfully converted!\"\u001b[0m\u001b[0;34m)\u001b[0m\u001b[0;34m\u001b[0m\u001b[0m\n\u001b[1;32m     41\u001b[0m \u001b[0;34m\u001b[0m\u001b[0m\n\u001b[0;32m---> 42\u001b[0;31m     \u001b[0mmetadata\u001b[0m \u001b[0;34m=\u001b[0m \u001b[0mextractMetaData\u001b[0m\u001b[0;34m(\u001b[0m\u001b[0mfinal_text\u001b[0m\u001b[0;34m)\u001b[0m\u001b[0;34m\u001b[0m\u001b[0m\n\u001b[0m\u001b[1;32m     43\u001b[0m     \u001b[0;32mreturn\u001b[0m \u001b[0;34m(\u001b[0m\u001b[0mfinal_text\u001b[0m\u001b[0;34m,\u001b[0m \u001b[0mmetadata\u001b[0m\u001b[0;34m)\u001b[0m\u001b[0;34m\u001b[0m\u001b[0m\n\u001b[1;32m     44\u001b[0m \u001b[0;34m\u001b[0m\u001b[0m\n",
      "\u001b[0;32m/Users/apple/Documents/Berkeley/Work/Senior Year/Spring 2019/IEOR 135/ai4good/ai4goodforestry/OCR_pipeline.py\u001b[0m in \u001b[0;36mextractMetaData\u001b[0;34m(extractedText)\u001b[0m\n\u001b[1;32m     98\u001b[0m         \u001b[0mplaces\u001b[0m \u001b[0;34m=\u001b[0m \u001b[0mGeoText\u001b[0m\u001b[0;34m(\u001b[0m\u001b[0mtarget\u001b[0m\u001b[0;34m)\u001b[0m\u001b[0;34m\u001b[0m\u001b[0m\n\u001b[1;32m     99\u001b[0m         \u001b[0;32mif\u001b[0m \u001b[0mlen\u001b[0m\u001b[0;34m(\u001b[0m\u001b[0mplaces\u001b[0m\u001b[0;34m.\u001b[0m\u001b[0mcountries\u001b[0m\u001b[0;34m)\u001b[0m \u001b[0;34m>\u001b[0m \u001b[0;36m0\u001b[0m\u001b[0;34m:\u001b[0m\u001b[0;34m\u001b[0m\u001b[0m\n\u001b[0;32m--> 100\u001b[0;31m             \u001b[0mcountry\u001b[0m\u001b[0;34m.\u001b[0m\u001b[0madd\u001b[0m\u001b[0;34m(\u001b[0m\u001b[0mplaces\u001b[0m\u001b[0;34m.\u001b[0m\u001b[0mcountries\u001b[0m\u001b[0;34m)\u001b[0m\u001b[0;34m\u001b[0m\u001b[0m\n\u001b[0m\u001b[1;32m    101\u001b[0m \u001b[0;31m#             print (places.cities)\u001b[0m\u001b[0;34m\u001b[0m\u001b[0;34m\u001b[0m\u001b[0m\n\u001b[1;32m    102\u001b[0m \u001b[0;34m\u001b[0m\u001b[0m\n",
      "\u001b[0;31mTypeError\u001b[0m: unhashable type: 'list'"
     ]
    }
   ],
   "source": [
    "# Test extractTextFromPaper(filename)\n",
    "OCR_pipeline.extractTextFromPaper(\"sample data/Kenya/AgricultureFisheriesandFoodAuthorityNo13of2013.PDF\")"
   ]
  },
  {
   "cell_type": "code",
   "execution_count": 3,
   "metadata": {
    "collapsed": true
   },
   "outputs": [],
   "source": [
    "# Test extractTextFromAllPapers(foldername)\n"
   ]
  },
  {
   "cell_type": "markdown",
   "metadata": {},
   "source": [
    "## Testing storage.py"
   ]
  },
  {
   "cell_type": "code",
   "execution_count": 2,
   "metadata": {
    "collapsed": true
   },
   "outputs": [],
   "source": [
    "import storage"
   ]
  },
  {
   "cell_type": "code",
   "execution_count": 3,
   "metadata": {},
   "outputs": [
    {
     "name": "stdout",
     "output_type": "stream",
     "text": [
      "Images converted to binary strings\n",
      "Paper successfully converted!\n",
      "On page 0: \n",
      "(datetime.datetime(2019, 3, 25, 0, 0), (42, 47))\n",
      "(datetime.datetime(2019, 3, 13, 0, 0), (55, 59))\n",
      "(datetime.datetime(2013, 3, 14, 0, 0), (117, 125))\n",
      "(datetime.datetime(2013, 1, 25, 0, 0), (132, 157))\n",
      "(datetime.datetime(2013, 3, 14, 0, 0), (221, 235))\n",
      "(datetime.datetime(183, 3, 14, 0, 0), (238, 244))\n",
      "['The', 'Agriculture,', 'Fisheries', 'and', 'Food', 'Authority', 'Act,', '2013', '......', 'ccc', '183'] True False None\n",
      "['SPECIAL', 'ISSUE', 'Kenya', 'Gazette', 'Supplement', 'No.', '25', '(Acts', 'No.', '13)', 'REPUBLIC', 'OF', 'KENYA', 'KENYA', 'GAZETTE', 'SUPPLEMENT', 'ACTS,', '2013', 'NAIROBI,', '25th', 'January,', '2013', 'CONTENT', 'Act—', 'The', 'Agriculture,', 'Fisheries', 'and', 'Food', 'Authority', 'Act,', '2013', '......', 'ccc', '183', 'earner', 'ate', 'NATIONAL', 'COUNCIL', 'FOR', 'LAW', 'REPORTING', '{', '|', 'RECEIVED', 'bods', 'bie', '©,', 'Box', '10444-00700', 'NAIROBI,', 'KE', 'FELL?', '19231', 'FAK', 'er', 'tab', 'eee', 'nnn', 'Le', 'ssamcns', 'anes', 'ten', 'PRINTED', 'AND', 'PUBLISHED', 'BY', 'THE', 'GOVERNMENT', 'PRINTER,', 'NAIROBI']\n",
      "Metadata extracted!\n"
     ]
    }
   ],
   "source": [
    "# Create Policy Paper object\n",
    "paper_1 = storage.PolicyPaper(\"sample data/Kenya/AgricultureFisheriesandFoodAuthorityNo13of2013.PDF\")"
   ]
  },
  {
   "cell_type": "code",
   "execution_count": 4,
   "metadata": {},
   "outputs": [
    {
     "data": {
      "text/plain": [
       "'The Agriculture, Fisheries and Food Authority Act, 2013 ...... ccc 183'"
      ]
     },
     "execution_count": 4,
     "metadata": {},
     "output_type": "execute_result"
    }
   ],
   "source": [
    "paper_1.title[0]"
   ]
  },
  {
   "cell_type": "code",
   "execution_count": 5,
   "metadata": {},
   "outputs": [
    {
     "data": {
      "text/plain": [
       "True"
      ]
     },
     "execution_count": 5,
     "metadata": {},
     "output_type": "execute_result"
    }
   ],
   "source": [
    "# test serializeObject(paper)\n",
    "storage.serializeObject(paper_1)"
   ]
  },
  {
   "cell_type": "code",
   "execution_count": 24,
   "metadata": {},
   "outputs": [
    {
     "data": {
      "text/plain": [
       "'object storage/The Agriculture, Fisheries and Food Authority Act, 2013 ...... ccc 183.txt'"
      ]
     },
     "execution_count": 24,
     "metadata": {},
     "output_type": "execute_result"
    }
   ],
   "source": [
    "\"object storage/\" + paper_1.title[0] + \".txt\""
   ]
  },
  {
   "cell_type": "code",
   "execution_count": 7,
   "metadata": {},
   "outputs": [],
   "source": [
    "# test deserializeObject(filename)\n",
    "obj = storage.deserializeObject(\"object storage/The Agriculture, Fisheries and Food Authority Act, 2013 ...... ccc 183.txt\")"
   ]
  },
  {
   "cell_type": "code",
   "execution_count": 8,
   "metadata": {},
   "outputs": [
    {
     "data": {
      "text/plain": [
       "<storage.PolicyPaper at 0x237da4eb8>"
      ]
     },
     "execution_count": 8,
     "metadata": {},
     "output_type": "execute_result"
    }
   ],
   "source": [
    "obj"
   ]
  },
  {
   "cell_type": "code",
   "execution_count": null,
   "metadata": {
    "collapsed": true
   },
   "outputs": [],
   "source": []
  }
 ],
 "metadata": {
  "kernelspec": {
   "display_name": "Python 3",
   "language": "python",
   "name": "python3"
  },
  "language_info": {
   "codemirror_mode": {
    "name": "ipython",
    "version": 3
   },
   "file_extension": ".py",
   "mimetype": "text/x-python",
   "name": "python",
   "nbconvert_exporter": "python",
   "pygments_lexer": "ipython3",
   "version": "3.6.2"
  }
 },
 "nbformat": 4,
 "nbformat_minor": 2
}
