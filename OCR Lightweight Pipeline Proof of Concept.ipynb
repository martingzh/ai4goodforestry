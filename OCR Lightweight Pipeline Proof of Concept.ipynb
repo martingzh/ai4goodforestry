{
 "cells": [
  {
   "cell_type": "markdown",
   "metadata": {},
   "source": [
    "# OCR Lightweight Pipeline Proof of Concept"
   ]
  },
  {
   "cell_type": "markdown",
   "metadata": {},
   "source": [
    "This section will explore the usage of OCR libraries to read in policy paper PDF's in relation to forestry. This notebook specifically is to demonstrate the bare bones of how the pipeline will work. \n",
    "\n",
    "Need to install libraries `pytesseract`, `opencv-python`, `pillow`, `wand`, and relevant dependencies. Use: \n",
    "\n",
    "`pip install pillow`\n",
    "\n",
    "`brew install tesseract`\n",
    "\n",
    "`pip install pytesseract`\n",
    "\n",
    "`pip install opencv-python`\n",
    "\n",
    "`pip install wand`\n",
    "\n",
    "`brew install freetype imagemagick`"
   ]
  },
  {
   "cell_type": "code",
   "execution_count": 2,
   "metadata": {
    "collapsed": true
   },
   "outputs": [],
   "source": [
    "# from PIL import Image as\n",
    "import PIL\n",
    "from wand.image import Image\n",
    "import pytesseract\n",
    "import cv2\n",
    "import os\n",
    "import numpy as np\n",
    "import io\n",
    "\n",
    "# import PyPDF2 \n",
    "# import textract\n",
    "# from nltk.tokenize import word_tokenize\n",
    "# from nltk.corpus import stopwords\n",
    "\n",
    "# import wand"
   ]
  },
  {
   "cell_type": "markdown",
   "metadata": {},
   "source": [
    "## Text Extraction"
   ]
  },
  {
   "cell_type": "markdown",
   "metadata": {},
   "source": [
    "Inspiration from https://pythontips.com/2016/02/25/ocr-on-pdf-files-using-python/"
   ]
  },
  {
   "cell_type": "code",
   "execution_count": 7,
   "metadata": {},
   "outputs": [
    {
     "data": {
      "text/plain": [
       "'.DS_Store'"
      ]
     },
     "execution_count": 7,
     "metadata": {},
     "output_type": "execute_result"
    }
   ],
   "source": [
    "# This should be the absolute path to your pytesseract \n",
    "# pytesseract.pytesseract.tesseract_cmd = '/Users/apple/anaconda3/lib/python3.6/site-packages/pytesseract/pytesseract.py'\n",
    "os.listdir(\"sample data/Kenya\")[0]"
   ]
  },
  {
   "cell_type": "code",
   "execution_count": 4,
   "metadata": {},
   "outputs": [],
   "source": [
    "# Convert a PDF into a form that we can utilize the wand library\n",
    "image_pdf = Image(filename=\"sample data/Kenya/AgricultureFisheriesandFoodAuthorityNo13of2013.PDF\", resolution=300)"
   ]
  },
  {
   "cell_type": "code",
   "execution_count": 4,
   "metadata": {
    "collapsed": true
   },
   "outputs": [],
   "source": [
    "# Convert this to JPEG so that we can extract information that we can feed into pytesseract\n",
    "image_jpeg = image_pdf.convert('jpeg')"
   ]
  },
  {
   "cell_type": "code",
   "execution_count": 5,
   "metadata": {
    "collapsed": true
   },
   "outputs": [],
   "source": [
    "toy_image = []\n",
    "final_text = []"
   ]
  },
  {
   "cell_type": "code",
   "execution_count": 6,
   "metadata": {
    "collapsed": true
   },
   "outputs": [],
   "source": [
    "# Convert the images on each page to blobs (binary strings)\n",
    "for img in image_jpeg.sequence:\n",
    "    img_page = Image(image=img)\n",
    "    toy_image.append(img_page.make_blob('jpeg'))\n"
   ]
  },
  {
   "cell_type": "code",
   "execution_count": 7,
   "metadata": {},
   "outputs": [
    {
     "data": {
      "text/plain": [
       "bytes"
      ]
     },
     "execution_count": 7,
     "metadata": {},
     "output_type": "execute_result"
    }
   ],
   "source": [
    "type(toy_image[0])"
   ]
  },
  {
   "cell_type": "markdown",
   "metadata": {
    "collapsed": true
   },
   "source": [
    "Now that we have these image representations, we can loop OCR over the images in toy_image."
   ]
  },
  {
   "cell_type": "code",
   "execution_count": 8,
   "metadata": {},
   "outputs": [
    {
     "data": {
      "text/plain": [
       "32"
      ]
     },
     "execution_count": 8,
     "metadata": {},
     "output_type": "execute_result"
    }
   ],
   "source": [
    "len(toy_image)"
   ]
  },
  {
   "cell_type": "markdown",
   "metadata": {},
   "source": [
    "This makes sense, as the corresponding PDF has 32 pages. Therefore, each element of the toy_image list represents a page in the original PDF. "
   ]
  },
  {
   "cell_type": "code",
   "execution_count": 9,
   "metadata": {
    "collapsed": true
   },
   "outputs": [],
   "source": [
    "for img in toy_image:\n",
    "    text = pytesseract.image_to_string(PIL.Image.open(io.BytesIO(img)))\n",
    "    final_text.append(text)"
   ]
  },
  {
   "cell_type": "code",
   "execution_count": 13,
   "metadata": {},
   "outputs": [
    {
     "data": {
      "text/plain": [
       "'SPECIAL ISSUE\\n\\nKenya Gazette Supplement No. 25 (Acts No. 13)\\n\\n \\n\\n \\n\\nREPUBLIC OF KENYA\\n\\nKENYA GAZETTE SUPPLEMENT\\n\\nACTS, 2013\\n\\nNAIROBI, 25th January, 2013\\n\\n \\n\\nCONTENT\\n\\nAct—\\n\\nThe Agriculture, Fisheries and Food Authority Act, 2013 ...... ccc 183\\n\\nearner\\n\\nate\\n\\nNATIONAL COUNCIL FOR LAW REPORTING\\n{\\n| RECEIVED\\n\\nbods\\nbie\\n\\n \\n  \\n \\n \\n\\n©, Box 10444-00700\\nNAIROBI, KE\\n\\nFELL? 19231 FAK er tab\\neee nnn\\n\\nLe\\n\\nssamcns anes ten\\n\\nPRINTED AND PUBLISHED BY THE GOVERNMENT PRINTER, NAIROBI'"
      ]
     },
     "execution_count": 13,
     "metadata": {},
     "output_type": "execute_result"
    }
   ],
   "source": [
    "# Page 1\n",
    "final_text[0]"
   ]
  },
  {
   "cell_type": "code",
   "execution_count": 14,
   "metadata": {},
   "outputs": [
    {
     "data": {
      "text/plain": [
       "'THE AGRICULTURE, FISHERIES AND FOOD AUTHORITY\\nACT\\n\\nNo. 13 of 2013\\nDate of Assent: 14th January, 2013\\nDate of Commencement: 25th January, 2013\\nARRANGEMENT OF SECTIONS\\n\\nSection\\nPART I—PRELIMINARY\\n\\n1—-Short title and commencement.\\n\\n2—-Interpretation.\\n\\nPART II—ESTABLISHMENT, FUNCTIONS AND POWERS OF\\nTHE AUTHORITY\\n\\n3—Establishment of the Authority.\\n4—Functions of the Authority.\\n5—Board of the Authority.\\n6— Powers of the Authority.\\n7—Conduct of business and affairs of the Authority.\\n8—Delegation by the Authority.\\n9—Remuneration of members of the Board.\\n10-—— The Director General.\\n1*1—Organization of the Secretariat of the Authority.\\n12—Staff.\\n13~-The common seal of the Authority.\\n14—Protection from personal liability.\\n15—Liability for damages.\\nPART ITI—FINANCES OF THE AUTHORITY\\n16—Funds of the Authority.\\n17—Financial year.\\n18—Annual estimates.\\n19—Accounts and audit.\\n\\n20—Investment of funds.'"
      ]
     },
     "execution_count": 14,
     "metadata": {},
     "output_type": "execute_result"
    }
   ],
   "source": [
    "# Page 2 \n",
    "final_text[1]"
   ]
  },
  {
   "cell_type": "code",
   "execution_count": 15,
   "metadata": {},
   "outputs": [
    {
     "data": {
      "text/plain": [
       "'184\\nNo. 13 Agriculture, Fisheries and Food Authority 2013\\n\\nPART IV—POLICY GUIDELINES ON DEVELOPMENT,\\nPRESERVATION AND UTILIZATION OF AGRICULTURAL\\nLAND\\n\\n21—Land development guidclincs.\\n\\n22—Rules on preservation, utilization and development of agricultural\\nland.\\n\\n23—Land preservation guidelines.\\nPART V—PROVISIONS ON NOXIOUS OR INVASIVE WEEDS\\n24—Power to declare plant a noxious or invasive weed.\\n25—Duty to report.\\n26—Power of county government officer to enter land.\\n27—Order by county government to clear land.\\n28—Eradication of weed by county government.\\nPART VI—RESPONSIBILITY OF COUNTY GOVERNMENTS\\n29—Respective roles of national and county governments.\\n30— Penalty for non-comphance with order.\\n31— Register of land development orders.\\n32—- Land preservation orders.\\n33— Appeal against a land preservation order.\\n34— Cancellation and amendments of orders.\\n35— Register of orders.\\n36— Failure to comply with an order.\\n37— Penalty for failure to comply.\\n\\n38— Right of lessee to compensation for work done in compliance with\\norder.\\n\\n39—Change of owner or occupier affects order.\\n40— Participation of farmers\\nPART VII—MISCELLANEOUS PROVISIONS\\n. 41 —Appeals\\n42— Measurement of weight\\n\\n43—Prohibition of export of some produce'"
      ]
     },
     "execution_count": 15,
     "metadata": {},
     "output_type": "execute_result"
    }
   ],
   "source": [
    "# Page 3\n",
    "final_text[2]"
   ]
  },
  {
   "cell_type": "markdown",
   "metadata": {},
   "source": [
    "## Data Cleaning and Format Conversion"
   ]
  },
  {
   "cell_type": "markdown",
   "metadata": {},
   "source": [
    "### Idea for conversion"
   ]
  },
  {
   "cell_type": "markdown",
   "metadata": {},
   "source": [
    "For purposes of topical analysis, it might be valuable to store the documents as dictionaries. The keys would just be corresponding paragraph position, while the values would just be the paragraphs themselves. \n",
    "\n",
    "For example, let's assume our text is: \n",
    "\n",
    "\"Aristotle was born in 384 B.C. in Stagira in northern Greece. Both of his parents were members of traditional medical families, and his father, Nicomachus, served as court physician to King Amyntus III of Macedonia. His parents died while he was young, and he was likely raised at his family’s home in Stagira. At age 17 he was sent to Athens to enroll in Plato’s Academy. He spent 20 years as a student and teacher at the school, emerging with both a great respect and a good deal of criticism for his teacher’s theories. Plato’s own later writings, in which he softened some earlier positions, likely bear the mark of repeated discussions with his most gifted student.\n",
    "\n",
    "When Plato died in 347, control of the Academy passed to his nephew Speusippus. Aristotle left Athens soon after, though it is not clear whether frustrations at the Academy or political difficulties due to his family’s Macedonian connections hastened his exit. He spent five years on the coast of Asia Minor as a guest of former students at Assos and Lesbos. It was here that he undertook his pioneering research into marine biology and married his wife Pythias, with whom he had his only daughter, also named Pythias.\n",
    "\n",
    "In 342 Aristotle was summoned to Macedonia by King Philip II to tutor his son, the future Alexander the Great—a meeting of great historical figures that, in the words of one modern commentator, “made remarkably little impact on either of them.”\n",
    "\n",
    "Then, if we store this in `dictionary`, then:\n",
    "\n",
    "`dictionary[0]` =  \"Aristotle was born in 384 B.C. in Stagira in northern Greece. Both of his parents were members of traditional medical families, and his father, Nicomachus, served as court physician to King Amyntus III of Macedonia. His parents died while he was young, and he was likely raised at his family’s home in Stagira. At age 17 he was sent to Athens to enroll in Plato’s Academy. He spent 20 years as a student and teacher at the school, emerging with both a great respect and a good deal of criticism for his teacher’s theories. Plato’s own later writings, in which he softened some earlier positions, likely bear the mark of repeated discussions with his most gifted student.\"\n",
    "\n",
    "`dictionary[1]` = \"When Plato died in 347, control of the Academy passed to his nephew Speusippus. Aristotle left Athens soon after, though it is not clear whether frustrations at the Academy or political difficulties due to his family’s Macedonian connections hastened his exit. He spent five years on the coast of Asia Minor as a guest of former students at Assos and Lesbos. It was here that he undertook his pioneering research into marine biology and married his wife Pythias, with whom he had his only daughter, also named Pythias.\"\n",
    "\n",
    "`dictionary[2]` = \"In 342 Aristotle was summoned to Macedonia by King Philip II to tutor his son, the future Alexander the Great—a meeting of great historical figures that, in the words of one modern commentator, “made remarkably little impact on either of them.\"\n",
    "\n",
    "With regards to subsections within documents, then we can expand this final conversion into a multidimensional dictionary, where the outer layer of the dictionary are the subsections, while the inner dictionaries are the corresponding paragraph positions and paragraphs. "
   ]
  },
  {
   "cell_type": "markdown",
   "metadata": {},
   "source": [
    "### Data Cleaning"
   ]
  },
  {
   "cell_type": "code",
   "execution_count": null,
   "metadata": {
    "collapsed": true
   },
   "outputs": [],
   "source": []
  },
  {
   "cell_type": "code",
   "execution_count": null,
   "metadata": {
    "collapsed": true
   },
   "outputs": [],
   "source": []
  },
  {
   "cell_type": "markdown",
   "metadata": {},
   "source": [
    "### Format Conversion"
   ]
  },
  {
   "cell_type": "code",
   "execution_count": null,
   "metadata": {
    "collapsed": true
   },
   "outputs": [],
   "source": []
  },
  {
   "cell_type": "code",
   "execution_count": null,
   "metadata": {
    "collapsed": true
   },
   "outputs": [],
   "source": []
  }
 ],
 "metadata": {
  "kernelspec": {
   "display_name": "Python 3",
   "language": "python",
   "name": "python3"
  },
  "language_info": {
   "codemirror_mode": {
    "name": "ipython",
    "version": 3
   },
   "file_extension": ".py",
   "mimetype": "text/x-python",
   "name": "python",
   "nbconvert_exporter": "python",
   "pygments_lexer": "ipython3",
   "version": "3.6.2"
  }
 },
 "nbformat": 4,
 "nbformat_minor": 2
}
