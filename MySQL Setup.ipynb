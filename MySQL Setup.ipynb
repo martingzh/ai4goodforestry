{
 "cells": [
  {
   "cell_type": "markdown",
   "metadata": {},
   "source": [
    "# MySQL Setup Instructions"
   ]
  },
  {
   "cell_type": "markdown",
   "metadata": {},
   "source": [
    "General setup to get a database called forestry, and a table called PolicyPapers within the forestry database.\n",
    "\n",
    "#### 2 Downloads:\n",
    "* MySQL: Download the DMG Archive for Mac https://dev.mysql.com/downloads/mysql/\n",
    "* MySQL Python Connector: `pip install mysql-connector-python`\n",
    "\n",
    "#### Add this to your bash profile\n",
    "* `vim ~/.bash_profile` \n",
    "* `export PATH=\"/usr/local/mysql/bin:$PATH\"`\n",
    "\n",
    "#### Now, close your terminal and open a new window\n",
    "\n",
    "#### Start MySQL and create a database called forestry\n",
    "* `mysql -u root -p`\n",
    "* `CREATE DATABASE forestry;`\n",
    "\n",
    "#### Now, exit out of MySQL Database and run the following in your terminal\n",
    "\n",
    "#### How to export and load in Database Info\n",
    "* Load in: `mysql -u root -p forestry < dump.txt`\n",
    "    * If the command above gives you an error, you may have to change the collate argument in the dump.txt file. \n",
    "\n",
    "#### Checking that data was loaded in properly\n",
    "* Start the database up and see if new values are added to the PolicyPapers table. The following steps are:\n",
    "    * `mysql -u root -p forestry`\n",
    "    * `SELECT country from PolicyPapers LIMIT 5;`\n",
    "\n",
    "#### Checking that data was loaded in properly\n",
    "* Export: `mysqldump -u root -p forestry PolicyPapers > dump.txt` \n",
    "* More details at https://www.tutorialspoint.com/mysql/mysql-database-export.htm"
   ]
  },
  {
   "cell_type": "code",
   "execution_count": null,
   "metadata": {},
   "outputs": [],
   "source": []
  }
 ],
 "metadata": {
  "kernelspec": {
   "display_name": "Python 3",
   "language": "python",
   "name": "python3"
  },
  "language_info": {
   "codemirror_mode": {
    "name": "ipython",
    "version": 3
   },
   "file_extension": ".py",
   "mimetype": "text/x-python",
   "name": "python",
   "nbconvert_exporter": "python",
   "pygments_lexer": "ipython3",
   "version": "3.7.1"
  }
 },
 "nbformat": 4,
 "nbformat_minor": 2
}
